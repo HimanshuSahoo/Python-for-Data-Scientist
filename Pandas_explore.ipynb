{
  "nbformat": 4,
  "nbformat_minor": 5,
  "metadata": {
    "kernelspec": {
      "display_name": "Python 3",
      "language": "python",
      "name": "python3"
    },
    "language_info": {
      "codemirror_mode": {
        "name": "ipython",
        "version": 3
      },
      "file_extension": ".py",
      "mimetype": "text/x-python",
      "name": "python",
      "nbconvert_exporter": "python",
      "pygments_lexer": "ipython3",
      "version": "3.8.8"
    },
    "toc": {
      "base_numbering": 1,
      "nav_menu": {},
      "number_sections": true,
      "sideBar": true,
      "skip_h1_title": false,
      "title_cell": "Table of Contents",
      "title_sidebar": "Contents",
      "toc_cell": false,
      "toc_position": {},
      "toc_section_display": true,
      "toc_window_display": false
    },
    "varInspector": {
      "cols": {
        "lenName": 16,
        "lenType": 16,
        "lenVar": 40
      },
      "kernels_config": {
        "python": {
          "delete_cmd_postfix": "",
          "delete_cmd_prefix": "del ",
          "library": "var_list.py",
          "varRefreshCmd": "print(var_dic_list())"
        },
        "r": {
          "delete_cmd_postfix": ") ",
          "delete_cmd_prefix": "rm(",
          "library": "var_list.r",
          "varRefreshCmd": "cat(var_dic_list()) "
        }
      },
      "types_to_exclude": [
        "module",
        "function",
        "builtin_function_or_method",
        "instance",
        "_Feature"
      ],
      "window_display": false
    },
    "colab": {
      "name": "Pandas explore.ipynb",
      "provenance": [],
      "include_colab_link": true
    }
  },
  "cells": [
    {
      "cell_type": "markdown",
      "metadata": {
        "id": "view-in-github",
        "colab_type": "text"
      },
      "source": [
        "<a href=\"https://colab.research.google.com/github/HimanshuSahoo/Python-for-Data-Scientist/blob/main/Pandas_explore.ipynb\" target=\"_parent\"><img src=\"https://colab.research.google.com/assets/colab-badge.svg\" alt=\"Open In Colab\"/></a>"
      ]
    },
    {
      "cell_type": "code",
      "metadata": {
        "id": "9931cea5",
        "outputId": "fdc0451f-3c50-4963-b849-3779536cd2c3",
        "colab": {
          "base_uri": "https://localhost:8080/"
        }
      },
      "source": [
        "import pandas as pd\n",
        "df = pd.DataFrame()\n",
        "print(df)"
      ],
      "id": "9931cea5",
      "execution_count": 1,
      "outputs": [
        {
          "output_type": "stream",
          "name": "stdout",
          "text": [
            "Empty DataFrame\n",
            "Columns: []\n",
            "Index: []\n"
          ]
        }
      ]
    },
    {
      "cell_type": "code",
      "metadata": {
        "id": "0d69e9d9",
        "outputId": "bc6d630e-5d0b-4ccb-c9d6-0aab992854d4",
        "colab": {
          "base_uri": "https://localhost:8080/"
        }
      },
      "source": [
        "import pandas as pd\n",
        "data =[1,2,3,4,5]\n",
        "df = pd.DataFrame(data)\n",
        "print(df)"
      ],
      "id": "0d69e9d9",
      "execution_count": 2,
      "outputs": [
        {
          "output_type": "stream",
          "name": "stdout",
          "text": [
            "   0\n",
            "0  1\n",
            "1  2\n",
            "2  3\n",
            "3  4\n",
            "4  5\n"
          ]
        }
      ]
    },
    {
      "cell_type": "code",
      "metadata": {
        "id": "a32ec3a0",
        "outputId": "8c33b00e-f183-45c5-f0f0-683aa12a916e",
        "colab": {
          "base_uri": "https://localhost:8080/"
        }
      },
      "source": [
        "import pandas as pd\n",
        "data = [['Amit',10],['Himanshu',12],['Rounak',15]]\n",
        "df = pd.DataFrame(data,columns = ['Name','Age'])\n",
        "print(df)"
      ],
      "id": "a32ec3a0",
      "execution_count": 3,
      "outputs": [
        {
          "output_type": "stream",
          "name": "stdout",
          "text": [
            "       Name  Age\n",
            "0      Amit   10\n",
            "1  Himanshu   12\n",
            "2    Rounak   15\n"
          ]
        }
      ]
    },
    {
      "cell_type": "code",
      "metadata": {
        "id": "595fc436",
        "outputId": "b2e6a088-d773-4956-b80b-bdfb512d2601",
        "colab": {
          "base_uri": "https://localhost:8080/"
        }
      },
      "source": [
        "import pandas as pd\n",
        "data = [['Amit',10],['Himanshu',12],['Rounak',15]]\n",
        "df = pd.DataFrame(data,columns = ['Name','Age'],dtype=float)\n",
        "print(df)"
      ],
      "id": "595fc436",
      "execution_count": 4,
      "outputs": [
        {
          "output_type": "stream",
          "name": "stdout",
          "text": [
            "       Name   Age\n",
            "0      Amit  10.0\n",
            "1  Himanshu  12.0\n",
            "2    Rounak  15.0\n"
          ]
        }
      ]
    },
    {
      "cell_type": "code",
      "metadata": {
        "id": "f1da1a0b",
        "outputId": "6a71e52c-f008-465f-e465-da09dfd1b7d1",
        "colab": {
          "base_uri": "https://localhost:8080/"
        }
      },
      "source": [
        "import pandas as pd\n",
        "data = {'Name':['Vivek','Sankalp','Pallav','Zahid'],'Age':[28,34,39,42]}\n",
        "df = pd.DataFrame(data)\n",
        "print(df)"
      ],
      "id": "f1da1a0b",
      "execution_count": 5,
      "outputs": [
        {
          "output_type": "stream",
          "name": "stdout",
          "text": [
            "      Name  Age\n",
            "0    Vivek   28\n",
            "1  Sankalp   34\n",
            "2   Pallav   39\n",
            "3    Zahid   42\n"
          ]
        }
      ]
    },
    {
      "cell_type": "code",
      "metadata": {
        "id": "6b26416e",
        "outputId": "42b27d38-323f-46dd-8014-0cd6b148b3b6",
        "colab": {
          "base_uri": "https://localhost:8080/"
        }
      },
      "source": [
        "import pandas as pd\n",
        "data = {'Name':['Vivek','Sankalp','Pallav','Zahid'],'Age':[28,34,39,42]}\n",
        "df = pd.DataFrame(data,index=['rank1','rank2','rank3','rank4'])\n",
        "print(df)"
      ],
      "id": "6b26416e",
      "execution_count": 6,
      "outputs": [
        {
          "output_type": "stream",
          "name": "stdout",
          "text": [
            "          Name  Age\n",
            "rank1    Vivek   28\n",
            "rank2  Sankalp   34\n",
            "rank3   Pallav   39\n",
            "rank4    Zahid   42\n"
          ]
        }
      ]
    },
    {
      "cell_type": "code",
      "metadata": {
        "id": "2e66c6bb",
        "outputId": "6ac307ce-78cf-4885-c27f-5c0623274cd3",
        "colab": {
          "base_uri": "https://localhost:8080/"
        }
      },
      "source": [
        "import pandas as pd\n",
        "data = [{'a':1,'b':2},{'a':5,'b':10,'c':20}]\n",
        "df = pd.DataFrame(data)\n",
        "print(df)"
      ],
      "id": "2e66c6bb",
      "execution_count": 7,
      "outputs": [
        {
          "output_type": "stream",
          "name": "stdout",
          "text": [
            "   a   b     c\n",
            "0  1   2   NaN\n",
            "1  5  10  20.0\n"
          ]
        }
      ]
    },
    {
      "cell_type": "code",
      "metadata": {
        "id": "8bb0149f",
        "outputId": "76f2ad23-40b8-4918-da88-f8a420de8c51",
        "colab": {
          "base_uri": "https://localhost:8080/"
        }
      },
      "source": [
        "import pandas as pd\n",
        "data = [{'a':1,'b':2},{'a':5,'b':10,'c':20}]\n",
        "df = pd.DataFrame(data,index = ['first','second'])\n",
        "print(df)"
      ],
      "id": "8bb0149f",
      "execution_count": 8,
      "outputs": [
        {
          "output_type": "stream",
          "name": "stdout",
          "text": [
            "        a   b     c\n",
            "first   1   2   NaN\n",
            "second  5  10  20.0\n"
          ]
        }
      ]
    },
    {
      "cell_type": "code",
      "metadata": {
        "id": "9729c527",
        "outputId": "1cb4ce81-feab-4dde-df06-0e1df496dffa",
        "colab": {
          "base_uri": "https://localhost:8080/"
        }
      },
      "source": [
        "import pandas as pd\n",
        "data = [{'a':1,'b':2},{'a':5,'b':10,'c':20}]\n",
        "\n",
        "df1 = pd.DataFrame(data,index = ['first','second'],columns=['a','b'])\n",
        "\n",
        "df2 = pd.DataFrame(data,index = ['first','second'],columns=['a','b1'])\n",
        "\n",
        "print(df1)\n",
        "print(df2)"
      ],
      "id": "9729c527",
      "execution_count": 9,
      "outputs": [
        {
          "output_type": "stream",
          "name": "stdout",
          "text": [
            "        a   b\n",
            "first   1   2\n",
            "second  5  10\n",
            "        a  b1\n",
            "first   1 NaN\n",
            "second  5 NaN\n"
          ]
        }
      ]
    },
    {
      "cell_type": "code",
      "metadata": {
        "id": "082889e7"
      },
      "source": [
        ""
      ],
      "id": "082889e7",
      "execution_count": 9,
      "outputs": []
    }
  ]
}