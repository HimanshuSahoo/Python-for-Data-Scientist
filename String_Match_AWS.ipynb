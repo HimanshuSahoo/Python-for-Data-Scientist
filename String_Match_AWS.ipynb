{
  "nbformat": 4,
  "nbformat_minor": 5,
  "metadata": {
    "kernelspec": {
      "display_name": "Python 3",
      "language": "python",
      "name": "python3"
    },
    "language_info": {
      "codemirror_mode": {
        "name": "ipython",
        "version": 3
      },
      "file_extension": ".py",
      "mimetype": "text/x-python",
      "name": "python",
      "nbconvert_exporter": "python",
      "pygments_lexer": "ipython3",
      "version": "3.8.8"
    },
    "toc": {
      "base_numbering": 1,
      "nav_menu": {},
      "number_sections": true,
      "sideBar": true,
      "skip_h1_title": false,
      "title_cell": "Table of Contents",
      "title_sidebar": "Contents",
      "toc_cell": false,
      "toc_position": {},
      "toc_section_display": true,
      "toc_window_display": false
    },
    "varInspector": {
      "cols": {
        "lenName": 16,
        "lenType": 16,
        "lenVar": 40
      },
      "kernels_config": {
        "python": {
          "delete_cmd_postfix": "",
          "delete_cmd_prefix": "del ",
          "library": "var_list.py",
          "varRefreshCmd": "print(var_dic_list())"
        },
        "r": {
          "delete_cmd_postfix": ") ",
          "delete_cmd_prefix": "rm(",
          "library": "var_list.r",
          "varRefreshCmd": "cat(var_dic_list()) "
        }
      },
      "types_to_exclude": [
        "module",
        "function",
        "builtin_function_or_method",
        "instance",
        "_Feature"
      ],
      "window_display": false
    },
    "colab": {
      "name": "String Match_AWS.ipynb",
      "provenance": [],
      "include_colab_link": true
    }
  },
  "cells": [
    {
      "cell_type": "markdown",
      "metadata": {
        "id": "view-in-github",
        "colab_type": "text"
      },
      "source": [
        "<a href=\"https://colab.research.google.com/github/HimanshuSahoo/Python-for-Data-Scientist/blob/main/String_Match_AWS.ipynb\" target=\"_parent\"><img src=\"https://colab.research.google.com/assets/colab-badge.svg\" alt=\"Open In Colab\"/></a>"
      ]
    },
    {
      "cell_type": "code",
      "metadata": {
        "id": "5566e62d"
      },
      "source": [
        "import base64\n",
        "import boto3\n",
        "import gzip\n",
        "import json\n",
        "import logging\n",
        "import os"
      ],
      "id": "5566e62d",
      "execution_count": null,
      "outputs": []
    },
    {
      "cell_type": "code",
      "metadata": {
        "id": "aaa7b7f1"
      },
      "source": [
        "import numpy as np\n",
        "import pandas as pd"
      ],
      "id": "aaa7b7f1",
      "execution_count": null,
      "outputs": []
    },
    {
      "cell_type": "code",
      "metadata": {
        "id": "04d2b1bf"
      },
      "source": [
        "import warnings\n",
        "warnings.filterwarnings('ignore')"
      ],
      "id": "04d2b1bf",
      "execution_count": null,
      "outputs": []
    },
    {
      "cell_type": "code",
      "metadata": {
        "id": "0fd24a0c"
      },
      "source": [
        "df=pd.read_csv('Logfile.csv',encoding='latin1')"
      ],
      "id": "0fd24a0c",
      "execution_count": null,
      "outputs": []
    },
    {
      "cell_type": "code",
      "metadata": {
        "id": "250aa983",
        "outputId": "bb0df133-028e-4af6-ef95-a793c159494f"
      },
      "source": [
        "df"
      ],
      "id": "250aa983",
      "execution_count": null,
      "outputs": [
        {
          "data": {
            "text/html": [
              "<div>\n",
              "<style scoped>\n",
              "    .dataframe tbody tr th:only-of-type {\n",
              "        vertical-align: middle;\n",
              "    }\n",
              "\n",
              "    .dataframe tbody tr th {\n",
              "        vertical-align: top;\n",
              "    }\n",
              "\n",
              "    .dataframe thead th {\n",
              "        text-align: right;\n",
              "    }\n",
              "</style>\n",
              "<table border=\"1\" class=\"dataframe\">\n",
              "  <thead>\n",
              "    <tr style=\"text-align: right;\">\n",
              "      <th></th>\n",
              "      <th>Error_name</th>\n",
              "    </tr>\n",
              "  </thead>\n",
              "  <tbody>\n",
              "    <tr>\n",
              "      <th>0</th>\n",
              "      <td>[ERROR]-Worker is ungracefully killed</td>\n",
              "    </tr>\n",
              "    <tr>\n",
              "      <th>1</th>\n",
              "      <td>runtime execution error: unable to start lambd...</td>\n",
              "    </tr>\n",
              "    <tr>\n",
              "      <th>2</th>\n",
              "      <td>[ERROR]-Deployment failed.</td>\n",
              "    </tr>\n",
              "    <tr>\n",
              "      <th>3</th>\n",
              "      <td>[ERROR]-runtime failed to start: unable to sta...</td>\n",
              "    </tr>\n",
              "    <tr>\n",
              "      <th>4</th>\n",
              "      <td>[2021-09-10T06:07:27.463-04:00][ERROR]-warning...</td>\n",
              "    </tr>\n",
              "    <tr>\n",
              "      <th>5</th>\n",
              "      <td>[2021-09-10T06:07:58.331-04:00][ERROR]-warning...</td>\n",
              "    </tr>\n",
              "  </tbody>\n",
              "</table>\n",
              "</div>"
            ],
            "text/plain": [
              "                                          Error_name\n",
              "0              [ERROR]-Worker is ungracefully killed\n",
              "1  runtime execution error: unable to start lambd...\n",
              "2                         [ERROR]-Deployment failed.\n",
              "3  [ERROR]-runtime failed to start: unable to sta...\n",
              "4  [2021-09-10T06:07:27.463-04:00][ERROR]-warning...\n",
              "5  [2021-09-10T06:07:58.331-04:00][ERROR]-warning..."
            ]
          },
          "execution_count": 5,
          "metadata": {},
          "output_type": "execute_result"
        }
      ]
    },
    {
      "cell_type": "code",
      "metadata": {
        "id": "335710a8"
      },
      "source": [
        "header_names=['Error_Name']\n",
        "df=pd.read_csv('Logfile.csv',encoding='latin1')"
      ],
      "id": "335710a8",
      "execution_count": null,
      "outputs": []
    },
    {
      "cell_type": "code",
      "metadata": {
        "id": "a0048344",
        "outputId": "b4e053fe-e0e8-43e2-d90c-79ba2a07f1f5"
      },
      "source": [
        "df"
      ],
      "id": "a0048344",
      "execution_count": null,
      "outputs": [
        {
          "data": {
            "text/html": [
              "<div>\n",
              "<style scoped>\n",
              "    .dataframe tbody tr th:only-of-type {\n",
              "        vertical-align: middle;\n",
              "    }\n",
              "\n",
              "    .dataframe tbody tr th {\n",
              "        vertical-align: top;\n",
              "    }\n",
              "\n",
              "    .dataframe thead th {\n",
              "        text-align: right;\n",
              "    }\n",
              "</style>\n",
              "<table border=\"1\" class=\"dataframe\">\n",
              "  <thead>\n",
              "    <tr style=\"text-align: right;\">\n",
              "      <th></th>\n",
              "      <th>Error_name</th>\n",
              "    </tr>\n",
              "  </thead>\n",
              "  <tbody>\n",
              "    <tr>\n",
              "      <th>0</th>\n",
              "      <td>[ERROR]-Worker is ungracefully killed</td>\n",
              "    </tr>\n",
              "    <tr>\n",
              "      <th>1</th>\n",
              "      <td>runtime execution error: unable to start lambd...</td>\n",
              "    </tr>\n",
              "    <tr>\n",
              "      <th>2</th>\n",
              "      <td>[ERROR]-Deployment failed.</td>\n",
              "    </tr>\n",
              "    <tr>\n",
              "      <th>3</th>\n",
              "      <td>[ERROR]-runtime failed to start: unable to sta...</td>\n",
              "    </tr>\n",
              "    <tr>\n",
              "      <th>4</th>\n",
              "      <td>[2021-09-10T06:07:27.463-04:00][ERROR]-warning...</td>\n",
              "    </tr>\n",
              "    <tr>\n",
              "      <th>5</th>\n",
              "      <td>[2021-09-10T06:07:58.331-04:00][ERROR]-warning...</td>\n",
              "    </tr>\n",
              "  </tbody>\n",
              "</table>\n",
              "</div>"
            ],
            "text/plain": [
              "                                          Error_name\n",
              "0              [ERROR]-Worker is ungracefully killed\n",
              "1  runtime execution error: unable to start lambd...\n",
              "2                         [ERROR]-Deployment failed.\n",
              "3  [ERROR]-runtime failed to start: unable to sta...\n",
              "4  [2021-09-10T06:07:27.463-04:00][ERROR]-warning...\n",
              "5  [2021-09-10T06:07:58.331-04:00][ERROR]-warning..."
            ]
          },
          "execution_count": 7,
          "metadata": {},
          "output_type": "execute_result"
        }
      ]
    },
    {
      "cell_type": "code",
      "metadata": {
        "id": "56609d3f"
      },
      "source": [
        "df['Error_Type'] = np.NaN"
      ],
      "id": "56609d3f",
      "execution_count": null,
      "outputs": []
    },
    {
      "cell_type": "code",
      "metadata": {
        "id": "f59d6374",
        "outputId": "58c2cd44-4730-42e9-9c1d-2939e36753a0"
      },
      "source": [
        "df"
      ],
      "id": "f59d6374",
      "execution_count": null,
      "outputs": [
        {
          "data": {
            "text/html": [
              "<div>\n",
              "<style scoped>\n",
              "    .dataframe tbody tr th:only-of-type {\n",
              "        vertical-align: middle;\n",
              "    }\n",
              "\n",
              "    .dataframe tbody tr th {\n",
              "        vertical-align: top;\n",
              "    }\n",
              "\n",
              "    .dataframe thead th {\n",
              "        text-align: right;\n",
              "    }\n",
              "</style>\n",
              "<table border=\"1\" class=\"dataframe\">\n",
              "  <thead>\n",
              "    <tr style=\"text-align: right;\">\n",
              "      <th></th>\n",
              "      <th>Error_name</th>\n",
              "      <th>Error_Type</th>\n",
              "    </tr>\n",
              "  </thead>\n",
              "  <tbody>\n",
              "    <tr>\n",
              "      <th>0</th>\n",
              "      <td>[ERROR]-Worker is ungracefully killed</td>\n",
              "      <td>NaN</td>\n",
              "    </tr>\n",
              "    <tr>\n",
              "      <th>1</th>\n",
              "      <td>runtime execution error: unable to start lambd...</td>\n",
              "      <td>NaN</td>\n",
              "    </tr>\n",
              "    <tr>\n",
              "      <th>2</th>\n",
              "      <td>[ERROR]-Deployment failed.</td>\n",
              "      <td>NaN</td>\n",
              "    </tr>\n",
              "    <tr>\n",
              "      <th>3</th>\n",
              "      <td>[ERROR]-runtime failed to start: unable to sta...</td>\n",
              "      <td>NaN</td>\n",
              "    </tr>\n",
              "    <tr>\n",
              "      <th>4</th>\n",
              "      <td>[2021-09-10T06:07:27.463-04:00][ERROR]-warning...</td>\n",
              "      <td>NaN</td>\n",
              "    </tr>\n",
              "    <tr>\n",
              "      <th>5</th>\n",
              "      <td>[2021-09-10T06:07:58.331-04:00][ERROR]-warning...</td>\n",
              "      <td>NaN</td>\n",
              "    </tr>\n",
              "  </tbody>\n",
              "</table>\n",
              "</div>"
            ],
            "text/plain": [
              "                                          Error_name  Error_Type\n",
              "0              [ERROR]-Worker is ungracefully killed         NaN\n",
              "1  runtime execution error: unable to start lambd...         NaN\n",
              "2                         [ERROR]-Deployment failed.         NaN\n",
              "3  [ERROR]-runtime failed to start: unable to sta...         NaN\n",
              "4  [2021-09-10T06:07:27.463-04:00][ERROR]-warning...         NaN\n",
              "5  [2021-09-10T06:07:58.331-04:00][ERROR]-warning...         NaN"
            ]
          },
          "execution_count": 9,
          "metadata": {},
          "output_type": "execute_result"
        }
      ]
    },
    {
      "cell_type": "code",
      "metadata": {
        "id": "9ce331d3"
      },
      "source": [
        "df['Error_Type'] = pd.np.where(df.Error_name.str.contains(\"Deployment\"), \"Deployment Error\",\n",
        "                               pd.np.where(df.Error_name.str.contains(\"runtime\"), \"Runtime Error\",\n",
        "                               pd.np.where(df.Error_name.str.contains(\"ungracefully\"), \"Platform Error\",\"Proc Error\")))"
      ],
      "id": "9ce331d3",
      "execution_count": null,
      "outputs": []
    },
    {
      "cell_type": "code",
      "metadata": {
        "id": "856fffbc",
        "outputId": "5c40ee41-e827-4e8f-81b9-99f605670c96"
      },
      "source": [
        "df"
      ],
      "id": "856fffbc",
      "execution_count": null,
      "outputs": [
        {
          "data": {
            "text/html": [
              "<div>\n",
              "<style scoped>\n",
              "    .dataframe tbody tr th:only-of-type {\n",
              "        vertical-align: middle;\n",
              "    }\n",
              "\n",
              "    .dataframe tbody tr th {\n",
              "        vertical-align: top;\n",
              "    }\n",
              "\n",
              "    .dataframe thead th {\n",
              "        text-align: right;\n",
              "    }\n",
              "</style>\n",
              "<table border=\"1\" class=\"dataframe\">\n",
              "  <thead>\n",
              "    <tr style=\"text-align: right;\">\n",
              "      <th></th>\n",
              "      <th>Error_name</th>\n",
              "      <th>Error_Type</th>\n",
              "    </tr>\n",
              "  </thead>\n",
              "  <tbody>\n",
              "    <tr>\n",
              "      <th>0</th>\n",
              "      <td>[ERROR]-Worker is ungracefully killed</td>\n",
              "      <td>Platform Error</td>\n",
              "    </tr>\n",
              "    <tr>\n",
              "      <th>1</th>\n",
              "      <td>runtime execution error: unable to start lambd...</td>\n",
              "      <td>Runtime Error</td>\n",
              "    </tr>\n",
              "    <tr>\n",
              "      <th>2</th>\n",
              "      <td>[ERROR]-Deployment failed.</td>\n",
              "      <td>Deployment Error</td>\n",
              "    </tr>\n",
              "    <tr>\n",
              "      <th>3</th>\n",
              "      <td>[ERROR]-runtime failed to start: unable to sta...</td>\n",
              "      <td>Runtime Error</td>\n",
              "    </tr>\n",
              "    <tr>\n",
              "      <th>4</th>\n",
              "      <td>[2021-09-10T06:07:27.463-04:00][ERROR]-warning...</td>\n",
              "      <td>Proc Error</td>\n",
              "    </tr>\n",
              "    <tr>\n",
              "      <th>5</th>\n",
              "      <td>[2021-09-10T06:07:58.331-04:00][ERROR]-warning...</td>\n",
              "      <td>Proc Error</td>\n",
              "    </tr>\n",
              "  </tbody>\n",
              "</table>\n",
              "</div>"
            ],
            "text/plain": [
              "                                          Error_name        Error_Type\n",
              "0              [ERROR]-Worker is ungracefully killed    Platform Error\n",
              "1  runtime execution error: unable to start lambd...     Runtime Error\n",
              "2                         [ERROR]-Deployment failed.  Deployment Error\n",
              "3  [ERROR]-runtime failed to start: unable to sta...     Runtime Error\n",
              "4  [2021-09-10T06:07:27.463-04:00][ERROR]-warning...        Proc Error\n",
              "5  [2021-09-10T06:07:58.331-04:00][ERROR]-warning...        Proc Error"
            ]
          },
          "execution_count": 11,
          "metadata": {},
          "output_type": "execute_result"
        }
      ]
    },
    {
      "cell_type": "code",
      "metadata": {
        "id": "2c090c8d"
      },
      "source": [
        ""
      ],
      "id": "2c090c8d",
      "execution_count": null,
      "outputs": []
    }
  ]
}