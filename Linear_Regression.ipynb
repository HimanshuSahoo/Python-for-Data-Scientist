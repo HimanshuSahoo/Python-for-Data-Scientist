{
  "nbformat": 4,
  "nbformat_minor": 5,
  "metadata": {
    "kernelspec": {
      "display_name": "Python 3",
      "language": "python",
      "name": "python3"
    },
    "language_info": {
      "codemirror_mode": {
        "name": "ipython",
        "version": 3
      },
      "file_extension": ".py",
      "mimetype": "text/x-python",
      "name": "python",
      "nbconvert_exporter": "python",
      "pygments_lexer": "ipython3",
      "version": "3.8.8"
    },
    "toc": {
      "base_numbering": 1,
      "nav_menu": {},
      "number_sections": true,
      "sideBar": true,
      "skip_h1_title": false,
      "title_cell": "Table of Contents",
      "title_sidebar": "Contents",
      "toc_cell": false,
      "toc_position": {},
      "toc_section_display": true,
      "toc_window_display": false
    },
    "varInspector": {
      "cols": {
        "lenName": 16,
        "lenType": 16,
        "lenVar": 40
      },
      "kernels_config": {
        "python": {
          "delete_cmd_postfix": "",
          "delete_cmd_prefix": "del ",
          "library": "var_list.py",
          "varRefreshCmd": "print(var_dic_list())"
        },
        "r": {
          "delete_cmd_postfix": ") ",
          "delete_cmd_prefix": "rm(",
          "library": "var_list.r",
          "varRefreshCmd": "cat(var_dic_list()) "
        }
      },
      "types_to_exclude": [
        "module",
        "function",
        "builtin_function_or_method",
        "instance",
        "_Feature"
      ],
      "window_display": false
    },
    "colab": {
      "name": "Linear Regression.ipynb",
      "provenance": [],
      "include_colab_link": true
    }
  },
  "cells": [
    {
      "cell_type": "markdown",
      "metadata": {
        "id": "view-in-github",
        "colab_type": "text"
      },
      "source": [
        "<a href=\"https://colab.research.google.com/github/HimanshuSahoo/Python-for-Data-Scientist/blob/main/Linear_Regression.ipynb\" target=\"_parent\"><img src=\"https://colab.research.google.com/assets/colab-badge.svg\" alt=\"Open In Colab\"/></a>"
      ]
    },
    {
      "cell_type": "code",
      "metadata": {
        "id": "f8546186"
      },
      "source": [
        "import matplotlib.pyplot as plt"
      ],
      "id": "f8546186",
      "execution_count": 1,
      "outputs": []
    },
    {
      "cell_type": "code",
      "metadata": {
        "id": "adfb8db4",
        "outputId": "67b8e17b-b147-4ddf-bd92-e31eebc0bc91",
        "colab": {
          "base_uri": "https://localhost:8080/",
          "height": 265
        }
      },
      "source": [
        "x= (5,7,8,7,2,17,2,9,4,11,12,9,6)\n",
        "y= (99,86,87,88,111,86,103,87,94,78,77,85,86)\n",
        "\n",
        "plt.scatter(x,y)\n",
        "plt.show()"
      ],
      "id": "adfb8db4",
      "execution_count": 2,
      "outputs": [
        {
          "output_type": "display_data",
          "data": {
            "image/png": "[encoded data removed]",
            "text/plain": [
              "<Figure size 432x288 with 1 Axes>"
            ]
          },
          "metadata": {
            "needs_background": "light"
          }
        }
      ]
    },
    {
      "cell_type": "code",
      "metadata": {
        "id": "a46c21d6",
        "outputId": "a1e51e3d-c893-4fab-efce-d103f25e7b85",
        "colab": {
          "base_uri": "https://localhost:8080/",
          "height": 265
        }
      },
      "source": [
        "import matplotlib.pyplot as plt\n",
        "\n",
        "from scipy import stats\n",
        "\n",
        "x= (5,7,8,7,2,17,2,9,4,11,12,9,6)\n",
        "y= (99,86,87,88,111,86,103,87,94,78,77,85,86)\n",
        "\n",
        "slope,intercept, r,p, std_err = stats.linregress(x,y)\n",
        "\n",
        "def myfun(x):\n",
        "    return slope*x+intercept\n",
        "\n",
        "mymodel = list(map(myfun,x))\n",
        "\n",
        "plt.scatter(x,y)\n",
        "\n",
        "plt.plot(x,mymodel)\n",
        "\n",
        "plt.show()"
      ],
      "id": "a46c21d6",
      "execution_count": 3,
      "outputs": [
        {
          "output_type": "display_data",
          "data": {
            "image/png": "[encoded data removed]",
            "text/plain": [
              "<Figure size 432x288 with 1 Axes>"
            ]
          },
          "metadata": {
            "needs_background": "light"
          }
        }
      ]
    },
    {
      "cell_type": "code",
      "metadata": {
        "id": "6d8a4979",
        "outputId": "d038a78c-7a99-4e46-bf93-2f39ead0ca64",
        "colab": {
          "base_uri": "https://localhost:8080/"
        }
      },
      "source": [
        "x= (5,7,8,7,2,17,2,9,4,11,12,9,6)\n",
        "\n",
        "y= (99,86,87,88,111,86,103,87,94,78,77,85,86)\n",
        "\n",
        "print(r)"
      ],
      "id": "6d8a4979",
      "execution_count": 4,
      "outputs": [
        {
          "output_type": "stream",
          "name": "stdout",
          "text": [
            "-0.758591524376155\n"
          ]
        }
      ]
    },
    {
      "cell_type": "code",
      "metadata": {
        "id": "0dd826e4",
        "outputId": "c981cd6e-d1f6-46a7-b761-589e45b2aa38",
        "colab": {
          "base_uri": "https://localhost:8080/"
        }
      },
      "source": [
        "import matplotlib.pyplot as plt\n",
        "\n",
        "from scipy import stats\n",
        "\n",
        "x= (5,7,8,7,2,17,2,9,4,11,12,9,6)\n",
        "y= (99,86,87,88,111,86,103,87,94,78,77,85,86)\n",
        "\n",
        "slope,intercept, r,p, std_err = stats.linregress(x,y)\n",
        "\n",
        "def myfun(x):\n",
        "    return slope*x+intercept\n",
        "\n",
        "speed = myfun(10)\n",
        "\n",
        "print(speed)"
      ],
      "id": "0dd826e4",
      "execution_count": 5,
      "outputs": [
        {
          "output_type": "stream",
          "name": "stdout",
          "text": [
            "85.59308314937454\n"
          ]
        }
      ]
    },
    {
      "cell_type": "code",
      "metadata": {
        "id": "dd0c79b4"
      },
      "source": [
        ""
      ],
      "id": "dd0c79b4",
      "execution_count": 5,
      "outputs": []
    }
  ]
}