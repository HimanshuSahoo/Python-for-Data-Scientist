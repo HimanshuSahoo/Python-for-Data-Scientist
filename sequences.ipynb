{
  "nbformat": 4,
  "nbformat_minor": 0,
  "metadata": {
    "kernelspec": {
      "display_name": "Python 3",
      "language": "python",
      "name": "python3"
    },
    "language_info": {
      "codemirror_mode": {
        "name": "ipython",
        "version": 3
      },
      "file_extension": ".py",
      "mimetype": "text/x-python",
      "name": "python",
      "nbconvert_exporter": "python",
      "pygments_lexer": "ipython3",
      "version": "3.8.8"
    },
    "toc": {
      "base_numbering": 1,
      "nav_menu": {},
      "number_sections": true,
      "sideBar": true,
      "skip_h1_title": false,
      "title_cell": "Table of Contents",
      "title_sidebar": "Contents",
      "toc_cell": false,
      "toc_position": {},
      "toc_section_display": true,
      "toc_window_display": false
    },
    "varInspector": {
      "cols": {
        "lenName": 16,
        "lenType": 16,
        "lenVar": 40
      },
      "kernels_config": {
        "python": {
          "delete_cmd_postfix": "",
          "delete_cmd_prefix": "del ",
          "library": "var_list.py",
          "varRefreshCmd": "print(var_dic_list())"
        },
        "r": {
          "delete_cmd_postfix": ") ",
          "delete_cmd_prefix": "rm(",
          "library": "var_list.r",
          "varRefreshCmd": "cat(var_dic_list()) "
        }
      },
      "types_to_exclude": [
        "module",
        "function",
        "builtin_function_or_method",
        "instance",
        "_Feature"
      ],
      "window_display": false
    },
    "colab": {
      "name": "sequences.ipynb",
      "provenance": [],
      "include_colab_link": true
    }
  },
  "cells": [
    {
      "cell_type": "markdown",
      "metadata": {
        "id": "view-in-github",
        "colab_type": "text"
      },
      "source": [
        "<a href=\"https://colab.research.google.com/github/HimanshuSahoo/Python-for-Data-Scientist/blob/main/sequences.ipynb\" target=\"_parent\"><img src=\"https://colab.research.google.com/assets/colab-badge.svg\" alt=\"Open In Colab\"/></a>"
      ]
    },
    {
      "cell_type": "markdown",
      "metadata": {
        "id": "J7lXRR8osaxl"
      },
      "source": [
        "## List data type"
      ]
    },
    {
      "cell_type": "code",
      "metadata": {
        "colab": {
          "base_uri": "https://localhost:8080/"
        },
        "id": "SjSq6T2Bsaxq",
        "outputId": "c5cf5d14-6615-4b12-e912-4ff636d122c4"
      },
      "source": [
        "my_lst = [1,2,3]\n",
        "print(my_lst)"
      ],
      "execution_count": 1,
      "outputs": [
        {
          "output_type": "stream",
          "name": "stdout",
          "text": [
            "[1, 2, 3]\n"
          ]
        }
      ]
    },
    {
      "cell_type": "code",
      "metadata": {
        "colab": {
          "base_uri": "https://localhost:8080/"
        },
        "id": "8TMuHdA7saxs",
        "outputId": "306bef86-1ecb-4e33-c461-c05a3b57896a"
      },
      "source": [
        "type(my_lst)"
      ],
      "execution_count": 2,
      "outputs": [
        {
          "output_type": "execute_result",
          "data": {
            "text/plain": [
              "list"
            ]
          },
          "metadata": {},
          "execution_count": 2
        }
      ]
    },
    {
      "cell_type": "markdown",
      "metadata": {
        "id": "D6jbignrsaxt"
      },
      "source": [
        "## Tuple data type"
      ]
    },
    {
      "cell_type": "code",
      "metadata": {
        "colab": {
          "base_uri": "https://localhost:8080/"
        },
        "id": "45R6nFZxsaxu",
        "outputId": "34d5c431-0d65-4f6b-b8c6-a90999d83851"
      },
      "source": [
        "my_tup = (1,2,3)\n",
        "my_tup"
      ],
      "execution_count": 3,
      "outputs": [
        {
          "output_type": "execute_result",
          "data": {
            "text/plain": [
              "(1, 2, 3)"
            ]
          },
          "metadata": {},
          "execution_count": 3
        }
      ]
    },
    {
      "cell_type": "code",
      "metadata": {
        "colab": {
          "base_uri": "https://localhost:8080/"
        },
        "id": "q1y8IODvsaxu",
        "outputId": "e5107754-0383-434f-d216-927a81705be9"
      },
      "source": [
        "type(my_tup)"
      ],
      "execution_count": 4,
      "outputs": [
        {
          "output_type": "execute_result",
          "data": {
            "text/plain": [
              "tuple"
            ]
          },
          "metadata": {},
          "execution_count": 4
        }
      ]
    },
    {
      "cell_type": "markdown",
      "metadata": {
        "id": "m_oVepkNsaxv"
      },
      "source": [
        "## String data type"
      ]
    },
    {
      "cell_type": "code",
      "metadata": {
        "id": "49zZHJwDsaxx"
      },
      "source": [
        "my_str = 'Hello'"
      ],
      "execution_count": 5,
      "outputs": []
    },
    {
      "cell_type": "markdown",
      "metadata": {
        "id": "6TK7zqfvsaxy"
      },
      "source": [
        "### Positional Ordering"
      ]
    },
    {
      "cell_type": "code",
      "metadata": {
        "colab": {
          "base_uri": "https://localhost:8080/"
        },
        "id": "3MpzsOu7saxz",
        "outputId": "53cb9142-aee4-42ff-dfa4-e760a11c6874"
      },
      "source": [
        "print(my_lst[1])"
      ],
      "execution_count": 6,
      "outputs": [
        {
          "output_type": "stream",
          "name": "stdout",
          "text": [
            "2\n"
          ]
        }
      ]
    },
    {
      "cell_type": "code",
      "metadata": {
        "colab": {
          "base_uri": "https://localhost:8080/"
        },
        "id": "3mzcPrVwsaxz",
        "outputId": "14da877e-5f36-495a-925f-eef834b112d2"
      },
      "source": [
        "print(my_tup[0])"
      ],
      "execution_count": 7,
      "outputs": [
        {
          "output_type": "stream",
          "name": "stdout",
          "text": [
            "1\n"
          ]
        }
      ]
    },
    {
      "cell_type": "code",
      "metadata": {
        "colab": {
          "base_uri": "https://localhost:8080/"
        },
        "id": "H8iXH4ePsax0",
        "outputId": "f23c8056-4eff-4dd4-bc68-8b258eceaf03"
      },
      "source": [
        "print(my_str[4])"
      ],
      "execution_count": 8,
      "outputs": [
        {
          "output_type": "stream",
          "name": "stdout",
          "text": [
            "o\n"
          ]
        }
      ]
    },
    {
      "cell_type": "markdown",
      "metadata": {
        "id": "-ucsq2zTsax0"
      },
      "source": [
        "### Slicing sequences"
      ]
    },
    {
      "cell_type": "code",
      "metadata": {
        "colab": {
          "base_uri": "https://localhost:8080/"
        },
        "id": "JwNvyEEMsax1",
        "outputId": "6cbc47ea-f897-42af-a2f8-41ded134b4e2"
      },
      "source": [
        "lst = [12,34,56,23,87,45,64,66,23,90]\n",
        "lst[2:8]"
      ],
      "execution_count": 9,
      "outputs": [
        {
          "output_type": "execute_result",
          "data": {
            "text/plain": [
              "[56, 23, 87, 45, 64, 66]"
            ]
          },
          "metadata": {},
          "execution_count": 9
        }
      ]
    },
    {
      "cell_type": "code",
      "metadata": {
        "colab": {
          "base_uri": "https://localhost:8080/"
        },
        "id": "GSAIBzO9sax1",
        "outputId": "1914d429-c3cc-4402-8d0f-92a6c5643a47"
      },
      "source": [
        "lst[2:8:2]"
      ],
      "execution_count": 10,
      "outputs": [
        {
          "output_type": "execute_result",
          "data": {
            "text/plain": [
              "[56, 87, 64]"
            ]
          },
          "metadata": {},
          "execution_count": 10
        }
      ]
    },
    {
      "cell_type": "code",
      "metadata": {
        "colab": {
          "base_uri": "https://localhost:8080/"
        },
        "id": "LiZTEXj1sax2",
        "outputId": "1253134f-fd3a-45f4-daeb-f3fea201081b"
      },
      "source": [
        "lst[2:8:3]"
      ],
      "execution_count": 11,
      "outputs": [
        {
          "output_type": "execute_result",
          "data": {
            "text/plain": [
              "[56, 45]"
            ]
          },
          "metadata": {},
          "execution_count": 11
        }
      ]
    },
    {
      "cell_type": "code",
      "metadata": {
        "colab": {
          "base_uri": "https://localhost:8080/"
        },
        "id": "z8OzIQBWsax2",
        "outputId": "53dff4c7-be28-4f68-a500-d1e165614927"
      },
      "source": [
        "lst[:8]"
      ],
      "execution_count": 12,
      "outputs": [
        {
          "output_type": "execute_result",
          "data": {
            "text/plain": [
              "[12, 34, 56, 23, 87, 45, 64, 66]"
            ]
          },
          "metadata": {},
          "execution_count": 12
        }
      ]
    },
    {
      "cell_type": "code",
      "metadata": {
        "colab": {
          "base_uri": "https://localhost:8080/"
        },
        "id": "_mkYsJUVsax2",
        "outputId": "9e435dd4-d465-4484-c2b0-86574ef1ab14"
      },
      "source": [
        "lst[5:]"
      ],
      "execution_count": 13,
      "outputs": [
        {
          "output_type": "execute_result",
          "data": {
            "text/plain": [
              "[45, 64, 66, 23, 90]"
            ]
          },
          "metadata": {},
          "execution_count": 13
        }
      ]
    },
    {
      "cell_type": "code",
      "metadata": {
        "colab": {
          "base_uri": "https://localhost:8080/"
        },
        "id": "iss1Ccossax2",
        "outputId": "f8deb029-7be8-40c4-b01f-dcf2ba02b9b8"
      },
      "source": [
        "lst[:]"
      ],
      "execution_count": 14,
      "outputs": [
        {
          "output_type": "execute_result",
          "data": {
            "text/plain": [
              "[12, 34, 56, 23, 87, 45, 64, 66, 23, 90]"
            ]
          },
          "metadata": {},
          "execution_count": 14
        }
      ]
    },
    {
      "cell_type": "code",
      "metadata": {
        "colab": {
          "base_uri": "https://localhost:8080/"
        },
        "id": "z-HLq6Pnsax3",
        "outputId": "1a9d7766-bc58-4ba6-8b39-507a18705d57"
      },
      "source": [
        "lst"
      ],
      "execution_count": 15,
      "outputs": [
        {
          "output_type": "execute_result",
          "data": {
            "text/plain": [
              "[12, 34, 56, 23, 87, 45, 64, 66, 23, 90]"
            ]
          },
          "metadata": {},
          "execution_count": 15
        }
      ]
    },
    {
      "cell_type": "code",
      "metadata": {
        "colab": {
          "base_uri": "https://localhost:8080/"
        },
        "id": "OvFKDGr9sax3",
        "outputId": "05cd2517-2cd7-47f1-c3e7-35d3943552ff"
      },
      "source": [
        "lst[2:8]"
      ],
      "execution_count": 16,
      "outputs": [
        {
          "output_type": "execute_result",
          "data": {
            "text/plain": [
              "[56, 23, 87, 45, 64, 66]"
            ]
          },
          "metadata": {},
          "execution_count": 16
        }
      ]
    },
    {
      "cell_type": "code",
      "metadata": {
        "colab": {
          "base_uri": "https://localhost:8080/"
        },
        "id": "L7NCOyadsax3",
        "outputId": "0d21eb5e-d6d2-4063-917e-3cf68d680ad8"
      },
      "source": [
        "lst"
      ],
      "execution_count": 17,
      "outputs": [
        {
          "output_type": "execute_result",
          "data": {
            "text/plain": [
              "[12, 34, 56, 23, 87, 45, 64, 66, 23, 90]"
            ]
          },
          "metadata": {},
          "execution_count": 17
        }
      ]
    },
    {
      "cell_type": "code",
      "metadata": {
        "colab": {
          "base_uri": "https://localhost:8080/"
        },
        "id": "h9c2vD6Bsax4",
        "outputId": "dde6968e-21c2-451a-b6c3-cf0bf0c0c1c4"
      },
      "source": [
        "# Reverse a list\n",
        "lst[::-1]"
      ],
      "execution_count": 18,
      "outputs": [
        {
          "output_type": "execute_result",
          "data": {
            "text/plain": [
              "[90, 23, 66, 64, 45, 87, 23, 56, 34, 12]"
            ]
          },
          "metadata": {},
          "execution_count": 18
        }
      ]
    },
    {
      "cell_type": "code",
      "metadata": {
        "colab": {
          "base_uri": "https://localhost:8080/"
        },
        "id": "DyyzwXhbsax4",
        "outputId": "6777b497-0a0d-4beb-ca1d-09b0b81ce53a"
      },
      "source": [
        "lst[8:2:-1]"
      ],
      "execution_count": 19,
      "outputs": [
        {
          "output_type": "execute_result",
          "data": {
            "text/plain": [
              "[23, 66, 64, 45, 87, 23]"
            ]
          },
          "metadata": {},
          "execution_count": 19
        }
      ]
    },
    {
      "cell_type": "markdown",
      "metadata": {
        "id": "jG06R7wDsax4"
      },
      "source": [
        "## Tuple"
      ]
    },
    {
      "cell_type": "code",
      "metadata": {
        "colab": {
          "base_uri": "https://localhost:8080/"
        },
        "id": "pzH0JNNWsax4",
        "outputId": "331be309-b0d1-4efa-845c-99eb5e924143"
      },
      "source": [
        "tup = (12,34,56,23,87,45,64,66,23,90)\n",
        "tup[2:8]"
      ],
      "execution_count": 20,
      "outputs": [
        {
          "output_type": "execute_result",
          "data": {
            "text/plain": [
              "(56, 23, 87, 45, 64, 66)"
            ]
          },
          "metadata": {},
          "execution_count": 20
        }
      ]
    },
    {
      "cell_type": "markdown",
      "metadata": {
        "id": "Di4pGMSfsax4"
      },
      "source": [
        "## Strings"
      ]
    },
    {
      "cell_type": "code",
      "metadata": {
        "id": "4As0uN25sax4"
      },
      "source": [
        "my_str = 'Python'"
      ],
      "execution_count": 21,
      "outputs": []
    },
    {
      "cell_type": "code",
      "metadata": {
        "colab": {
          "base_uri": "https://localhost:8080/",
          "height": 35
        },
        "id": "QvMsFv0Dsax4",
        "outputId": "ee0d2cf2-da75-48de-d088-6fd2bcc2fe00"
      },
      "source": [
        "my_str[::-1]"
      ],
      "execution_count": 22,
      "outputs": [
        {
          "output_type": "execute_result",
          "data": {
            "application/vnd.google.colaboratory.intrinsic+json": {
              "type": "string"
            },
            "text/plain": [
              "'nohtyP'"
            ]
          },
          "metadata": {},
          "execution_count": 22
        }
      ]
    },
    {
      "cell_type": "code",
      "metadata": {
        "colab": {
          "base_uri": "https://localhost:8080/"
        },
        "id": "hPbdnL_Esax5",
        "outputId": "b22c6064-396f-4389-bbe5-432029b4ce6c"
      },
      "source": [
        "list(enumerate(my_str))"
      ],
      "execution_count": 23,
      "outputs": [
        {
          "output_type": "execute_result",
          "data": {
            "text/plain": [
              "[(0, 'P'), (1, 'y'), (2, 't'), (3, 'h'), (4, 'o'), (5, 'n')]"
            ]
          },
          "metadata": {},
          "execution_count": 23
        }
      ]
    },
    {
      "cell_type": "markdown",
      "metadata": {
        "id": "TW9Pjfwosax5"
      },
      "source": [
        "## Sequences are iterable"
      ]
    },
    {
      "cell_type": "code",
      "metadata": {
        "id": "z8CFFpAEsax5"
      },
      "source": [
        "my_lst = [22,33,44,55,66]"
      ],
      "execution_count": 24,
      "outputs": []
    },
    {
      "cell_type": "code",
      "metadata": {
        "colab": {
          "base_uri": "https://localhost:8080/"
        },
        "id": "KBPGMtcWsax5",
        "outputId": "d2e2a979-32cc-45d0-d3df-e6304ef1a9cb"
      },
      "source": [
        "for elem in my_lst:\n",
        "    print(elem)"
      ],
      "execution_count": 25,
      "outputs": [
        {
          "output_type": "stream",
          "name": "stdout",
          "text": [
            "22\n",
            "33\n",
            "44\n",
            "55\n",
            "66\n"
          ]
        }
      ]
    },
    {
      "cell_type": "code",
      "metadata": {
        "id": "AgKf4fUwsax5"
      },
      "source": [
        "my_tup = (90,76,88,45,32)"
      ],
      "execution_count": 26,
      "outputs": []
    },
    {
      "cell_type": "code",
      "metadata": {
        "colab": {
          "base_uri": "https://localhost:8080/"
        },
        "id": "DTQeP8mPsax5",
        "outputId": "07b77116-e97b-497f-e782-3309fd52dc2a"
      },
      "source": [
        "for x in my_tup:\n",
        "    print(x)"
      ],
      "execution_count": 27,
      "outputs": [
        {
          "output_type": "stream",
          "name": "stdout",
          "text": [
            "90\n",
            "76\n",
            "88\n",
            "45\n",
            "32\n"
          ]
        }
      ]
    },
    {
      "cell_type": "code",
      "metadata": {
        "id": "k1loUHDJsax5"
      },
      "source": [
        "my_str = 'Hello World'"
      ],
      "execution_count": 28,
      "outputs": []
    },
    {
      "cell_type": "code",
      "metadata": {
        "colab": {
          "base_uri": "https://localhost:8080/"
        },
        "id": "0tvLgCYtsax5",
        "outputId": "eca4f290-eabe-4e5f-eda7-630daa79ddbd"
      },
      "source": [
        "for c in my_str:\n",
        "    print(c)"
      ],
      "execution_count": 29,
      "outputs": [
        {
          "output_type": "stream",
          "name": "stdout",
          "text": [
            "H\n",
            "e\n",
            "l\n",
            "l\n",
            "o\n",
            " \n",
            "W\n",
            "o\n",
            "r\n",
            "l\n",
            "d\n"
          ]
        }
      ]
    },
    {
      "cell_type": "code",
      "metadata": {
        "id": "yPnPkONTsax5"
      },
      "source": [
        "my_lst = ['Apples','Yoghurt','Butter','Bread']"
      ],
      "execution_count": 30,
      "outputs": []
    },
    {
      "cell_type": "code",
      "metadata": {
        "colab": {
          "base_uri": "https://localhost:8080/"
        },
        "id": "kFupJ6posax5",
        "outputId": "0a5465f9-062d-401f-dcf1-d2657f93d76a"
      },
      "source": [
        "my_lst"
      ],
      "execution_count": 31,
      "outputs": [
        {
          "output_type": "execute_result",
          "data": {
            "text/plain": [
              "['Apples', 'Yoghurt', 'Butter', 'Bread']"
            ]
          },
          "metadata": {},
          "execution_count": 31
        }
      ]
    },
    {
      "cell_type": "code",
      "metadata": {
        "colab": {
          "base_uri": "https://localhost:8080/"
        },
        "id": "ae1Kr7-3sax6",
        "outputId": "b43e67ff-b098-4c12-beaf-3da651ee1d9f"
      },
      "source": [
        "for item in my_lst:\n",
        "    print(item)"
      ],
      "execution_count": 32,
      "outputs": [
        {
          "output_type": "stream",
          "name": "stdout",
          "text": [
            "Apples\n",
            "Yoghurt\n",
            "Butter\n",
            "Bread\n"
          ]
        }
      ]
    },
    {
      "cell_type": "code",
      "metadata": {
        "colab": {
          "base_uri": "https://localhost:8080/"
        },
        "id": "ZFqDPMKSsax6",
        "outputId": "2d5eb2b9-13fc-4d18-f7fd-08d76ab795b4"
      },
      "source": [
        "mixed_lst = [1,'abc', 4.5]\n",
        "mixed_lst"
      ],
      "execution_count": 33,
      "outputs": [
        {
          "output_type": "execute_result",
          "data": {
            "text/plain": [
              "[1, 'abc', 4.5]"
            ]
          },
          "metadata": {},
          "execution_count": 33
        }
      ]
    },
    {
      "cell_type": "code",
      "metadata": {
        "colab": {
          "base_uri": "https://localhost:8080/"
        },
        "id": "susxi1wisax6",
        "outputId": "4f38949c-92ad-49cb-cc37-90fb48213927"
      },
      "source": [
        "mixed_tup =(1,'abc', 4.5)\n",
        "mixed_tup"
      ],
      "execution_count": 34,
      "outputs": [
        {
          "output_type": "execute_result",
          "data": {
            "text/plain": [
              "(1, 'abc', 4.5)"
            ]
          },
          "metadata": {},
          "execution_count": 34
        }
      ]
    },
    {
      "cell_type": "code",
      "metadata": {
        "id": "CbTg7Wdrsax6"
      },
      "source": [
        "my_str = 'Hello23'"
      ],
      "execution_count": 35,
      "outputs": []
    },
    {
      "cell_type": "markdown",
      "metadata": {
        "id": "cUGT8_J0sax6"
      },
      "source": [
        "## Variable unpacking"
      ]
    },
    {
      "cell_type": "code",
      "metadata": {
        "id": "HbXsAm0gsax6"
      },
      "source": [
        "lst = [1,2,3]"
      ],
      "execution_count": 36,
      "outputs": []
    },
    {
      "cell_type": "code",
      "metadata": {
        "id": "nchz-qJlsax6"
      },
      "source": [
        "x,y,z = lst"
      ],
      "execution_count": 37,
      "outputs": []
    },
    {
      "cell_type": "code",
      "metadata": {
        "colab": {
          "base_uri": "https://localhost:8080/"
        },
        "id": "-OMfg10fsax6",
        "outputId": "00460a97-7d6c-410d-adb9-25d2de8acc69"
      },
      "source": [
        "x"
      ],
      "execution_count": 38,
      "outputs": [
        {
          "output_type": "execute_result",
          "data": {
            "text/plain": [
              "1"
            ]
          },
          "metadata": {},
          "execution_count": 38
        }
      ]
    },
    {
      "cell_type": "code",
      "metadata": {
        "colab": {
          "base_uri": "https://localhost:8080/"
        },
        "id": "ajJP7V6lsax6",
        "outputId": "f79cfca1-baca-4c7b-d450-ddb7e11708c6"
      },
      "source": [
        "y"
      ],
      "execution_count": 39,
      "outputs": [
        {
          "output_type": "execute_result",
          "data": {
            "text/plain": [
              "2"
            ]
          },
          "metadata": {},
          "execution_count": 39
        }
      ]
    },
    {
      "cell_type": "code",
      "metadata": {
        "colab": {
          "base_uri": "https://localhost:8080/"
        },
        "id": "qUwwPp4Gsax6",
        "outputId": "dc701809-8257-4f12-c314-27d03ae8e9ff"
      },
      "source": [
        "z"
      ],
      "execution_count": 40,
      "outputs": [
        {
          "output_type": "execute_result",
          "data": {
            "text/plain": [
              "3"
            ]
          },
          "metadata": {},
          "execution_count": 40
        }
      ]
    },
    {
      "cell_type": "code",
      "metadata": {
        "id": "ozDN44UCsax6"
      },
      "source": [
        "a,b,c  = (23,44,55)"
      ],
      "execution_count": 41,
      "outputs": []
    },
    {
      "cell_type": "code",
      "metadata": {
        "colab": {
          "base_uri": "https://localhost:8080/"
        },
        "id": "jhuevBGNsax6",
        "outputId": "f6a25ae0-6845-440c-dbf2-000d912ed1c4"
      },
      "source": [
        "a"
      ],
      "execution_count": 42,
      "outputs": [
        {
          "output_type": "execute_result",
          "data": {
            "text/plain": [
              "23"
            ]
          },
          "metadata": {},
          "execution_count": 42
        }
      ]
    },
    {
      "cell_type": "code",
      "metadata": {
        "colab": {
          "base_uri": "https://localhost:8080/"
        },
        "id": "v-doUTixsax7",
        "outputId": "a26a7baa-3c9f-45dc-db84-ef62ff2672a6"
      },
      "source": [
        "b"
      ],
      "execution_count": 43,
      "outputs": [
        {
          "output_type": "execute_result",
          "data": {
            "text/plain": [
              "44"
            ]
          },
          "metadata": {},
          "execution_count": 43
        }
      ]
    },
    {
      "cell_type": "code",
      "metadata": {
        "colab": {
          "base_uri": "https://localhost:8080/"
        },
        "id": "OpLKQ7B8sax7",
        "outputId": "70699f2f-8534-4e00-c974-3931af923524"
      },
      "source": [
        "c"
      ],
      "execution_count": 44,
      "outputs": [
        {
          "output_type": "execute_result",
          "data": {
            "text/plain": [
              "55"
            ]
          },
          "metadata": {},
          "execution_count": 44
        }
      ]
    },
    {
      "cell_type": "code",
      "metadata": {
        "colab": {
          "base_uri": "https://localhost:8080/",
          "height": 35
        },
        "id": "6qS59SOQsax7",
        "outputId": "bd75437c-6c80-48f1-e802-14a2a9e76f9e"
      },
      "source": [
        "my_str = 'ABC'\n",
        "my_str"
      ],
      "execution_count": 45,
      "outputs": [
        {
          "output_type": "execute_result",
          "data": {
            "application/vnd.google.colaboratory.intrinsic+json": {
              "type": "string"
            },
            "text/plain": [
              "'ABC'"
            ]
          },
          "metadata": {},
          "execution_count": 45
        }
      ]
    },
    {
      "cell_type": "code",
      "metadata": {
        "id": "GtSECgrXsax7"
      },
      "source": [
        "x,y,z = my_str"
      ],
      "execution_count": 46,
      "outputs": []
    },
    {
      "cell_type": "code",
      "metadata": {
        "colab": {
          "base_uri": "https://localhost:8080/",
          "height": 35
        },
        "id": "uaCV2k2Gsax7",
        "outputId": "66604914-5fb5-4e53-d9da-9e236c8af064"
      },
      "source": [
        "x"
      ],
      "execution_count": 47,
      "outputs": [
        {
          "output_type": "execute_result",
          "data": {
            "application/vnd.google.colaboratory.intrinsic+json": {
              "type": "string"
            },
            "text/plain": [
              "'A'"
            ]
          },
          "metadata": {},
          "execution_count": 47
        }
      ]
    },
    {
      "cell_type": "code",
      "metadata": {
        "colab": {
          "base_uri": "https://localhost:8080/",
          "height": 35
        },
        "id": "RVyvU4Hwsax7",
        "outputId": "85b9252c-9659-4762-aaca-300c70248b64"
      },
      "source": [
        "y"
      ],
      "execution_count": 48,
      "outputs": [
        {
          "output_type": "execute_result",
          "data": {
            "application/vnd.google.colaboratory.intrinsic+json": {
              "type": "string"
            },
            "text/plain": [
              "'B'"
            ]
          },
          "metadata": {},
          "execution_count": 48
        }
      ]
    },
    {
      "cell_type": "code",
      "metadata": {
        "colab": {
          "base_uri": "https://localhost:8080/",
          "height": 35
        },
        "id": "YEdy2k9wsax7",
        "outputId": "ffa97951-1b48-4012-cb1b-48a00311e308"
      },
      "source": [
        "z"
      ],
      "execution_count": 49,
      "outputs": [
        {
          "output_type": "execute_result",
          "data": {
            "application/vnd.google.colaboratory.intrinsic+json": {
              "type": "string"
            },
            "text/plain": [
              "'C'"
            ]
          },
          "metadata": {},
          "execution_count": 49
        }
      ]
    },
    {
      "cell_type": "code",
      "metadata": {
        "id": "H9QXTZrUsax7"
      },
      "source": [
        "lst = ['Tom',23,'IT_PROG']"
      ],
      "execution_count": 50,
      "outputs": []
    },
    {
      "cell_type": "code",
      "metadata": {
        "id": "bFgwG4TGsax7"
      },
      "source": [
        "name,age,job = lst"
      ],
      "execution_count": 51,
      "outputs": []
    },
    {
      "cell_type": "code",
      "metadata": {
        "colab": {
          "base_uri": "https://localhost:8080/"
        },
        "id": "0BhokXx3sax7",
        "outputId": "372febda-e5b2-4ad2-8b23-98136df2fd77"
      },
      "source": [
        "name, type(name)"
      ],
      "execution_count": 52,
      "outputs": [
        {
          "output_type": "execute_result",
          "data": {
            "text/plain": [
              "('Tom', str)"
            ]
          },
          "metadata": {},
          "execution_count": 52
        }
      ]
    },
    {
      "cell_type": "code",
      "metadata": {
        "colab": {
          "base_uri": "https://localhost:8080/"
        },
        "id": "N4T6TQbEsax8",
        "outputId": "8b4697da-515c-43b4-b148-65bc466a0ac7"
      },
      "source": [
        "age, type(age)"
      ],
      "execution_count": 53,
      "outputs": [
        {
          "output_type": "execute_result",
          "data": {
            "text/plain": [
              "(23, int)"
            ]
          },
          "metadata": {},
          "execution_count": 53
        }
      ]
    },
    {
      "cell_type": "code",
      "metadata": {
        "colab": {
          "base_uri": "https://localhost:8080/"
        },
        "id": "RF7QqFcAsax8",
        "outputId": "903e5ca3-7ff7-4c23-e98e-c88ea3ce7031"
      },
      "source": [
        "job, type(job)"
      ],
      "execution_count": 54,
      "outputs": [
        {
          "output_type": "execute_result",
          "data": {
            "text/plain": [
              "('IT_PROG', str)"
            ]
          },
          "metadata": {},
          "execution_count": 54
        }
      ]
    },
    {
      "cell_type": "code",
      "metadata": {
        "colab": {
          "base_uri": "https://localhost:8080/"
        },
        "id": "jt7syMpzsax8",
        "outputId": "b74b0a4b-bc9c-4781-cc7e-35a15e439142"
      },
      "source": [
        "name = lst[1]\n",
        "name"
      ],
      "execution_count": 55,
      "outputs": [
        {
          "output_type": "execute_result",
          "data": {
            "text/plain": [
              "23"
            ]
          },
          "metadata": {},
          "execution_count": 55
        }
      ]
    },
    {
      "cell_type": "markdown",
      "metadata": {
        "id": "ex_CLB_msax8"
      },
      "source": [
        "## List specific properties"
      ]
    },
    {
      "cell_type": "code",
      "metadata": {
        "colab": {
          "base_uri": "https://localhost:8080/"
        },
        "id": "pC3A3o4lsax8",
        "outputId": "7d4bc630-c0da-46b4-9538-f831ca742868"
      },
      "source": [
        "lst = [1,2,3]\n",
        "lst.append(4)\n",
        "lst"
      ],
      "execution_count": 56,
      "outputs": [
        {
          "output_type": "execute_result",
          "data": {
            "text/plain": [
              "[1, 2, 3, 4]"
            ]
          },
          "metadata": {},
          "execution_count": 56
        }
      ]
    },
    {
      "cell_type": "code",
      "metadata": {
        "id": "5L5lMiFusax8"
      },
      "source": [
        "lst.append([5,6,7])"
      ],
      "execution_count": 57,
      "outputs": []
    },
    {
      "cell_type": "code",
      "metadata": {
        "colab": {
          "base_uri": "https://localhost:8080/"
        },
        "id": "sf35dbc1sax8",
        "outputId": "a608f3c2-c63e-4f95-a18b-464be9d6b0fc"
      },
      "source": [
        "lst"
      ],
      "execution_count": 58,
      "outputs": [
        {
          "output_type": "execute_result",
          "data": {
            "text/plain": [
              "[1, 2, 3, 4, [5, 6, 7]]"
            ]
          },
          "metadata": {},
          "execution_count": 58
        }
      ]
    },
    {
      "cell_type": "code",
      "metadata": {
        "colab": {
          "base_uri": "https://localhost:8080/"
        },
        "id": "pqOWlYdjsax8",
        "outputId": "bea18466-c8fb-40ee-a176-c631a6cfec74"
      },
      "source": [
        "len(lst)"
      ],
      "execution_count": 59,
      "outputs": [
        {
          "output_type": "execute_result",
          "data": {
            "text/plain": [
              "5"
            ]
          },
          "metadata": {},
          "execution_count": 59
        }
      ]
    },
    {
      "cell_type": "code",
      "metadata": {
        "colab": {
          "base_uri": "https://localhost:8080/"
        },
        "id": "osafuxR_sax8",
        "outputId": "55241a73-30bf-4412-d39b-618b2c798c73"
      },
      "source": [
        "lst[0] = 100\n",
        "lst"
      ],
      "execution_count": 60,
      "outputs": [
        {
          "output_type": "execute_result",
          "data": {
            "text/plain": [
              "[100, 2, 3, 4, [5, 6, 7]]"
            ]
          },
          "metadata": {},
          "execution_count": 60
        }
      ]
    },
    {
      "cell_type": "code",
      "metadata": {
        "colab": {
          "base_uri": "https://localhost:8080/"
        },
        "id": "kNUzMZLQsax8",
        "outputId": "4e1a384e-1396-495a-afc6-22c8c7fdd7f0"
      },
      "source": [
        "lst.insert(2,500)\n",
        "lst"
      ],
      "execution_count": 61,
      "outputs": [
        {
          "output_type": "execute_result",
          "data": {
            "text/plain": [
              "[100, 2, 500, 3, 4, [5, 6, 7]]"
            ]
          },
          "metadata": {},
          "execution_count": 61
        }
      ]
    },
    {
      "cell_type": "code",
      "metadata": {
        "colab": {
          "base_uri": "https://localhost:8080/"
        },
        "id": "baaINW1Osax8",
        "outputId": "d5f036fb-f023-41b3-f910-ed3d14c4ee18"
      },
      "source": [
        "lst[2:5] = [11]\n",
        "lst"
      ],
      "execution_count": 62,
      "outputs": [
        {
          "output_type": "execute_result",
          "data": {
            "text/plain": [
              "[100, 2, 11, [5, 6, 7]]"
            ]
          },
          "metadata": {},
          "execution_count": 62
        }
      ]
    },
    {
      "cell_type": "code",
      "metadata": {
        "id": "R96KnHPpsax8"
      },
      "source": [
        "lst = [1,2,3,4,5,6,7,8,9,10]"
      ],
      "execution_count": 63,
      "outputs": []
    },
    {
      "cell_type": "code",
      "metadata": {
        "id": "FHCkvivmsax9"
      },
      "source": [
        "del lst[2]"
      ],
      "execution_count": 64,
      "outputs": []
    },
    {
      "cell_type": "code",
      "metadata": {
        "colab": {
          "base_uri": "https://localhost:8080/"
        },
        "id": "5zHetoM7sax9",
        "outputId": "b558e79c-e847-4587-d759-7eb91a061a0b"
      },
      "source": [
        "lst"
      ],
      "execution_count": 65,
      "outputs": [
        {
          "output_type": "execute_result",
          "data": {
            "text/plain": [
              "[1, 2, 4, 5, 6, 7, 8, 9, 10]"
            ]
          },
          "metadata": {},
          "execution_count": 65
        }
      ]
    },
    {
      "cell_type": "code",
      "metadata": {
        "colab": {
          "base_uri": "https://localhost:8080/"
        },
        "id": "1Lh1xHrPsax_",
        "outputId": "6a9a8011-66d1-4d88-bac7-ffc66ab93d16"
      },
      "source": [
        "del lst[2:5]\n",
        "lst"
      ],
      "execution_count": 66,
      "outputs": [
        {
          "output_type": "execute_result",
          "data": {
            "text/plain": [
              "[1, 2, 7, 8, 9, 10]"
            ]
          },
          "metadata": {},
          "execution_count": 66
        }
      ]
    },
    {
      "cell_type": "code",
      "metadata": {
        "colab": {
          "base_uri": "https://localhost:8080/"
        },
        "id": "HvcfTzR5sax_",
        "outputId": "0cc39dc6-4d05-42a9-ba9d-63bca470386a"
      },
      "source": [
        "lst.pop()"
      ],
      "execution_count": 67,
      "outputs": [
        {
          "output_type": "execute_result",
          "data": {
            "text/plain": [
              "10"
            ]
          },
          "metadata": {},
          "execution_count": 67
        }
      ]
    },
    {
      "cell_type": "code",
      "metadata": {
        "colab": {
          "base_uri": "https://localhost:8080/"
        },
        "id": "sSFQHYCVsax_",
        "outputId": "b854991e-deb3-4ab7-8f00-b0b717cbf66d"
      },
      "source": [
        "lst"
      ],
      "execution_count": 68,
      "outputs": [
        {
          "output_type": "execute_result",
          "data": {
            "text/plain": [
              "[1, 2, 7, 8, 9]"
            ]
          },
          "metadata": {},
          "execution_count": 68
        }
      ]
    },
    {
      "cell_type": "code",
      "metadata": {
        "id": "U5Tnmyd3sax_"
      },
      "source": [
        "x = lst.pop()"
      ],
      "execution_count": 69,
      "outputs": []
    },
    {
      "cell_type": "code",
      "metadata": {
        "colab": {
          "base_uri": "https://localhost:8080/"
        },
        "id": "gW-BMPX8sax_",
        "outputId": "697f6a37-b153-42c7-a4a0-3a0f7df9ead8"
      },
      "source": [
        "x"
      ],
      "execution_count": 70,
      "outputs": [
        {
          "output_type": "execute_result",
          "data": {
            "text/plain": [
              "9"
            ]
          },
          "metadata": {},
          "execution_count": 70
        }
      ]
    },
    {
      "cell_type": "code",
      "metadata": {
        "colab": {
          "base_uri": "https://localhost:8080/"
        },
        "id": "iaT6Lzopsax_",
        "outputId": "4962aff0-49e1-4032-f3e7-05b7ee44ce7b"
      },
      "source": [
        "lst"
      ],
      "execution_count": 71,
      "outputs": [
        {
          "output_type": "execute_result",
          "data": {
            "text/plain": [
              "[1, 2, 7, 8]"
            ]
          },
          "metadata": {},
          "execution_count": 71
        }
      ]
    },
    {
      "cell_type": "code",
      "metadata": {
        "colab": {
          "base_uri": "https://localhost:8080/"
        },
        "id": "Fujn4Y4osax_",
        "outputId": "7276ff6d-d293-417e-ab14-ec8d98de4a5d"
      },
      "source": [
        "lst.pop(2)"
      ],
      "execution_count": 72,
      "outputs": [
        {
          "output_type": "execute_result",
          "data": {
            "text/plain": [
              "7"
            ]
          },
          "metadata": {},
          "execution_count": 72
        }
      ]
    },
    {
      "cell_type": "code",
      "metadata": {
        "colab": {
          "base_uri": "https://localhost:8080/"
        },
        "id": "1OFrbz3isax_",
        "outputId": "b5f10748-b4a1-4a79-beb3-542235ec0b21"
      },
      "source": [
        "lst"
      ],
      "execution_count": 73,
      "outputs": [
        {
          "output_type": "execute_result",
          "data": {
            "text/plain": [
              "[1, 2, 8]"
            ]
          },
          "metadata": {},
          "execution_count": 73
        }
      ]
    },
    {
      "cell_type": "code",
      "metadata": {
        "id": "JCsOZ5gLsax_"
      },
      "source": [
        "lst.clear()"
      ],
      "execution_count": 74,
      "outputs": []
    },
    {
      "cell_type": "code",
      "metadata": {
        "colab": {
          "base_uri": "https://localhost:8080/"
        },
        "id": "fbzZ-NFFsax_",
        "outputId": "d5aeadf2-1c2f-40bb-8d8f-9d402bbf8fce"
      },
      "source": [
        "lst"
      ],
      "execution_count": 75,
      "outputs": [
        {
          "output_type": "execute_result",
          "data": {
            "text/plain": [
              "[]"
            ]
          },
          "metadata": {},
          "execution_count": 75
        }
      ]
    },
    {
      "cell_type": "code",
      "metadata": {
        "id": "p_9LTjvdsayA"
      },
      "source": [
        "## sort a list\n",
        "lst = [23,13,46,89,12]\n",
        "lst.sort()"
      ],
      "execution_count": 76,
      "outputs": []
    },
    {
      "cell_type": "code",
      "metadata": {
        "colab": {
          "base_uri": "https://localhost:8080/"
        },
        "id": "lZwLqB0osayA",
        "outputId": "6747ecf0-a7e6-4096-9009-426f07a9bd26"
      },
      "source": [
        "lst"
      ],
      "execution_count": 77,
      "outputs": [
        {
          "output_type": "execute_result",
          "data": {
            "text/plain": [
              "[12, 13, 23, 46, 89]"
            ]
          },
          "metadata": {},
          "execution_count": 77
        }
      ]
    },
    {
      "cell_type": "code",
      "metadata": {
        "id": "vdRBR7BDsayA"
      },
      "source": [
        "lst = [23,13,46,89,12]"
      ],
      "execution_count": 78,
      "outputs": []
    },
    {
      "cell_type": "code",
      "metadata": {
        "colab": {
          "base_uri": "https://localhost:8080/"
        },
        "id": "ROCYaxDrsayA",
        "outputId": "4a287507-5ed3-49e2-a8ba-3e07912dd661"
      },
      "source": [
        "lst.sort(reverse=True)\n",
        "lst"
      ],
      "execution_count": 79,
      "outputs": [
        {
          "output_type": "execute_result",
          "data": {
            "text/plain": [
              "[89, 46, 23, 13, 12]"
            ]
          },
          "metadata": {},
          "execution_count": 79
        }
      ]
    },
    {
      "cell_type": "code",
      "metadata": {
        "id": "stpNeQcksayA"
      },
      "source": [
        "# Inplace reversal\n",
        "lst = [23,13,46,89,12]\n",
        "lst.reverse()"
      ],
      "execution_count": 80,
      "outputs": []
    },
    {
      "cell_type": "code",
      "metadata": {
        "colab": {
          "base_uri": "https://localhost:8080/"
        },
        "id": "h8BkPTp7sayA",
        "outputId": "1a0b6ec7-0b53-4f89-845d-cb4f028ff53d"
      },
      "source": [
        "lst"
      ],
      "execution_count": 81,
      "outputs": [
        {
          "output_type": "execute_result",
          "data": {
            "text/plain": [
              "[12, 89, 46, 13, 23]"
            ]
          },
          "metadata": {},
          "execution_count": 81
        }
      ]
    },
    {
      "cell_type": "code",
      "metadata": {
        "id": "aYOrXlH2sayA"
      },
      "source": [
        "lst2 = [23,13,46,89,12]"
      ],
      "execution_count": 82,
      "outputs": []
    },
    {
      "cell_type": "code",
      "metadata": {
        "colab": {
          "base_uri": "https://localhost:8080/"
        },
        "id": "m0hr5i4lsayA",
        "outputId": "1457e440-f39a-4c52-e913-65302346d949"
      },
      "source": [
        "rev_lst = lst2[::-1]\n",
        "rev_lst"
      ],
      "execution_count": 83,
      "outputs": [
        {
          "output_type": "execute_result",
          "data": {
            "text/plain": [
              "[12, 89, 46, 13, 23]"
            ]
          },
          "metadata": {},
          "execution_count": 83
        }
      ]
    },
    {
      "cell_type": "code",
      "metadata": {
        "colab": {
          "base_uri": "https://localhost:8080/"
        },
        "id": "tV8tsKOCsayA",
        "outputId": "11c394c0-a48c-4f0a-d0ea-ec3808af73da"
      },
      "source": [
        "lst2"
      ],
      "execution_count": 84,
      "outputs": [
        {
          "output_type": "execute_result",
          "data": {
            "text/plain": [
              "[23, 13, 46, 89, 12]"
            ]
          },
          "metadata": {},
          "execution_count": 84
        }
      ]
    },
    {
      "cell_type": "markdown",
      "metadata": {
        "id": "5918-0HPsayA"
      },
      "source": [
        "## List Comprehension"
      ]
    },
    {
      "cell_type": "code",
      "metadata": {
        "id": "MpF3DMc8sayA"
      },
      "source": [
        "## range = 1,5, \n",
        "## [1,4,9,16,25]"
      ],
      "execution_count": 85,
      "outputs": []
    },
    {
      "cell_type": "code",
      "metadata": {
        "colab": {
          "base_uri": "https://localhost:8080/"
        },
        "id": "axaGqOR9sayA",
        "outputId": "badb0d5e-bef2-4a2c-bb0c-2b274562ec82"
      },
      "source": [
        "squares = []\n",
        "for i in range(1,6):\n",
        "    squares.append(i**2)\n",
        "squares"
      ],
      "execution_count": 86,
      "outputs": [
        {
          "output_type": "execute_result",
          "data": {
            "text/plain": [
              "[1, 4, 9, 16, 25]"
            ]
          },
          "metadata": {},
          "execution_count": 86
        }
      ]
    },
    {
      "cell_type": "code",
      "metadata": {
        "colab": {
          "base_uri": "https://localhost:8080/"
        },
        "id": "Zs9N2v9esayB",
        "outputId": "609ce621-6291-4605-e5d3-779b5a76f03b"
      },
      "source": [
        "square_lic = [ i**2   for i in range(1,6) ]\n",
        "square_lic"
      ],
      "execution_count": 87,
      "outputs": [
        {
          "output_type": "execute_result",
          "data": {
            "text/plain": [
              "[1, 4, 9, 16, 25]"
            ]
          },
          "metadata": {},
          "execution_count": 87
        }
      ]
    },
    {
      "cell_type": "code",
      "metadata": {
        "id": "MHCR68-8sayB"
      },
      "source": [
        ""
      ],
      "execution_count": 87,
      "outputs": []
    },
    {
      "cell_type": "code",
      "metadata": {
        "id": "N1rSagzasayB"
      },
      "source": [
        ""
      ],
      "execution_count": 87,
      "outputs": []
    },
    {
      "cell_type": "code",
      "metadata": {
        "id": "zHuB3YSvsayB"
      },
      "source": [
        ""
      ],
      "execution_count": 87,
      "outputs": []
    },
    {
      "cell_type": "code",
      "metadata": {
        "id": "7rORxJzXsayB"
      },
      "source": [
        ""
      ],
      "execution_count": 87,
      "outputs": []
    },
    {
      "cell_type": "code",
      "metadata": {
        "id": "mlcFsyMTsayB"
      },
      "source": [
        ""
      ],
      "execution_count": 87,
      "outputs": []
    },
    {
      "cell_type": "code",
      "metadata": {
        "id": "9yugYv-dsayB"
      },
      "source": [
        ""
      ],
      "execution_count": 87,
      "outputs": []
    },
    {
      "cell_type": "markdown",
      "metadata": {
        "id": "9rdAkkF3sayB"
      },
      "source": [
        "# String"
      ]
    },
    {
      "cell_type": "code",
      "metadata": {
        "colab": {
          "base_uri": "https://localhost:8080/",
          "height": 35
        },
        "id": "t8QKbDDbsayB",
        "outputId": "cb31c563-9b50-462a-bb0a-5b3e6d2b94f3"
      },
      "source": [
        "my_str = 'python'\n",
        "my_str.capitalize()"
      ],
      "execution_count": 88,
      "outputs": [
        {
          "output_type": "execute_result",
          "data": {
            "application/vnd.google.colaboratory.intrinsic+json": {
              "type": "string"
            },
            "text/plain": [
              "'Python'"
            ]
          },
          "metadata": {},
          "execution_count": 88
        }
      ]
    },
    {
      "cell_type": "code",
      "metadata": {
        "colab": {
          "base_uri": "https://localhost:8080/",
          "height": 35
        },
        "id": "Ixer1cp5sayB",
        "outputId": "5274665a-65c1-400e-b263-0fe54655ed15"
      },
      "source": [
        "'hello world'.title()"
      ],
      "execution_count": 89,
      "outputs": [
        {
          "output_type": "execute_result",
          "data": {
            "application/vnd.google.colaboratory.intrinsic+json": {
              "type": "string"
            },
            "text/plain": [
              "'Hello World'"
            ]
          },
          "metadata": {},
          "execution_count": 89
        }
      ]
    },
    {
      "cell_type": "code",
      "metadata": {
        "colab": {
          "base_uri": "https://localhost:8080/"
        },
        "id": "zAshjlgusayB",
        "outputId": "398e944e-c3bf-4a96-8a33-b59432416f56"
      },
      "source": [
        "my_str.endswith('on'), my_str.endswith('fy')"
      ],
      "execution_count": 90,
      "outputs": [
        {
          "output_type": "execute_result",
          "data": {
            "text/plain": [
              "(True, False)"
            ]
          },
          "metadata": {},
          "execution_count": 90
        }
      ]
    },
    {
      "cell_type": "code",
      "metadata": {
        "colab": {
          "base_uri": "https://localhost:8080/"
        },
        "id": "XQ9JnSf6sayB",
        "outputId": "750b099d-0691-4dc0-ef4c-7b889d69a3b2"
      },
      "source": [
        "my_str.startswith('py'), my_str.startswith('fy')"
      ],
      "execution_count": 91,
      "outputs": [
        {
          "output_type": "execute_result",
          "data": {
            "text/plain": [
              "(True, False)"
            ]
          },
          "metadata": {},
          "execution_count": 91
        }
      ]
    },
    {
      "cell_type": "code",
      "metadata": {
        "id": "31jmoPHHsayB"
      },
      "source": [
        "my_str = 'pythonista'"
      ],
      "execution_count": 92,
      "outputs": []
    },
    {
      "cell_type": "code",
      "metadata": {
        "colab": {
          "base_uri": "https://localhost:8080/"
        },
        "id": "PBl2AloksayC",
        "outputId": "ced8df05-577f-474b-f3c0-e301438369c5"
      },
      "source": [
        "my_str.find('t')"
      ],
      "execution_count": 93,
      "outputs": [
        {
          "output_type": "execute_result",
          "data": {
            "text/plain": [
              "2"
            ]
          },
          "metadata": {},
          "execution_count": 93
        }
      ]
    },
    {
      "cell_type": "code",
      "metadata": {
        "colab": {
          "base_uri": "https://localhost:8080/"
        },
        "id": "zwK_zgGGsayC",
        "outputId": "34301c13-8124-4b7e-920d-e6e7ec06a2cc"
      },
      "source": [
        "my_str.find('x')"
      ],
      "execution_count": 94,
      "outputs": [
        {
          "output_type": "execute_result",
          "data": {
            "text/plain": [
              "-1"
            ]
          },
          "metadata": {},
          "execution_count": 94
        }
      ]
    },
    {
      "cell_type": "code",
      "metadata": {
        "colab": {
          "base_uri": "https://localhost:8080/"
        },
        "id": "7IToDGZesayC",
        "outputId": "895e9925-6721-4f76-e981-988d4686ecac"
      },
      "source": [
        "list(enumerate(my_str))"
      ],
      "execution_count": 95,
      "outputs": [
        {
          "output_type": "execute_result",
          "data": {
            "text/plain": [
              "[(0, 'p'),\n",
              " (1, 'y'),\n",
              " (2, 't'),\n",
              " (3, 'h'),\n",
              " (4, 'o'),\n",
              " (5, 'n'),\n",
              " (6, 'i'),\n",
              " (7, 's'),\n",
              " (8, 't'),\n",
              " (9, 'a')]"
            ]
          },
          "metadata": {},
          "execution_count": 95
        }
      ]
    },
    {
      "cell_type": "code",
      "metadata": {
        "colab": {
          "base_uri": "https://localhost:8080/"
        },
        "id": "fGW_uSR5sayC",
        "outputId": "af03ea06-8b56-48bc-a7a4-ac5b9afc53e0"
      },
      "source": [
        "my_str.index('t',3,9)"
      ],
      "execution_count": 96,
      "outputs": [
        {
          "output_type": "execute_result",
          "data": {
            "text/plain": [
              "8"
            ]
          },
          "metadata": {},
          "execution_count": 96
        }
      ]
    },
    {
      "cell_type": "code",
      "metadata": {
        "colab": {
          "base_uri": "https://localhost:8080/"
        },
        "id": "-HSI3dUGsayC",
        "outputId": "073ca317-098b-4468-8245-3056a103b0a8"
      },
      "source": [
        "str1 = 'python'\n",
        "str1.isalpha(),  str1.isalnum(),str1.isnumeric()"
      ],
      "execution_count": 97,
      "outputs": [
        {
          "output_type": "execute_result",
          "data": {
            "text/plain": [
              "(True, True, False)"
            ]
          },
          "metadata": {},
          "execution_count": 97
        }
      ]
    },
    {
      "cell_type": "code",
      "metadata": {
        "colab": {
          "base_uri": "https://localhost:8080/"
        },
        "id": "XETnVpgFsayC",
        "outputId": "b38a667c-e7d1-4ebf-a32a-8aa4fffa0368"
      },
      "source": [
        "str1.islower()"
      ],
      "execution_count": 98,
      "outputs": [
        {
          "output_type": "execute_result",
          "data": {
            "text/plain": [
              "True"
            ]
          },
          "metadata": {},
          "execution_count": 98
        }
      ]
    },
    {
      "cell_type": "code",
      "metadata": {
        "colab": {
          "base_uri": "https://localhost:8080/"
        },
        "id": "EBhGrWy6sayC",
        "outputId": "ac2dfab4-7b55-4e44-dde3-38e86e60ee2d"
      },
      "source": [
        "' '.isspace() , ''.isspace()"
      ],
      "execution_count": 99,
      "outputs": [
        {
          "output_type": "execute_result",
          "data": {
            "text/plain": [
              "(True, False)"
            ]
          },
          "metadata": {},
          "execution_count": 99
        }
      ]
    },
    {
      "cell_type": "code",
      "metadata": {
        "colab": {
          "base_uri": "https://localhost:8080/"
        },
        "id": "Mj_nxrRQsayC",
        "outputId": "d210bbb8-38c6-4a96-9027-a37bb214b153"
      },
      "source": [
        "'1,2;3'.split(';')"
      ],
      "execution_count": 100,
      "outputs": [
        {
          "output_type": "execute_result",
          "data": {
            "text/plain": [
              "['1,2', '3']"
            ]
          },
          "metadata": {},
          "execution_count": 100
        }
      ]
    },
    {
      "cell_type": "code",
      "metadata": {
        "colab": {
          "base_uri": "https://localhost:8080/"
        },
        "id": "uc3Q_7RWsayC",
        "outputId": "28899be3-7f05-41cb-9a74-91f547467bdc"
      },
      "source": [
        "'   word   '.strip(), '   word   '.lstrip(), '   word   '.rstrip()"
      ],
      "execution_count": 101,
      "outputs": [
        {
          "output_type": "execute_result",
          "data": {
            "text/plain": [
              "('word', 'word   ', '   word')"
            ]
          },
          "metadata": {},
          "execution_count": 101
        }
      ]
    },
    {
      "cell_type": "code",
      "metadata": {
        "colab": {
          "base_uri": "https://localhost:8080/"
        },
        "id": "iQFStdjGsayC",
        "outputId": "209650c2-59ef-41cd-e208-89ad0ad2ef06"
      },
      "source": [
        "'python'.upper(), 'Python'.lower(), 'Python'.swapcase()"
      ],
      "execution_count": 102,
      "outputs": [
        {
          "output_type": "execute_result",
          "data": {
            "text/plain": [
              "('PYTHON', 'python', 'pYTHON')"
            ]
          },
          "metadata": {},
          "execution_count": 102
        }
      ]
    },
    {
      "cell_type": "code",
      "metadata": {
        "id": "NCRQ4kBlsayD"
      },
      "source": [
        ""
      ],
      "execution_count": 102,
      "outputs": []
    }
  ]
}