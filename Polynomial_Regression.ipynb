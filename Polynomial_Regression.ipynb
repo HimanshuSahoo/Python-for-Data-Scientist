{
  "nbformat": 4,
  "nbformat_minor": 5,
  "metadata": {
    "kernelspec": {
      "display_name": "Python 3",
      "language": "python",
      "name": "python3"
    },
    "language_info": {
      "codemirror_mode": {
        "name": "ipython",
        "version": 3
      },
      "file_extension": ".py",
      "mimetype": "text/x-python",
      "name": "python",
      "nbconvert_exporter": "python",
      "pygments_lexer": "ipython3",
      "version": "3.8.8"
    },
    "toc": {
      "base_numbering": 1,
      "nav_menu": {},
      "number_sections": true,
      "sideBar": true,
      "skip_h1_title": false,
      "title_cell": "Table of Contents",
      "title_sidebar": "Contents",
      "toc_cell": false,
      "toc_position": {},
      "toc_section_display": true,
      "toc_window_display": false
    },
    "varInspector": {
      "cols": {
        "lenName": 16,
        "lenType": 16,
        "lenVar": 40
      },
      "kernels_config": {
        "python": {
          "delete_cmd_postfix": "",
          "delete_cmd_prefix": "del ",
          "library": "var_list.py",
          "varRefreshCmd": "print(var_dic_list())"
        },
        "r": {
          "delete_cmd_postfix": ") ",
          "delete_cmd_prefix": "rm(",
          "library": "var_list.r",
          "varRefreshCmd": "cat(var_dic_list()) "
        }
      },
      "types_to_exclude": [
        "module",
        "function",
        "builtin_function_or_method",
        "instance",
        "_Feature"
      ],
      "window_display": false
    },
    "colab": {
      "name": "Polynomial Regression.ipynb",
      "provenance": [],
      "include_colab_link": true
    }
  },
  "cells": [
    {
      "cell_type": "markdown",
      "metadata": {
        "id": "view-in-github",
        "colab_type": "text"
      },
      "source": [
        "<a href=\"https://colab.research.google.com/github/HimanshuSahoo/Python-for-Data-Scientist/blob/main/Polynomial_Regression.ipynb\" target=\"_parent\"><img src=\"https://colab.research.google.com/assets/colab-badge.svg\" alt=\"Open In Colab\"/></a>"
      ]
    },
    {
      "cell_type": "code",
      "metadata": {
        "id": "8af0d873",
        "outputId": "092a6b1d-79b0-4ab6-83c2-81189ed3fee8"
      },
      "source": [
        "import matplotlib.pyplot as plt\n",
        "\n",
        "x=(1,2,3,5,6,7,8,9,10,12,14,15,16,18,19,21,22)\n",
        "y=(100,90,80,60,60,55,60,65,70,70,75,78,79,90,99,99,100)\n",
        "\n",
        "plt.scatter(x,y)\n",
        "\n",
        "plt.show()"
      ],
      "id": "8af0d873",
      "execution_count": null,
      "outputs": [
        {
          "data": {
            "image/png": "[encoded data removed]",
            "text/plain": [
              "<Figure size 432x288 with 1 Axes>"
            ]
          },
          "metadata": {
            "needs_background": "light"
          },
          "output_type": "display_data"
        }
      ]
    },
    {
      "cell_type": "code",
      "metadata": {
        "id": "44485651",
        "outputId": "9545e50f-7a64-4da7-f2f0-1c420df03f63"
      },
      "source": [
        "import numpy as np\n",
        "import matplotlib.pyplot as plt\n",
        "\n",
        "x=(1,2,3,5,6,7,8,9,10,12,14,15,16,18,19,21,22)\n",
        "y=(100,90,80,60,60,55,60,65,70,70,75,78,79,90,99,99,100)\n",
        "\n",
        "mymodel=np.poly1d(np.polyfit(x,y,3))\n",
        "\n",
        "myline=np.linspace(1,22,100)\n",
        "\n",
        "plt.scatter(x,y)\n",
        "\n",
        "plt.plot(myline,mymodel(myline))\n",
        "\n",
        "plt.show()"
      ],
      "id": "44485651",
      "execution_count": null,
      "outputs": [
        {
          "data": {
            "image/png": "[encoded data removed]",
            "text/plain": [
              "<Figure size 432x288 with 1 Axes>"
            ]
          },
          "metadata": {
            "needs_background": "light"
          },
          "output_type": "display_data"
        }
      ]
    },
    {
      "cell_type": "code",
      "metadata": {
        "id": "83c16f36",
        "outputId": "c8264ca2-8a17-4cfe-e0a0-d11867dd3673"
      },
      "source": [
        "from sklearn.metrics import r2_score\n",
        "\n",
        "\n",
        "x=(1,2,3,5,6,7,8,9,10,12,14,15,16,18,19,21,22)\n",
        "y=(100,90,80,60,60,55,60,65,70,70,75,78,79,90,99,99,100)\n",
        "\n",
        "mymodel=np.poly1d(np.polyfit(x,y,3))\n",
        "\n",
        "speed=mymodel(17)\n",
        "\n",
        "print(speed)"
      ],
      "id": "83c16f36",
      "execution_count": null,
      "outputs": [
        {
          "name": "stdout",
          "output_type": "stream",
          "text": [
            "88.30662048953045\n"
          ]
        }
      ]
    },
    {
      "cell_type": "code",
      "metadata": {
        "id": "6a0b8dff"
      },
      "source": [
        ""
      ],
      "id": "6a0b8dff",
      "execution_count": null,
      "outputs": []
    }
  ]
}