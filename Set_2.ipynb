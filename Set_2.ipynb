{
  "nbformat": 4,
  "nbformat_minor": 0,
  "metadata": {
    "kernelspec": {
      "display_name": "Python 3",
      "language": "python",
      "name": "python3"
    },
    "language_info": {
      "codemirror_mode": {
        "name": "ipython",
        "version": 3
      },
      "file_extension": ".py",
      "mimetype": "text/x-python",
      "name": "python",
      "nbconvert_exporter": "python",
      "pygments_lexer": "ipython3",
      "version": "3.8.8"
    },
    "toc": {
      "base_numbering": 1,
      "nav_menu": {},
      "number_sections": true,
      "sideBar": true,
      "skip_h1_title": false,
      "title_cell": "Table of Contents",
      "title_sidebar": "Contents",
      "toc_cell": false,
      "toc_position": {},
      "toc_section_display": true,
      "toc_window_display": false
    },
    "varInspector": {
      "cols": {
        "lenName": 16,
        "lenType": 16,
        "lenVar": 40
      },
      "kernels_config": {
        "python": {
          "delete_cmd_postfix": "",
          "delete_cmd_prefix": "del ",
          "library": "var_list.py",
          "varRefreshCmd": "print(var_dic_list())"
        },
        "r": {
          "delete_cmd_postfix": ") ",
          "delete_cmd_prefix": "rm(",
          "library": "var_list.r",
          "varRefreshCmd": "cat(var_dic_list()) "
        }
      },
      "types_to_exclude": [
        "module",
        "function",
        "builtin_function_or_method",
        "instance",
        "_Feature"
      ],
      "window_display": false
    },
    "colab": {
      "name": "Set_2.ipynb",
      "provenance": [],
      "include_colab_link": true
    }
  },
  "cells": [
    {
      "cell_type": "markdown",
      "metadata": {
        "id": "view-in-github",
        "colab_type": "text"
      },
      "source": [
        "<a href=\"https://colab.research.google.com/github/HimanshuSahoo/Python-for-Data-Scientist/blob/main/Set_2.ipynb\" target=\"_parent\"><img src=\"https://colab.research.google.com/assets/colab-badge.svg\" alt=\"Open In Colab\"/></a>"
      ]
    },
    {
      "cell_type": "markdown",
      "metadata": {
        "id": "ycYSRgtls21D"
      },
      "source": [
        "# Sets"
      ]
    },
    {
      "cell_type": "markdown",
      "metadata": {
        "id": "5XqLypuRs21H"
      },
      "source": [
        "### Creating Sets"
      ]
    },
    {
      "cell_type": "markdown",
      "metadata": {
        "id": "lC7Qqv6Ns21H"
      },
      "source": [
        "##### Efficiency of set compared to other collections"
      ]
    },
    {
      "cell_type": "code",
      "metadata": {
        "id": "lcVtqaQ0s21I"
      },
      "source": [
        "n = 1000000\n",
        "s = set(range(n))\n",
        "l = list(range(n))\n",
        "t = tuple(range(n))"
      ],
      "execution_count": 1,
      "outputs": []
    },
    {
      "cell_type": "code",
      "metadata": {
        "id": "Jsi49gQBs21I"
      },
      "source": [
        "def test_set(s, value):\n",
        "    return value in s"
      ],
      "execution_count": 2,
      "outputs": []
    },
    {
      "cell_type": "code",
      "metadata": {
        "id": "ob8mPAaps21J"
      },
      "source": [
        "def test_list(l, value):\n",
        "    return value in l"
      ],
      "execution_count": 3,
      "outputs": []
    },
    {
      "cell_type": "code",
      "metadata": {
        "id": "zYzCSGNOs21J"
      },
      "source": [
        "def test_tup(t, value):\n",
        "    return value in t"
      ],
      "execution_count": 4,
      "outputs": []
    },
    {
      "cell_type": "code",
      "metadata": {
        "colab": {
          "base_uri": "https://localhost:8080/"
        },
        "id": "Wb6OgLhbs21K",
        "outputId": "41e3eae0-4a41-412e-c855-152f3d5a13ea"
      },
      "source": [
        "%timeit test_tup(t,100)"
      ],
      "execution_count": 5,
      "outputs": [
        {
          "output_type": "stream",
          "name": "stdout",
          "text": [
            "100000 loops, best of 5: 1.6 µs per loop\n"
          ]
        }
      ]
    },
    {
      "cell_type": "code",
      "metadata": {
        "colab": {
          "base_uri": "https://localhost:8080/"
        },
        "id": "psCe2bh-s21L",
        "outputId": "94c98e52-27cd-4149-825f-cfdf9009fa47"
      },
      "source": [
        "%timeit test_tup(t,900000)"
      ],
      "execution_count": 6,
      "outputs": [
        {
          "output_type": "stream",
          "name": "stdout",
          "text": [
            "100 loops, best of 5: 13.3 ms per loop\n"
          ]
        }
      ]
    },
    {
      "cell_type": "code",
      "metadata": {
        "colab": {
          "base_uri": "https://localhost:8080/"
        },
        "id": "Yd1dZxgEs21M",
        "outputId": "d46fcbf1-9781-48a0-c96e-920cf3c7c864"
      },
      "source": [
        "%timeit test_list(t,100)"
      ],
      "execution_count": 7,
      "outputs": [
        {
          "output_type": "stream",
          "name": "stdout",
          "text": [
            "1000000 loops, best of 5: 1.56 µs per loop\n"
          ]
        }
      ]
    },
    {
      "cell_type": "code",
      "metadata": {
        "colab": {
          "base_uri": "https://localhost:8080/"
        },
        "id": "TKV8vTsJs21M",
        "outputId": "d38a0060-7bbd-499f-9b52-18163cb77dbc"
      },
      "source": [
        "%timeit test_list(t,900000)"
      ],
      "execution_count": 8,
      "outputs": [
        {
          "output_type": "stream",
          "name": "stdout",
          "text": [
            "100 loops, best of 5: 13.3 ms per loop\n"
          ]
        }
      ]
    },
    {
      "cell_type": "code",
      "metadata": {
        "colab": {
          "base_uri": "https://localhost:8080/"
        },
        "id": "RIhq8Va8s21M",
        "outputId": "0bd4e38c-e728-416e-abce-678e48783c16"
      },
      "source": [
        "%timeit test_set(s,100)"
      ],
      "execution_count": 9,
      "outputs": [
        {
          "output_type": "stream",
          "name": "stdout",
          "text": [
            "The slowest run took 20.91 times longer than the fastest. This could mean that an intermediate result is being cached.\n",
            "10000000 loops, best of 5: 137 ns per loop\n"
          ]
        }
      ]
    },
    {
      "cell_type": "code",
      "metadata": {
        "colab": {
          "base_uri": "https://localhost:8080/"
        },
        "id": "wNAeAHzPs21N",
        "outputId": "e3aad87e-f0eb-4e15-c7a8-bc5002527990"
      },
      "source": [
        "%timeit test_set(s,900000)"
      ],
      "execution_count": 10,
      "outputs": [
        {
          "output_type": "stream",
          "name": "stdout",
          "text": [
            "The slowest run took 17.07 times longer than the fastest. This could mean that an intermediate result is being cached.\n",
            "10000000 loops, best of 5: 154 ns per loop\n"
          ]
        }
      ]
    },
    {
      "cell_type": "code",
      "metadata": {
        "colab": {
          "base_uri": "https://localhost:8080/"
        },
        "id": "osHdahTvs21N",
        "outputId": "e32830cf-6b3a-49dd-8f44-07319fc6f7ef"
      },
      "source": [
        "### Efficiency comes at the cost of memory\n",
        "print(l.__sizeof__())\n",
        "print(t.__sizeof__())\n",
        "print(s.__sizeof__())"
      ],
      "execution_count": 11,
      "outputs": [
        {
          "output_type": "stream",
          "name": "stdout",
          "text": [
            "9000088\n",
            "8000024\n",
            "33554632\n"
          ]
        }
      ]
    },
    {
      "cell_type": "markdown",
      "metadata": {
        "id": "n6x8VbS8s21N"
      },
      "source": [
        "### Set Operations"
      ]
    },
    {
      "cell_type": "markdown",
      "metadata": {
        "id": "oo-EqDsOs21O"
      },
      "source": [
        "##### a. Intersection"
      ]
    },
    {
      "cell_type": "code",
      "metadata": {
        "id": "8DOdk3GVs21O"
      },
      "source": [
        "s1 = {1, 2, 3}\n",
        "s2 = {2, 3, 4}"
      ],
      "execution_count": 12,
      "outputs": []
    },
    {
      "cell_type": "code",
      "metadata": {
        "colab": {
          "base_uri": "https://localhost:8080/"
        },
        "id": "gC8szGK-s21O",
        "outputId": "b974e0e7-ddd4-4249-fbe8-ae8cfde22967"
      },
      "source": [
        "s1.intersection(s2)"
      ],
      "execution_count": 13,
      "outputs": [
        {
          "output_type": "execute_result",
          "data": {
            "text/plain": [
              "{2, 3}"
            ]
          },
          "metadata": {},
          "execution_count": 13
        }
      ]
    },
    {
      "cell_type": "code",
      "metadata": {
        "colab": {
          "base_uri": "https://localhost:8080/"
        },
        "id": "JiDpQiRKs21O",
        "outputId": "e3ab741d-0bb1-4338-d9a2-67c3fd087513"
      },
      "source": [
        "s1 & s2"
      ],
      "execution_count": 14,
      "outputs": [
        {
          "output_type": "execute_result",
          "data": {
            "text/plain": [
              "{2, 3}"
            ]
          },
          "metadata": {},
          "execution_count": 14
        }
      ]
    },
    {
      "cell_type": "code",
      "metadata": {
        "id": "G38E61jes21O"
      },
      "source": [
        "## Intersection of more than 2 sets\n",
        "s1 = {1, 2, 3}\n",
        "s2 = {2, 3, 4}\n",
        "s3 = {3, 4, 5}"
      ],
      "execution_count": 15,
      "outputs": []
    },
    {
      "cell_type": "code",
      "metadata": {
        "colab": {
          "base_uri": "https://localhost:8080/"
        },
        "id": "zI1NPIuas21P",
        "outputId": "b72d191b-1f64-4337-f47d-7efe222f09a5"
      },
      "source": [
        "s1.intersection(s2, s3)"
      ],
      "execution_count": 16,
      "outputs": [
        {
          "output_type": "execute_result",
          "data": {
            "text/plain": [
              "{3}"
            ]
          },
          "metadata": {},
          "execution_count": 16
        }
      ]
    },
    {
      "cell_type": "code",
      "metadata": {
        "colab": {
          "base_uri": "https://localhost:8080/"
        },
        "id": "Y8i8Yme6s21P",
        "outputId": "2bd66050-b9bd-421c-c24d-2d5045e171ec"
      },
      "source": [
        "s1 & s2 & s3"
      ],
      "execution_count": 17,
      "outputs": [
        {
          "output_type": "execute_result",
          "data": {
            "text/plain": [
              "{3}"
            ]
          },
          "metadata": {},
          "execution_count": 17
        }
      ]
    },
    {
      "cell_type": "markdown",
      "metadata": {
        "id": "P-7hRnWus21P"
      },
      "source": [
        "##### b. Union"
      ]
    },
    {
      "cell_type": "code",
      "metadata": {
        "id": "f50BpX0zs21P"
      },
      "source": [
        "s1 = {1, 2, 3}\n",
        "s2 = {3, 4, 5}"
      ],
      "execution_count": 18,
      "outputs": []
    },
    {
      "cell_type": "code",
      "metadata": {
        "colab": {
          "base_uri": "https://localhost:8080/"
        },
        "id": "ymnUd87ks21P",
        "outputId": "1b3f7bfc-b2cc-4a11-f826-bd86ce35f398"
      },
      "source": [
        "s1.union(s2)"
      ],
      "execution_count": 19,
      "outputs": [
        {
          "output_type": "execute_result",
          "data": {
            "text/plain": [
              "{1, 2, 3, 4, 5}"
            ]
          },
          "metadata": {},
          "execution_count": 19
        }
      ]
    },
    {
      "cell_type": "code",
      "metadata": {
        "colab": {
          "base_uri": "https://localhost:8080/"
        },
        "id": "mVWng2W1s21Q",
        "outputId": "6ba0de0a-cc71-4b6f-a2ec-d2a96f623e59"
      },
      "source": [
        "s1 | s2"
      ],
      "execution_count": 20,
      "outputs": [
        {
          "output_type": "execute_result",
          "data": {
            "text/plain": [
              "{1, 2, 3, 4, 5}"
            ]
          },
          "metadata": {},
          "execution_count": 20
        }
      ]
    },
    {
      "cell_type": "code",
      "metadata": {
        "id": "sY-PKMgYs21Q"
      },
      "source": [
        "### We can compute the union of more than two sets:\n",
        "s3 = {5, 6, 7}"
      ],
      "execution_count": 21,
      "outputs": []
    },
    {
      "cell_type": "code",
      "metadata": {
        "colab": {
          "base_uri": "https://localhost:8080/"
        },
        "id": "sEsiD6nWs21Q",
        "outputId": "8b53a104-8048-44b4-8c09-d048e4bd11d9"
      },
      "source": [
        "s1.union(s2, s3)"
      ],
      "execution_count": 22,
      "outputs": [
        {
          "output_type": "execute_result",
          "data": {
            "text/plain": [
              "{1, 2, 3, 4, 5, 6, 7}"
            ]
          },
          "metadata": {},
          "execution_count": 22
        }
      ]
    },
    {
      "cell_type": "code",
      "metadata": {
        "colab": {
          "base_uri": "https://localhost:8080/"
        },
        "id": "8FA5-qtos21Q",
        "outputId": "aab98909-6c5d-4537-e45d-2b76f92539f5"
      },
      "source": [
        "s1 | s2 | s3"
      ],
      "execution_count": 23,
      "outputs": [
        {
          "output_type": "execute_result",
          "data": {
            "text/plain": [
              "{1, 2, 3, 4, 5, 6, 7}"
            ]
          },
          "metadata": {},
          "execution_count": 23
        }
      ]
    },
    {
      "cell_type": "markdown",
      "metadata": {
        "id": "qyPvVW5ss21Q"
      },
      "source": [
        "##### c. Disjointedness"
      ]
    },
    {
      "cell_type": "markdown",
      "metadata": {
        "id": "HbEGRM7xs21Q"
      },
      "source": [
        "Two sets are disjoint if their intersection is empty:"
      ]
    },
    {
      "cell_type": "code",
      "metadata": {
        "id": "aY-IPzqhs21Q"
      },
      "source": [
        "s1 = {1, 2, 3}\n",
        "s2 = {2, 3, 4}\n",
        "s3 = {30, 40, 50}"
      ],
      "execution_count": 24,
      "outputs": []
    },
    {
      "cell_type": "code",
      "metadata": {
        "colab": {
          "base_uri": "https://localhost:8080/"
        },
        "id": "OAjeaFRts21Q",
        "outputId": "b7a1a04f-8e10-4059-d170-0e13240a8388"
      },
      "source": [
        "print(s1.isdisjoint(s2))\n",
        "print(s2.isdisjoint(s3))"
      ],
      "execution_count": 25,
      "outputs": [
        {
          "output_type": "stream",
          "name": "stdout",
          "text": [
            "False\n",
            "True\n"
          ]
        }
      ]
    },
    {
      "cell_type": "code",
      "metadata": {
        "colab": {
          "base_uri": "https://localhost:8080/"
        },
        "id": "7ptCvT9Ts21Q",
        "outputId": "c1bc3867-64cc-4cad-c783-2968441db75a"
      },
      "source": [
        "### Another way to test disjointedness\n",
        "### Check the cardinality of the intersection\n",
        "len(s1 & s2) , len(s2&s3)"
      ],
      "execution_count": 26,
      "outputs": [
        {
          "output_type": "execute_result",
          "data": {
            "text/plain": [
              "(2, 0)"
            ]
          },
          "metadata": {},
          "execution_count": 26
        }
      ]
    },
    {
      "cell_type": "markdown",
      "metadata": {
        "id": "c4_SJmc_s21R"
      },
      "source": [
        "##### d. Differences"
      ]
    },
    {
      "cell_type": "markdown",
      "metadata": {
        "id": "t3cTkzMts21R"
      },
      "source": [
        "Note that the difference operator is not commutative, i.e. \n",
        "\n",
        "s1 - s2 = s2 - s1\n"
      ]
    },
    {
      "cell_type": "code",
      "metadata": {
        "id": "SOszLqfes21R"
      },
      "source": [
        "s1 = {1, 2, 3, 4, 5}\n",
        "s2 = {4, 5}"
      ],
      "execution_count": 27,
      "outputs": []
    },
    {
      "cell_type": "code",
      "metadata": {
        "colab": {
          "base_uri": "https://localhost:8080/"
        },
        "id": "_vZ7SPpRs21R",
        "outputId": "2e65ead9-f371-4642-ac39-0466b649a2ce"
      },
      "source": [
        "s1 - s2"
      ],
      "execution_count": 28,
      "outputs": [
        {
          "output_type": "execute_result",
          "data": {
            "text/plain": [
              "{1, 2, 3}"
            ]
          },
          "metadata": {},
          "execution_count": 28
        }
      ]
    },
    {
      "cell_type": "code",
      "metadata": {
        "colab": {
          "base_uri": "https://localhost:8080/"
        },
        "id": "0Yt_4fnIs21R",
        "outputId": "79a016d9-5d7a-4da5-c0dd-813945857775"
      },
      "source": [
        "s1.difference(s2)"
      ],
      "execution_count": 29,
      "outputs": [
        {
          "output_type": "execute_result",
          "data": {
            "text/plain": [
              "{1, 2, 3}"
            ]
          },
          "metadata": {},
          "execution_count": 29
        }
      ]
    },
    {
      "cell_type": "markdown",
      "metadata": {
        "id": "WYZUzM0js21R"
      },
      "source": [
        "##### e. Symmetric Difference"
      ]
    },
    {
      "cell_type": "markdown",
      "metadata": {
        "id": "Ijg5beaWs21R"
      },
      "source": [
        "The symmetric difference of two sets results in the difference of the union and the intersection of the two sets:"
      ]
    },
    {
      "cell_type": "code",
      "metadata": {
        "id": "ySZyMaars21R"
      },
      "source": [
        "s1 = {1, 2, 3, 4, 5}\n",
        "s2 = {4, 5, 6, 7, 8}"
      ],
      "execution_count": 30,
      "outputs": []
    },
    {
      "cell_type": "code",
      "metadata": {
        "colab": {
          "base_uri": "https://localhost:8080/"
        },
        "id": "gKFQrjqEs21R",
        "outputId": "73df5a0e-06b2-46fa-cfd6-e7bfe7d22fc4"
      },
      "source": [
        "s1.symmetric_difference(s2)"
      ],
      "execution_count": 31,
      "outputs": [
        {
          "output_type": "execute_result",
          "data": {
            "text/plain": [
              "{1, 2, 3, 6, 7, 8}"
            ]
          },
          "metadata": {},
          "execution_count": 31
        }
      ]
    },
    {
      "cell_type": "code",
      "metadata": {
        "colab": {
          "base_uri": "https://localhost:8080/"
        },
        "id": "l7Ubi1Nhs21R",
        "outputId": "ede619b1-ea55-48f9-f297-b6dade06118f"
      },
      "source": [
        "(s1 | s2) - (s1 & s2)"
      ],
      "execution_count": 32,
      "outputs": [
        {
          "output_type": "execute_result",
          "data": {
            "text/plain": [
              "{1, 2, 3, 6, 7, 8}"
            ]
          },
          "metadata": {},
          "execution_count": 32
        }
      ]
    },
    {
      "cell_type": "markdown",
      "metadata": {
        "id": "hxzzJklCs21S"
      },
      "source": [
        "##### f. Subsets and Supersets"
      ]
    },
    {
      "cell_type": "code",
      "metadata": {
        "id": "qu7CKZhzs21S"
      },
      "source": [
        "s1 = {1, 2, 3}\n",
        "s2 = {1, 2, 3}\n",
        "s3 = {1, 2, 3, 4}\n",
        "s4 = {10, 20, 30}"
      ],
      "execution_count": 33,
      "outputs": []
    },
    {
      "cell_type": "code",
      "metadata": {
        "colab": {
          "base_uri": "https://localhost:8080/"
        },
        "id": "0ZvaPg4Ds21S",
        "outputId": "cd825e77-1c14-415b-d398-2ad275660501"
      },
      "source": [
        "s1.issubset(s2)"
      ],
      "execution_count": 34,
      "outputs": [
        {
          "output_type": "execute_result",
          "data": {
            "text/plain": [
              "True"
            ]
          },
          "metadata": {},
          "execution_count": 34
        }
      ]
    },
    {
      "cell_type": "code",
      "metadata": {
        "colab": {
          "base_uri": "https://localhost:8080/"
        },
        "id": "fDkiS0wes21S",
        "outputId": "da71cfb4-ab6a-468e-fe23-013c5159e671"
      },
      "source": [
        "s1 <= s2"
      ],
      "execution_count": 35,
      "outputs": [
        {
          "output_type": "execute_result",
          "data": {
            "text/plain": [
              "True"
            ]
          },
          "metadata": {},
          "execution_count": 35
        }
      ]
    },
    {
      "cell_type": "code",
      "metadata": {
        "colab": {
          "base_uri": "https://localhost:8080/"
        },
        "id": "-wSmy7ums21S",
        "outputId": "c51cbcf9-2564-4d95-b337-5211bc388f4f"
      },
      "source": [
        "## Proper subset\n",
        "s1 < s2"
      ],
      "execution_count": 36,
      "outputs": [
        {
          "output_type": "execute_result",
          "data": {
            "text/plain": [
              "False"
            ]
          },
          "metadata": {},
          "execution_count": 36
        }
      ]
    },
    {
      "cell_type": "code",
      "metadata": {
        "colab": {
          "base_uri": "https://localhost:8080/"
        },
        "id": "4tWdKRBUs21S",
        "outputId": "48a3b2cb-1be7-4f39-d9ac-794522a59a7c"
      },
      "source": [
        "## s1 is a proper subset of s3\n",
        "s1 < s3"
      ],
      "execution_count": 37,
      "outputs": [
        {
          "output_type": "execute_result",
          "data": {
            "text/plain": [
              "True"
            ]
          },
          "metadata": {},
          "execution_count": 37
        }
      ]
    },
    {
      "cell_type": "code",
      "metadata": {
        "colab": {
          "base_uri": "https://localhost:8080/"
        },
        "id": "B5NJf5Brs21S",
        "outputId": "9a162a78-d2f9-437d-d28e-e2d7436cc093"
      },
      "source": [
        "### Similar tests for superset\n",
        "s2.issuperset(s1)"
      ],
      "execution_count": 38,
      "outputs": [
        {
          "output_type": "execute_result",
          "data": {
            "text/plain": [
              "True"
            ]
          },
          "metadata": {},
          "execution_count": 38
        }
      ]
    },
    {
      "cell_type": "code",
      "metadata": {
        "colab": {
          "base_uri": "https://localhost:8080/"
        },
        "id": "14asyNAss21S",
        "outputId": "9f948a72-1c59-4b1a-cafc-b20ad4ed3c89"
      },
      "source": [
        "s2 >= s1"
      ],
      "execution_count": 39,
      "outputs": [
        {
          "output_type": "execute_result",
          "data": {
            "text/plain": [
              "True"
            ]
          },
          "metadata": {},
          "execution_count": 39
        }
      ]
    },
    {
      "cell_type": "code",
      "metadata": {
        "colab": {
          "base_uri": "https://localhost:8080/"
        },
        "id": "R4q1FACts21S",
        "outputId": "c4e6727e-2da2-47cb-ea94-6b592b38c12b"
      },
      "source": [
        "s2 > s1"
      ],
      "execution_count": 40,
      "outputs": [
        {
          "output_type": "execute_result",
          "data": {
            "text/plain": [
              "False"
            ]
          },
          "metadata": {},
          "execution_count": 40
        }
      ]
    },
    {
      "cell_type": "code",
      "metadata": {
        "id": "VQUGfm3Ss21S"
      },
      "source": [
        ""
      ],
      "execution_count": 40,
      "outputs": []
    }
  ]
}