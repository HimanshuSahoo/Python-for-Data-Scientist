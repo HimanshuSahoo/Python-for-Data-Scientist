{
  "nbformat": 4,
  "nbformat_minor": 5,
  "metadata": {
    "kernelspec": {
      "display_name": "Python 3",
      "language": "python",
      "name": "python3"
    },
    "language_info": {
      "codemirror_mode": {
        "name": "ipython",
        "version": 3
      },
      "file_extension": ".py",
      "mimetype": "text/x-python",
      "name": "python",
      "nbconvert_exporter": "python",
      "pygments_lexer": "ipython3",
      "version": "3.8.8"
    },
    "toc": {
      "base_numbering": 1,
      "nav_menu": {},
      "number_sections": true,
      "sideBar": true,
      "skip_h1_title": false,
      "title_cell": "Table of Contents",
      "title_sidebar": "Contents",
      "toc_cell": false,
      "toc_position": {},
      "toc_section_display": true,
      "toc_window_display": false
    },
    "varInspector": {
      "cols": {
        "lenName": 16,
        "lenType": 16,
        "lenVar": 40
      },
      "kernels_config": {
        "python": {
          "delete_cmd_postfix": "",
          "delete_cmd_prefix": "del ",
          "library": "var_list.py",
          "varRefreshCmd": "print(var_dic_list())"
        },
        "r": {
          "delete_cmd_postfix": ") ",
          "delete_cmd_prefix": "rm(",
          "library": "var_list.r",
          "varRefreshCmd": "cat(var_dic_list()) "
        }
      },
      "types_to_exclude": [
        "module",
        "function",
        "builtin_function_or_method",
        "instance",
        "_Feature"
      ],
      "window_display": false
    },
    "colab": {
      "name": "Mail Classification_Himanshu.ipynb",
      "provenance": [],
      "include_colab_link": true
    }
  },
  "cells": [
    {
      "cell_type": "markdown",
      "metadata": {
        "id": "view-in-github",
        "colab_type": "text"
      },
      "source": [
        "<a href=\"https://colab.research.google.com/github/HimanshuSahoo/Python-for-Data-Scientist/blob/main/Mail_Classification_Himanshu.ipynb\" target=\"_parent\"><img src=\"https://colab.research.google.com/assets/colab-badge.svg\" alt=\"Open In Colab\"/></a>"
      ]
    },
    {
      "cell_type": "code",
      "metadata": {
        "id": "a904eea9"
      },
      "source": [
        "import numpy as np\n",
        "import pandas as pd"
      ],
      "id": "a904eea9",
      "execution_count": null,
      "outputs": []
    },
    {
      "cell_type": "code",
      "metadata": {
        "id": "2122a1ff"
      },
      "source": [
        "import warnings\n",
        "warnings.filterwarnings('ignore')"
      ],
      "id": "2122a1ff",
      "execution_count": null,
      "outputs": []
    },
    {
      "cell_type": "code",
      "metadata": {
        "id": "328180ec"
      },
      "source": [
        "df = pd.read_csv('emails1')"
      ],
      "id": "328180ec",
      "execution_count": null,
      "outputs": []
    },
    {
      "cell_type": "code",
      "metadata": {
        "id": "0e8c5fd1",
        "outputId": "a1d4342b-bdd0-4760-839b-aa21c7e1e781"
      },
      "source": [
        "df"
      ],
      "id": "0e8c5fd1",
      "execution_count": null,
      "outputs": [
        {
          "data": {
            "text/html": [
              "<div>\n",
              "<style scoped>\n",
              "    .dataframe tbody tr th:only-of-type {\n",
              "        vertical-align: middle;\n",
              "    }\n",
              "\n",
              "    .dataframe tbody tr th {\n",
              "        vertical-align: top;\n",
              "    }\n",
              "\n",
              "    .dataframe thead th {\n",
              "        text-align: right;\n",
              "    }\n",
              "</style>\n",
              "<table border=\"1\" class=\"dataframe\">\n",
              "  <thead>\n",
              "    <tr style=\"text-align: right;\">\n",
              "      <th></th>\n",
              "      <th>Unnamed: 0</th>\n",
              "      <th>filename</th>\n",
              "      <th>Message-ID</th>\n",
              "      <th>content</th>\n",
              "      <th>Class</th>\n",
              "    </tr>\n",
              "  </thead>\n",
              "  <tbody>\n",
              "    <tr>\n",
              "      <th>0</th>\n",
              "      <td>0</td>\n",
              "      <td>arnold-j/_sent_mail/34.</td>\n",
              "      <td>&lt;15267340.1075857594923.JavaMail.evans@thyme&gt;</td>\n",
              "      <td>eat shit\\n\\n\\n\\n\\nJohn J Lavorato@excelr\\n11/1...</td>\n",
              "      <td>Abusive</td>\n",
              "    </tr>\n",
              "    <tr>\n",
              "      <th>1</th>\n",
              "      <td>1</td>\n",
              "      <td>arnold-j/_sent_mail/517.</td>\n",
              "      <td>&lt;15539583.1075857652152.JavaMail.evans@thyme&gt;</td>\n",
              "      <td>fuck you</td>\n",
              "      <td>Abusive</td>\n",
              "    </tr>\n",
              "    <tr>\n",
              "      <th>2</th>\n",
              "      <td>2</td>\n",
              "      <td>arnold-j/_sent_mail/743.</td>\n",
              "      <td>&lt;4339799.1075857657711.JavaMail.evans@thyme&gt;</td>\n",
              "      <td>Gentlemen:\\nThe following champagne is availab...</td>\n",
              "      <td>Abusive</td>\n",
              "    </tr>\n",
              "    <tr>\n",
              "      <th>3</th>\n",
              "      <td>3</td>\n",
              "      <td>arnold-j/_sent_mail/766.</td>\n",
              "      <td>&lt;25574783.1075857658215.JavaMail.evans@thyme&gt;</td>\n",
              "      <td>sorry i've taken so long...just been trying to...</td>\n",
              "      <td>Abusive</td>\n",
              "    </tr>\n",
              "    <tr>\n",
              "      <th>4</th>\n",
              "      <td>4</td>\n",
              "      <td>arnold-j/_sent_mail/797.</td>\n",
              "      <td>&lt;19506151.1075857658895.JavaMail.evans@thyme&gt;</td>\n",
              "      <td>asshole\\n\\n\\n\\n\\nJohn J Lavorato@excelr\\n12/23...</td>\n",
              "      <td>Abusive</td>\n",
              "    </tr>\n",
              "    <tr>\n",
              "      <th>...</th>\n",
              "      <td>...</td>\n",
              "      <td>...</td>\n",
              "      <td>...</td>\n",
              "      <td>...</td>\n",
              "      <td>...</td>\n",
              "    </tr>\n",
              "    <tr>\n",
              "      <th>48071</th>\n",
              "      <td>48071</td>\n",
              "      <td>campbell-l/notes_inbox/133.</td>\n",
              "      <td>&lt;6503484.1075857876489.JavaMail.evans@thyme&gt;</td>\n",
              "      <td>Dear Market Participants,\\n\\nPlease note the c...</td>\n",
              "      <td>Non Abusive</td>\n",
              "    </tr>\n",
              "    <tr>\n",
              "      <th>48072</th>\n",
              "      <td>48072</td>\n",
              "      <td>campbell-l/notes_inbox/134.</td>\n",
              "      <td>&lt;17277180.1075857876513.JavaMail.evans@thyme&gt;</td>\n",
              "      <td>According to my fancy ciphering we made $310,0...</td>\n",
              "      <td>Non Abusive</td>\n",
              "    </tr>\n",
              "    <tr>\n",
              "      <th>48073</th>\n",
              "      <td>48073</td>\n",
              "      <td>campbell-l/notes_inbox/135.</td>\n",
              "      <td>&lt;31066400.1075857876537.JavaMail.evans@thyme&gt;</td>\n",
              "      <td>BUSINESS HIGHLIGHTS\\n\\nWeather Group\\n\\nLet=01...</td>\n",
              "      <td>Non Abusive</td>\n",
              "    </tr>\n",
              "    <tr>\n",
              "      <th>48074</th>\n",
              "      <td>48074</td>\n",
              "      <td>campbell-l/notes_inbox/136.</td>\n",
              "      <td>&lt;26024436.1075857876659.JavaMail.evans@thyme&gt;</td>\n",
              "      <td>Welcome to: DIAMONDS NEWSLETTER         Issue:...</td>\n",
              "      <td>Non Abusive</td>\n",
              "    </tr>\n",
              "    <tr>\n",
              "      <th>48075</th>\n",
              "      <td>48075</td>\n",
              "      <td>campbell-l/notes_inbox/137.</td>\n",
              "      <td>&lt;10677824.1075857876692.JavaMail.evans@thyme&gt;</td>\n",
              "      <td>---------------------- Forwarded by Tamara Jae...</td>\n",
              "      <td>Non Abusive</td>\n",
              "    </tr>\n",
              "  </tbody>\n",
              "</table>\n",
              "<p>48076 rows × 5 columns</p>\n",
              "</div>"
            ],
            "text/plain": [
              "       Unnamed: 0                     filename  \\\n",
              "0               0      arnold-j/_sent_mail/34.   \n",
              "1               1     arnold-j/_sent_mail/517.   \n",
              "2               2     arnold-j/_sent_mail/743.   \n",
              "3               3     arnold-j/_sent_mail/766.   \n",
              "4               4     arnold-j/_sent_mail/797.   \n",
              "...           ...                          ...   \n",
              "48071       48071  campbell-l/notes_inbox/133.   \n",
              "48072       48072  campbell-l/notes_inbox/134.   \n",
              "48073       48073  campbell-l/notes_inbox/135.   \n",
              "48074       48074  campbell-l/notes_inbox/136.   \n",
              "48075       48075  campbell-l/notes_inbox/137.   \n",
              "\n",
              "                                          Message-ID  \\\n",
              "0      <15267340.1075857594923.JavaMail.evans@thyme>   \n",
              "1      <15539583.1075857652152.JavaMail.evans@thyme>   \n",
              "2       <4339799.1075857657711.JavaMail.evans@thyme>   \n",
              "3      <25574783.1075857658215.JavaMail.evans@thyme>   \n",
              "4      <19506151.1075857658895.JavaMail.evans@thyme>   \n",
              "...                                              ...   \n",
              "48071   <6503484.1075857876489.JavaMail.evans@thyme>   \n",
              "48072  <17277180.1075857876513.JavaMail.evans@thyme>   \n",
              "48073  <31066400.1075857876537.JavaMail.evans@thyme>   \n",
              "48074  <26024436.1075857876659.JavaMail.evans@thyme>   \n",
              "48075  <10677824.1075857876692.JavaMail.evans@thyme>   \n",
              "\n",
              "                                                 content        Class  \n",
              "0      eat shit\\n\\n\\n\\n\\nJohn J Lavorato@excelr\\n11/1...      Abusive  \n",
              "1                                               fuck you      Abusive  \n",
              "2      Gentlemen:\\nThe following champagne is availab...      Abusive  \n",
              "3      sorry i've taken so long...just been trying to...      Abusive  \n",
              "4      asshole\\n\\n\\n\\n\\nJohn J Lavorato@excelr\\n12/23...      Abusive  \n",
              "...                                                  ...          ...  \n",
              "48071  Dear Market Participants,\\n\\nPlease note the c...  Non Abusive  \n",
              "48072  According to my fancy ciphering we made $310,0...  Non Abusive  \n",
              "48073  BUSINESS HIGHLIGHTS\\n\\nWeather Group\\n\\nLet=01...  Non Abusive  \n",
              "48074  Welcome to: DIAMONDS NEWSLETTER         Issue:...  Non Abusive  \n",
              "48075  ---------------------- Forwarded by Tamara Jae...  Non Abusive  \n",
              "\n",
              "[48076 rows x 5 columns]"
            ]
          },
          "execution_count": 4,
          "metadata": {},
          "output_type": "execute_result"
        }
      ]
    },
    {
      "cell_type": "code",
      "metadata": {
        "id": "1263c069",
        "outputId": "16eb0b88-2498-4f9c-aaac-3c8d071bf407"
      },
      "source": [
        "df.sample(5)"
      ],
      "id": "1263c069",
      "execution_count": null,
      "outputs": [
        {
          "data": {
            "text/html": [
              "<div>\n",
              "<style scoped>\n",
              "    .dataframe tbody tr th:only-of-type {\n",
              "        vertical-align: middle;\n",
              "    }\n",
              "\n",
              "    .dataframe tbody tr th {\n",
              "        vertical-align: top;\n",
              "    }\n",
              "\n",
              "    .dataframe thead th {\n",
              "        text-align: right;\n",
              "    }\n",
              "</style>\n",
              "<table border=\"1\" class=\"dataframe\">\n",
              "  <thead>\n",
              "    <tr style=\"text-align: right;\">\n",
              "      <th></th>\n",
              "      <th>Unnamed: 0</th>\n",
              "      <th>filename</th>\n",
              "      <th>Message-ID</th>\n",
              "      <th>content</th>\n",
              "      <th>Class</th>\n",
              "    </tr>\n",
              "  </thead>\n",
              "  <tbody>\n",
              "    <tr>\n",
              "      <th>33010</th>\n",
              "      <td>33010</td>\n",
              "      <td>beck-s/murphy__ted/5.</td>\n",
              "      <td>&lt;14050732.1075855881946.JavaMail.evans@thyme&gt;</td>\n",
              "      <td>We have created four additional graphs to be p...</td>\n",
              "      <td>Non Abusive</td>\n",
              "    </tr>\n",
              "    <tr>\n",
              "      <th>32517</th>\n",
              "      <td>32517</td>\n",
              "      <td>beck-s/inbox/491.</td>\n",
              "      <td>&lt;3947306.1075858751945.JavaMail.evans@thyme&gt;</td>\n",
              "      <td>\\n  \\nHere are the basic elements of the hub c...</td>\n",
              "      <td>Non Abusive</td>\n",
              "    </tr>\n",
              "    <tr>\n",
              "      <th>46094</th>\n",
              "      <td>46094</td>\n",
              "      <td>campbell-l/discussion_threads/526.</td>\n",
              "      <td>&lt;31925414.1075851907593.JavaMail.evans@thyme&gt;</td>\n",
              "      <td>Just to keep all permit information together, ...</td>\n",
              "      <td>Non Abusive</td>\n",
              "    </tr>\n",
              "    <tr>\n",
              "      <th>24163</th>\n",
              "      <td>24163</td>\n",
              "      <td>beck-s/_sent_mail/418.</td>\n",
              "      <td>&lt;31646686.1075855922225.JavaMail.evans@thyme&gt;</td>\n",
              "      <td>I left a voice mail message for Dave Delainey ...</td>\n",
              "      <td>Non Abusive</td>\n",
              "    </tr>\n",
              "    <tr>\n",
              "      <th>35884</th>\n",
              "      <td>35884</td>\n",
              "      <td>benson-r/discussion_threads/63.</td>\n",
              "      <td>&lt;28970769.1075855755018.JavaMail.evans@thyme&gt;</td>\n",
              "      <td>Fundamentals of Corporate Finance - May 24 &amp; 2...</td>\n",
              "      <td>Non Abusive</td>\n",
              "    </tr>\n",
              "  </tbody>\n",
              "</table>\n",
              "</div>"
            ],
            "text/plain": [
              "       Unnamed: 0                            filename  \\\n",
              "33010       33010               beck-s/murphy__ted/5.   \n",
              "32517       32517                   beck-s/inbox/491.   \n",
              "46094       46094  campbell-l/discussion_threads/526.   \n",
              "24163       24163              beck-s/_sent_mail/418.   \n",
              "35884       35884     benson-r/discussion_threads/63.   \n",
              "\n",
              "                                          Message-ID  \\\n",
              "33010  <14050732.1075855881946.JavaMail.evans@thyme>   \n",
              "32517   <3947306.1075858751945.JavaMail.evans@thyme>   \n",
              "46094  <31925414.1075851907593.JavaMail.evans@thyme>   \n",
              "24163  <31646686.1075855922225.JavaMail.evans@thyme>   \n",
              "35884  <28970769.1075855755018.JavaMail.evans@thyme>   \n",
              "\n",
              "                                                 content        Class  \n",
              "33010  We have created four additional graphs to be p...  Non Abusive  \n",
              "32517  \\n  \\nHere are the basic elements of the hub c...  Non Abusive  \n",
              "46094  Just to keep all permit information together, ...  Non Abusive  \n",
              "24163  I left a voice mail message for Dave Delainey ...  Non Abusive  \n",
              "35884  Fundamentals of Corporate Finance - May 24 & 2...  Non Abusive  "
            ]
          },
          "execution_count": 5,
          "metadata": {},
          "output_type": "execute_result"
        }
      ]
    },
    {
      "cell_type": "code",
      "metadata": {
        "id": "e188d58a",
        "outputId": "5a250547-33c9-464c-f1e9-236617930e7c"
      },
      "source": [
        "df.shape"
      ],
      "id": "e188d58a",
      "execution_count": null,
      "outputs": [
        {
          "data": {
            "text/plain": [
              "(48076, 5)"
            ]
          },
          "execution_count": 6,
          "metadata": {},
          "output_type": "execute_result"
        }
      ]
    },
    {
      "cell_type": "code",
      "metadata": {
        "id": "d3da9adc"
      },
      "source": [
        "# 1. Data cleaning\n",
        "# 2. EDA\n",
        "# 3. Text Preprocessing\n",
        "# 4. Model building\n",
        "# 5. Evaluation\n",
        "# 6. Improvement\n",
        "# 7. Website\n",
        "# 8. Deploy"
      ],
      "id": "d3da9adc",
      "execution_count": null,
      "outputs": []
    },
    {
      "cell_type": "markdown",
      "metadata": {
        "id": "d79e51b2"
      },
      "source": [
        "## Data Cleaning"
      ],
      "id": "d79e51b2"
    },
    {
      "cell_type": "code",
      "metadata": {
        "id": "a25ff5be",
        "outputId": "6face285-49c4-4df9-943c-6ffa86400845"
      },
      "source": [
        "df.info()"
      ],
      "id": "a25ff5be",
      "execution_count": null,
      "outputs": [
        {
          "name": "stdout",
          "output_type": "stream",
          "text": [
            "<class 'pandas.core.frame.DataFrame'>\n",
            "RangeIndex: 48076 entries, 0 to 48075\n",
            "Data columns (total 5 columns):\n",
            " #   Column      Non-Null Count  Dtype \n",
            "---  ------      --------------  ----- \n",
            " 0   Unnamed: 0  48076 non-null  int64 \n",
            " 1   filename    48076 non-null  object\n",
            " 2   Message-ID  48076 non-null  object\n",
            " 3   content     48076 non-null  object\n",
            " 4   Class       48076 non-null  object\n",
            "dtypes: int64(1), object(4)\n",
            "memory usage: 1.8+ MB\n"
          ]
        }
      ]
    },
    {
      "cell_type": "code",
      "metadata": {
        "id": "545c064e"
      },
      "source": [
        "# drop first 3 cols\n",
        "df.drop(columns=['Unnamed: 0','filename','Message-ID'],inplace=True)"
      ],
      "id": "545c064e",
      "execution_count": null,
      "outputs": []
    },
    {
      "cell_type": "code",
      "metadata": {
        "id": "55e46d53",
        "outputId": "9abb6a01-ee59-4601-8577-64d557c24d89"
      },
      "source": [
        "df.sample(5)"
      ],
      "id": "55e46d53",
      "execution_count": null,
      "outputs": [
        {
          "data": {
            "text/html": [
              "<div>\n",
              "<style scoped>\n",
              "    .dataframe tbody tr th:only-of-type {\n",
              "        vertical-align: middle;\n",
              "    }\n",
              "\n",
              "    .dataframe tbody tr th {\n",
              "        vertical-align: top;\n",
              "    }\n",
              "\n",
              "    .dataframe thead th {\n",
              "        text-align: right;\n",
              "    }\n",
              "</style>\n",
              "<table border=\"1\" class=\"dataframe\">\n",
              "  <thead>\n",
              "    <tr style=\"text-align: right;\">\n",
              "      <th></th>\n",
              "      <th>content</th>\n",
              "      <th>Class</th>\n",
              "    </tr>\n",
              "  </thead>\n",
              "  <tbody>\n",
              "    <tr>\n",
              "      <th>53</th>\n",
              "      <td>pussy\\n\\n\\n   Hector Campos                01/...</td>\n",
              "      <td>Abusive</td>\n",
              "    </tr>\n",
              "    <tr>\n",
              "      <th>23764</th>\n",
              "      <td>Thanks for letting me know.  I am sure that yo...</td>\n",
              "      <td>Non Abusive</td>\n",
              "    </tr>\n",
              "    <tr>\n",
              "      <th>17527</th>\n",
              "      <td>---------------------- Forwarded by Eric Bass/...</td>\n",
              "      <td>Non Abusive</td>\n",
              "    </tr>\n",
              "    <tr>\n",
              "      <th>32580</th>\n",
              "      <td>\\nAs you are all aware, the latest Risk Manage...</td>\n",
              "      <td>Non Abusive</td>\n",
              "    </tr>\n",
              "    <tr>\n",
              "      <th>24680</th>\n",
              "      <td>In my new role as social secretary for James, ...</td>\n",
              "      <td>Non Abusive</td>\n",
              "    </tr>\n",
              "  </tbody>\n",
              "</table>\n",
              "</div>"
            ],
            "text/plain": [
              "                                                 content        Class\n",
              "53     pussy\\n\\n\\n   Hector Campos                01/...      Abusive\n",
              "23764  Thanks for letting me know.  I am sure that yo...  Non Abusive\n",
              "17527  ---------------------- Forwarded by Eric Bass/...  Non Abusive\n",
              "32580  \\nAs you are all aware, the latest Risk Manage...  Non Abusive\n",
              "24680  In my new role as social secretary for James, ...  Non Abusive"
            ]
          },
          "execution_count": 10,
          "metadata": {},
          "output_type": "execute_result"
        }
      ]
    },
    {
      "cell_type": "code",
      "metadata": {
        "id": "f04fe2b5",
        "outputId": "2baaeabb-10c0-48c6-ae45-c9828446fb00"
      },
      "source": [
        "# renaming the cols\n",
        "df.rename(columns={'v1':'target','v2':'text'},inplace=True)\n",
        "df.sample(5)"
      ],
      "id": "f04fe2b5",
      "execution_count": null,
      "outputs": [
        {
          "data": {
            "text/html": [
              "<div>\n",
              "<style scoped>\n",
              "    .dataframe tbody tr th:only-of-type {\n",
              "        vertical-align: middle;\n",
              "    }\n",
              "\n",
              "    .dataframe tbody tr th {\n",
              "        vertical-align: top;\n",
              "    }\n",
              "\n",
              "    .dataframe thead th {\n",
              "        text-align: right;\n",
              "    }\n",
              "</style>\n",
              "<table border=\"1\" class=\"dataframe\">\n",
              "  <thead>\n",
              "    <tr style=\"text-align: right;\">\n",
              "      <th></th>\n",
              "      <th>content</th>\n",
              "      <th>Class</th>\n",
              "    </tr>\n",
              "  </thead>\n",
              "  <tbody>\n",
              "    <tr>\n",
              "      <th>18352</th>\n",
              "      <td>[IMAGE]\\n\\n\\nFantasy Basketball is here...and ...</td>\n",
              "      <td>Non Abusive</td>\n",
              "    </tr>\n",
              "    <tr>\n",
              "      <th>12958</th>\n",
              "      <td>\\nSara,\\n\\nAs in our past exercises for the \"N...</td>\n",
              "      <td>Non Abusive</td>\n",
              "    </tr>\n",
              "    <tr>\n",
              "      <th>34919</th>\n",
              "      <td>I can not attend as I will be in the London of...</td>\n",
              "      <td>Non Abusive</td>\n",
              "    </tr>\n",
              "    <tr>\n",
              "      <th>3235</th>\n",
              "      <td>Kerry,\\n\\nI have decided I am going home for T...</td>\n",
              "      <td>Abusive</td>\n",
              "    </tr>\n",
              "    <tr>\n",
              "      <th>44736</th>\n",
              "      <td>Scott--\\n\\nWould you please include my name on...</td>\n",
              "      <td>Non Abusive</td>\n",
              "    </tr>\n",
              "  </tbody>\n",
              "</table>\n",
              "</div>"
            ],
            "text/plain": [
              "                                                 content        Class\n",
              "18352  [IMAGE]\\n\\n\\nFantasy Basketball is here...and ...  Non Abusive\n",
              "12958  \\nSara,\\n\\nAs in our past exercises for the \"N...  Non Abusive\n",
              "34919  I can not attend as I will be in the London of...  Non Abusive\n",
              "3235   Kerry,\\n\\nI have decided I am going home for T...      Abusive\n",
              "44736  Scott--\\n\\nWould you please include my name on...  Non Abusive"
            ]
          },
          "execution_count": 11,
          "metadata": {},
          "output_type": "execute_result"
        }
      ]
    },
    {
      "cell_type": "code",
      "metadata": {
        "id": "72212e7b"
      },
      "source": [
        "from sklearn.preprocessing import LabelEncoder\n",
        "encoder = LabelEncoder()"
      ],
      "id": "72212e7b",
      "execution_count": null,
      "outputs": []
    },
    {
      "cell_type": "code",
      "metadata": {
        "id": "95d97a12"
      },
      "source": [
        "df['Class'] = encoder.fit_transform(df['Class'])"
      ],
      "id": "95d97a12",
      "execution_count": null,
      "outputs": []
    },
    {
      "cell_type": "code",
      "metadata": {
        "id": "916abcb2",
        "outputId": "4362665e-4834-4897-f0b8-c8a1eb353f72"
      },
      "source": [
        "df.head()"
      ],
      "id": "916abcb2",
      "execution_count": null,
      "outputs": [
        {
          "data": {
            "text/html": [
              "<div>\n",
              "<style scoped>\n",
              "    .dataframe tbody tr th:only-of-type {\n",
              "        vertical-align: middle;\n",
              "    }\n",
              "\n",
              "    .dataframe tbody tr th {\n",
              "        vertical-align: top;\n",
              "    }\n",
              "\n",
              "    .dataframe thead th {\n",
              "        text-align: right;\n",
              "    }\n",
              "</style>\n",
              "<table border=\"1\" class=\"dataframe\">\n",
              "  <thead>\n",
              "    <tr style=\"text-align: right;\">\n",
              "      <th></th>\n",
              "      <th>content</th>\n",
              "      <th>Class</th>\n",
              "    </tr>\n",
              "  </thead>\n",
              "  <tbody>\n",
              "    <tr>\n",
              "      <th>0</th>\n",
              "      <td>eat shit\\n\\n\\n\\n\\nJohn J Lavorato@excelr\\n11/1...</td>\n",
              "      <td>0</td>\n",
              "    </tr>\n",
              "    <tr>\n",
              "      <th>1</th>\n",
              "      <td>fuck you</td>\n",
              "      <td>0</td>\n",
              "    </tr>\n",
              "    <tr>\n",
              "      <th>2</th>\n",
              "      <td>Gentlemen:\\nThe following champagne is availab...</td>\n",
              "      <td>0</td>\n",
              "    </tr>\n",
              "    <tr>\n",
              "      <th>3</th>\n",
              "      <td>sorry i've taken so long...just been trying to...</td>\n",
              "      <td>0</td>\n",
              "    </tr>\n",
              "    <tr>\n",
              "      <th>4</th>\n",
              "      <td>asshole\\n\\n\\n\\n\\nJohn J Lavorato@excelr\\n12/23...</td>\n",
              "      <td>0</td>\n",
              "    </tr>\n",
              "  </tbody>\n",
              "</table>\n",
              "</div>"
            ],
            "text/plain": [
              "                                             content  Class\n",
              "0  eat shit\\n\\n\\n\\n\\nJohn J Lavorato@excelr\\n11/1...      0\n",
              "1                                           fuck you      0\n",
              "2  Gentlemen:\\nThe following champagne is availab...      0\n",
              "3  sorry i've taken so long...just been trying to...      0\n",
              "4  asshole\\n\\n\\n\\n\\nJohn J Lavorato@excelr\\n12/23...      0"
            ]
          },
          "execution_count": 14,
          "metadata": {},
          "output_type": "execute_result"
        }
      ]
    },
    {
      "cell_type": "code",
      "metadata": {
        "id": "4106f563",
        "outputId": "c09577a9-e705-4e01-908c-51fbe52b377e"
      },
      "source": [
        "# missing values\n",
        "df.isnull().sum()"
      ],
      "id": "4106f563",
      "execution_count": null,
      "outputs": [
        {
          "data": {
            "text/plain": [
              "content    0\n",
              "Class      0\n",
              "dtype: int64"
            ]
          },
          "execution_count": 15,
          "metadata": {},
          "output_type": "execute_result"
        }
      ]
    },
    {
      "cell_type": "code",
      "metadata": {
        "id": "10f62091",
        "outputId": "c6b1c012-4bf5-4680-970a-363965003c71"
      },
      "source": [
        "# check for duplicate values\n",
        "df.duplicated().sum()"
      ],
      "id": "10f62091",
      "execution_count": null,
      "outputs": [
        {
          "data": {
            "text/plain": [
              "23420"
            ]
          },
          "execution_count": 16,
          "metadata": {},
          "output_type": "execute_result"
        }
      ]
    },
    {
      "cell_type": "code",
      "metadata": {
        "id": "5738307f"
      },
      "source": [
        "# remove duplicates\n",
        "df = df.drop_duplicates(keep='first')"
      ],
      "id": "5738307f",
      "execution_count": null,
      "outputs": []
    },
    {
      "cell_type": "code",
      "metadata": {
        "id": "dbb4d43c",
        "outputId": "44ea4586-c62a-4f26-81b9-461f7a0e3293"
      },
      "source": [
        "df.duplicated().sum()"
      ],
      "id": "dbb4d43c",
      "execution_count": null,
      "outputs": [
        {
          "data": {
            "text/plain": [
              "0"
            ]
          },
          "execution_count": 18,
          "metadata": {},
          "output_type": "execute_result"
        }
      ]
    },
    {
      "cell_type": "code",
      "metadata": {
        "id": "a13ed289",
        "outputId": "5ac9bc99-037e-4b37-b040-ae490e421389"
      },
      "source": [
        "df.shape"
      ],
      "id": "a13ed289",
      "execution_count": null,
      "outputs": [
        {
          "data": {
            "text/plain": [
              "(24656, 2)"
            ]
          },
          "execution_count": 19,
          "metadata": {},
          "output_type": "execute_result"
        }
      ]
    },
    {
      "cell_type": "markdown",
      "metadata": {
        "id": "66b33ac7"
      },
      "source": [
        "## EDA"
      ],
      "id": "66b33ac7"
    },
    {
      "cell_type": "code",
      "metadata": {
        "id": "bb8965e7",
        "outputId": "153e9b29-4bb2-47a5-f1a2-f5cbd743e03c"
      },
      "source": [
        "df.head()"
      ],
      "id": "bb8965e7",
      "execution_count": null,
      "outputs": [
        {
          "data": {
            "text/html": [
              "<div>\n",
              "<style scoped>\n",
              "    .dataframe tbody tr th:only-of-type {\n",
              "        vertical-align: middle;\n",
              "    }\n",
              "\n",
              "    .dataframe tbody tr th {\n",
              "        vertical-align: top;\n",
              "    }\n",
              "\n",
              "    .dataframe thead th {\n",
              "        text-align: right;\n",
              "    }\n",
              "</style>\n",
              "<table border=\"1\" class=\"dataframe\">\n",
              "  <thead>\n",
              "    <tr style=\"text-align: right;\">\n",
              "      <th></th>\n",
              "      <th>content</th>\n",
              "      <th>Class</th>\n",
              "    </tr>\n",
              "  </thead>\n",
              "  <tbody>\n",
              "    <tr>\n",
              "      <th>0</th>\n",
              "      <td>eat shit\\n\\n\\n\\n\\nJohn J Lavorato@excelr\\n11/1...</td>\n",
              "      <td>0</td>\n",
              "    </tr>\n",
              "    <tr>\n",
              "      <th>1</th>\n",
              "      <td>fuck you</td>\n",
              "      <td>0</td>\n",
              "    </tr>\n",
              "    <tr>\n",
              "      <th>2</th>\n",
              "      <td>Gentlemen:\\nThe following champagne is availab...</td>\n",
              "      <td>0</td>\n",
              "    </tr>\n",
              "    <tr>\n",
              "      <th>3</th>\n",
              "      <td>sorry i've taken so long...just been trying to...</td>\n",
              "      <td>0</td>\n",
              "    </tr>\n",
              "    <tr>\n",
              "      <th>4</th>\n",
              "      <td>asshole\\n\\n\\n\\n\\nJohn J Lavorato@excelr\\n12/23...</td>\n",
              "      <td>0</td>\n",
              "    </tr>\n",
              "  </tbody>\n",
              "</table>\n",
              "</div>"
            ],
            "text/plain": [
              "                                             content  Class\n",
              "0  eat shit\\n\\n\\n\\n\\nJohn J Lavorato@excelr\\n11/1...      0\n",
              "1                                           fuck you      0\n",
              "2  Gentlemen:\\nThe following champagne is availab...      0\n",
              "3  sorry i've taken so long...just been trying to...      0\n",
              "4  asshole\\n\\n\\n\\n\\nJohn J Lavorato@excelr\\n12/23...      0"
            ]
          },
          "execution_count": 20,
          "metadata": {},
          "output_type": "execute_result"
        }
      ]
    },
    {
      "cell_type": "code",
      "metadata": {
        "id": "35a083f5",
        "outputId": "4c6528fe-46b7-4f2b-b7af-d78fa5bfce6d"
      },
      "source": [
        "df['Class'].value_counts()"
      ],
      "id": "35a083f5",
      "execution_count": null,
      "outputs": [
        {
          "data": {
            "text/plain": [
              "1    23014\n",
              "0     1642\n",
              "Name: Class, dtype: int64"
            ]
          },
          "execution_count": 21,
          "metadata": {},
          "output_type": "execute_result"
        }
      ]
    },
    {
      "cell_type": "code",
      "metadata": {
        "id": "90b6122b",
        "outputId": "be94c705-a0f7-45fb-80c5-c1538fcc9fd2"
      },
      "source": [
        "import matplotlib.pyplot as plt\n",
        "plt.pie(df['Class'].value_counts(), labels=['Abusive','Non Abusive'],autopct=\"%0.2f\")\n",
        "plt.show()"
      ],
      "id": "90b6122b",
      "execution_count": null,
      "outputs": [
        {
          "data": {
            "image/png": "[encoded data removed]",
            "text/plain": [
              "<Figure size 432x288 with 1 Axes>"
            ]
          },
          "metadata": {},
          "output_type": "display_data"
        }
      ]
    },
    {
      "cell_type": "code",
      "metadata": {
        "id": "5d42d6e9"
      },
      "source": [
        "# Data is imbalanced"
      ],
      "id": "5d42d6e9",
      "execution_count": null,
      "outputs": []
    },
    {
      "cell_type": "code",
      "metadata": {
        "id": "58af749a"
      },
      "source": [
        "import nltk"
      ],
      "id": "58af749a",
      "execution_count": null,
      "outputs": []
    },
    {
      "cell_type": "code",
      "metadata": {
        "id": "9a01d270",
        "outputId": "0b667eb7-738d-4655-bf58-b9cb32eb72cc"
      },
      "source": [
        "nltk.download('punkt')\n",
        "nltk.download('stopwords')"
      ],
      "id": "9a01d270",
      "execution_count": null,
      "outputs": [
        {
          "name": "stderr",
          "output_type": "stream",
          "text": [
            "[nltk_data] Downloading package punkt to\n",
            "[nltk_data]     C:\\Users\\himan\\AppData\\Roaming\\nltk_data...\n",
            "[nltk_data]   Package punkt is already up-to-date!\n",
            "[nltk_data] Downloading package stopwords to\n",
            "[nltk_data]     C:\\Users\\himan\\AppData\\Roaming\\nltk_data...\n",
            "[nltk_data]   Package stopwords is already up-to-date!\n"
          ]
        },
        {
          "data": {
            "text/plain": [
              "True"
            ]
          },
          "execution_count": 25,
          "metadata": {},
          "output_type": "execute_result"
        }
      ]
    },
    {
      "cell_type": "code",
      "metadata": {
        "id": "d233aab9"
      },
      "source": [
        "df['num_characters'] = df['content'].apply(len)"
      ],
      "id": "d233aab9",
      "execution_count": null,
      "outputs": []
    },
    {
      "cell_type": "code",
      "metadata": {
        "id": "87568afe",
        "outputId": "a9750734-1282-4b4a-8444-466760cda1ef"
      },
      "source": [
        "df.head()"
      ],
      "id": "87568afe",
      "execution_count": null,
      "outputs": [
        {
          "data": {
            "text/html": [
              "<div>\n",
              "<style scoped>\n",
              "    .dataframe tbody tr th:only-of-type {\n",
              "        vertical-align: middle;\n",
              "    }\n",
              "\n",
              "    .dataframe tbody tr th {\n",
              "        vertical-align: top;\n",
              "    }\n",
              "\n",
              "    .dataframe thead th {\n",
              "        text-align: right;\n",
              "    }\n",
              "</style>\n",
              "<table border=\"1\" class=\"dataframe\">\n",
              "  <thead>\n",
              "    <tr style=\"text-align: right;\">\n",
              "      <th></th>\n",
              "      <th>content</th>\n",
              "      <th>Class</th>\n",
              "      <th>num_characters</th>\n",
              "    </tr>\n",
              "  </thead>\n",
              "  <tbody>\n",
              "    <tr>\n",
              "      <th>0</th>\n",
              "      <td>eat shit\\n\\n\\n\\n\\nJohn J Lavorato@excelr\\n11/1...</td>\n",
              "      <td>0</td>\n",
              "      <td>220</td>\n",
              "    </tr>\n",
              "    <tr>\n",
              "      <th>1</th>\n",
              "      <td>fuck you</td>\n",
              "      <td>0</td>\n",
              "      <td>8</td>\n",
              "    </tr>\n",
              "    <tr>\n",
              "      <th>2</th>\n",
              "      <td>Gentlemen:\\nThe following champagne is availab...</td>\n",
              "      <td>0</td>\n",
              "      <td>612</td>\n",
              "    </tr>\n",
              "    <tr>\n",
              "      <th>3</th>\n",
              "      <td>sorry i've taken so long...just been trying to...</td>\n",
              "      <td>0</td>\n",
              "      <td>505</td>\n",
              "    </tr>\n",
              "    <tr>\n",
              "      <th>4</th>\n",
              "      <td>asshole\\n\\n\\n\\n\\nJohn J Lavorato@excelr\\n12/23...</td>\n",
              "      <td>0</td>\n",
              "      <td>203</td>\n",
              "    </tr>\n",
              "  </tbody>\n",
              "</table>\n",
              "</div>"
            ],
            "text/plain": [
              "                                             content  Class  num_characters\n",
              "0  eat shit\\n\\n\\n\\n\\nJohn J Lavorato@excelr\\n11/1...      0             220\n",
              "1                                           fuck you      0               8\n",
              "2  Gentlemen:\\nThe following champagne is availab...      0             612\n",
              "3  sorry i've taken so long...just been trying to...      0             505\n",
              "4  asshole\\n\\n\\n\\n\\nJohn J Lavorato@excelr\\n12/23...      0             203"
            ]
          },
          "execution_count": 27,
          "metadata": {},
          "output_type": "execute_result"
        }
      ]
    },
    {
      "cell_type": "code",
      "metadata": {
        "id": "51bf12bd"
      },
      "source": [
        "# num of words\n",
        "df['num_words'] = df['content'].apply(lambda x:len(nltk.word_tokenize(x)))"
      ],
      "id": "51bf12bd",
      "execution_count": null,
      "outputs": []
    },
    {
      "cell_type": "code",
      "metadata": {
        "id": "b9c18474",
        "outputId": "0a0bcc24-e202-419c-d8bb-1e47717b8fb1"
      },
      "source": [
        "df.head()"
      ],
      "id": "b9c18474",
      "execution_count": null,
      "outputs": [
        {
          "data": {
            "text/html": [
              "<div>\n",
              "<style scoped>\n",
              "    .dataframe tbody tr th:only-of-type {\n",
              "        vertical-align: middle;\n",
              "    }\n",
              "\n",
              "    .dataframe tbody tr th {\n",
              "        vertical-align: top;\n",
              "    }\n",
              "\n",
              "    .dataframe thead th {\n",
              "        text-align: right;\n",
              "    }\n",
              "</style>\n",
              "<table border=\"1\" class=\"dataframe\">\n",
              "  <thead>\n",
              "    <tr style=\"text-align: right;\">\n",
              "      <th></th>\n",
              "      <th>content</th>\n",
              "      <th>Class</th>\n",
              "      <th>num_characters</th>\n",
              "      <th>num_words</th>\n",
              "    </tr>\n",
              "  </thead>\n",
              "  <tbody>\n",
              "    <tr>\n",
              "      <th>0</th>\n",
              "      <td>eat shit\\n\\n\\n\\n\\nJohn J Lavorato@excelr\\n11/1...</td>\n",
              "      <td>0</td>\n",
              "      <td>220</td>\n",
              "      <td>44</td>\n",
              "    </tr>\n",
              "    <tr>\n",
              "      <th>1</th>\n",
              "      <td>fuck you</td>\n",
              "      <td>0</td>\n",
              "      <td>8</td>\n",
              "      <td>2</td>\n",
              "    </tr>\n",
              "    <tr>\n",
              "      <th>2</th>\n",
              "      <td>Gentlemen:\\nThe following champagne is availab...</td>\n",
              "      <td>0</td>\n",
              "      <td>612</td>\n",
              "      <td>99</td>\n",
              "    </tr>\n",
              "    <tr>\n",
              "      <th>3</th>\n",
              "      <td>sorry i've taken so long...just been trying to...</td>\n",
              "      <td>0</td>\n",
              "      <td>505</td>\n",
              "      <td>163</td>\n",
              "    </tr>\n",
              "    <tr>\n",
              "      <th>4</th>\n",
              "      <td>asshole\\n\\n\\n\\n\\nJohn J Lavorato@excelr\\n12/23...</td>\n",
              "      <td>0</td>\n",
              "      <td>203</td>\n",
              "      <td>42</td>\n",
              "    </tr>\n",
              "  </tbody>\n",
              "</table>\n",
              "</div>"
            ],
            "text/plain": [
              "                                             content  Class  num_characters  \\\n",
              "0  eat shit\\n\\n\\n\\n\\nJohn J Lavorato@excelr\\n11/1...      0             220   \n",
              "1                                           fuck you      0               8   \n",
              "2  Gentlemen:\\nThe following champagne is availab...      0             612   \n",
              "3  sorry i've taken so long...just been trying to...      0             505   \n",
              "4  asshole\\n\\n\\n\\n\\nJohn J Lavorato@excelr\\n12/23...      0             203   \n",
              "\n",
              "   num_words  \n",
              "0         44  \n",
              "1          2  \n",
              "2         99  \n",
              "3        163  \n",
              "4         42  "
            ]
          },
          "execution_count": 29,
          "metadata": {},
          "output_type": "execute_result"
        }
      ]
    },
    {
      "cell_type": "code",
      "metadata": {
        "id": "2ce4cc2c"
      },
      "source": [
        "df['num_sentences'] = df['content'].apply(lambda x:len(nltk.sent_tokenize(x)))"
      ],
      "id": "2ce4cc2c",
      "execution_count": null,
      "outputs": []
    },
    {
      "cell_type": "code",
      "metadata": {
        "id": "b6fbbb98",
        "outputId": "4ac17cbb-c2fa-4174-a0e1-f98c6317d372"
      },
      "source": [
        "df.head()"
      ],
      "id": "b6fbbb98",
      "execution_count": null,
      "outputs": [
        {
          "data": {
            "text/html": [
              "<div>\n",
              "<style scoped>\n",
              "    .dataframe tbody tr th:only-of-type {\n",
              "        vertical-align: middle;\n",
              "    }\n",
              "\n",
              "    .dataframe tbody tr th {\n",
              "        vertical-align: top;\n",
              "    }\n",
              "\n",
              "    .dataframe thead th {\n",
              "        text-align: right;\n",
              "    }\n",
              "</style>\n",
              "<table border=\"1\" class=\"dataframe\">\n",
              "  <thead>\n",
              "    <tr style=\"text-align: right;\">\n",
              "      <th></th>\n",
              "      <th>content</th>\n",
              "      <th>Class</th>\n",
              "      <th>num_characters</th>\n",
              "      <th>num_words</th>\n",
              "      <th>num_sentences</th>\n",
              "    </tr>\n",
              "  </thead>\n",
              "  <tbody>\n",
              "    <tr>\n",
              "      <th>0</th>\n",
              "      <td>eat shit\\n\\n\\n\\n\\nJohn J Lavorato@excelr\\n11/1...</td>\n",
              "      <td>0</td>\n",
              "      <td>220</td>\n",
              "      <td>44</td>\n",
              "      <td>1</td>\n",
              "    </tr>\n",
              "    <tr>\n",
              "      <th>1</th>\n",
              "      <td>fuck you</td>\n",
              "      <td>0</td>\n",
              "      <td>8</td>\n",
              "      <td>2</td>\n",
              "      <td>1</td>\n",
              "    </tr>\n",
              "    <tr>\n",
              "      <th>2</th>\n",
              "      <td>Gentlemen:\\nThe following champagne is availab...</td>\n",
              "      <td>0</td>\n",
              "      <td>612</td>\n",
              "      <td>99</td>\n",
              "      <td>6</td>\n",
              "    </tr>\n",
              "    <tr>\n",
              "      <th>3</th>\n",
              "      <td>sorry i've taken so long...just been trying to...</td>\n",
              "      <td>0</td>\n",
              "      <td>505</td>\n",
              "      <td>163</td>\n",
              "      <td>8</td>\n",
              "    </tr>\n",
              "    <tr>\n",
              "      <th>4</th>\n",
              "      <td>asshole\\n\\n\\n\\n\\nJohn J Lavorato@excelr\\n12/23...</td>\n",
              "      <td>0</td>\n",
              "      <td>203</td>\n",
              "      <td>42</td>\n",
              "      <td>2</td>\n",
              "    </tr>\n",
              "  </tbody>\n",
              "</table>\n",
              "</div>"
            ],
            "text/plain": [
              "                                             content  Class  num_characters  \\\n",
              "0  eat shit\\n\\n\\n\\n\\nJohn J Lavorato@excelr\\n11/1...      0             220   \n",
              "1                                           fuck you      0               8   \n",
              "2  Gentlemen:\\nThe following champagne is availab...      0             612   \n",
              "3  sorry i've taken so long...just been trying to...      0             505   \n",
              "4  asshole\\n\\n\\n\\n\\nJohn J Lavorato@excelr\\n12/23...      0             203   \n",
              "\n",
              "   num_words  num_sentences  \n",
              "0         44              1  \n",
              "1          2              1  \n",
              "2         99              6  \n",
              "3        163              8  \n",
              "4         42              2  "
            ]
          },
          "execution_count": 31,
          "metadata": {},
          "output_type": "execute_result"
        }
      ]
    },
    {
      "cell_type": "code",
      "metadata": {
        "id": "d271140e",
        "outputId": "d9603492-58c6-4324-8587-6ec05831c574"
      },
      "source": [
        "df[['num_characters','num_words','num_sentences']].describe()"
      ],
      "id": "d271140e",
      "execution_count": null,
      "outputs": [
        {
          "data": {
            "text/html": [
              "<div>\n",
              "<style scoped>\n",
              "    .dataframe tbody tr th:only-of-type {\n",
              "        vertical-align: middle;\n",
              "    }\n",
              "\n",
              "    .dataframe tbody tr th {\n",
              "        vertical-align: top;\n",
              "    }\n",
              "\n",
              "    .dataframe thead th {\n",
              "        text-align: right;\n",
              "    }\n",
              "</style>\n",
              "<table border=\"1\" class=\"dataframe\">\n",
              "  <thead>\n",
              "    <tr style=\"text-align: right;\">\n",
              "      <th></th>\n",
              "      <th>num_characters</th>\n",
              "      <th>num_words</th>\n",
              "      <th>num_sentences</th>\n",
              "    </tr>\n",
              "  </thead>\n",
              "  <tbody>\n",
              "    <tr>\n",
              "      <th>count</th>\n",
              "      <td>24656.000000</td>\n",
              "      <td>24656.000000</td>\n",
              "      <td>24656.000000</td>\n",
              "    </tr>\n",
              "    <tr>\n",
              "      <th>mean</th>\n",
              "      <td>1798.708306</td>\n",
              "      <td>340.351882</td>\n",
              "      <td>12.570409</td>\n",
              "    </tr>\n",
              "    <tr>\n",
              "      <th>std</th>\n",
              "      <td>5394.644531</td>\n",
              "      <td>818.222258</td>\n",
              "      <td>26.921471</td>\n",
              "    </tr>\n",
              "    <tr>\n",
              "      <th>min</th>\n",
              "      <td>1.000000</td>\n",
              "      <td>1.000000</td>\n",
              "      <td>1.000000</td>\n",
              "    </tr>\n",
              "    <tr>\n",
              "      <th>25%</th>\n",
              "      <td>264.000000</td>\n",
              "      <td>51.000000</td>\n",
              "      <td>3.000000</td>\n",
              "    </tr>\n",
              "    <tr>\n",
              "      <th>50%</th>\n",
              "      <td>729.000000</td>\n",
              "      <td>142.000000</td>\n",
              "      <td>6.000000</td>\n",
              "    </tr>\n",
              "    <tr>\n",
              "      <th>75%</th>\n",
              "      <td>1748.000000</td>\n",
              "      <td>344.000000</td>\n",
              "      <td>13.000000</td>\n",
              "    </tr>\n",
              "    <tr>\n",
              "      <th>max</th>\n",
              "      <td>272036.000000</td>\n",
              "      <td>32296.000000</td>\n",
              "      <td>1088.000000</td>\n",
              "    </tr>\n",
              "  </tbody>\n",
              "</table>\n",
              "</div>"
            ],
            "text/plain": [
              "       num_characters     num_words  num_sentences\n",
              "count    24656.000000  24656.000000   24656.000000\n",
              "mean      1798.708306    340.351882      12.570409\n",
              "std       5394.644531    818.222258      26.921471\n",
              "min          1.000000      1.000000       1.000000\n",
              "25%        264.000000     51.000000       3.000000\n",
              "50%        729.000000    142.000000       6.000000\n",
              "75%       1748.000000    344.000000      13.000000\n",
              "max     272036.000000  32296.000000    1088.000000"
            ]
          },
          "execution_count": 32,
          "metadata": {},
          "output_type": "execute_result"
        }
      ]
    },
    {
      "cell_type": "code",
      "metadata": {
        "id": "397b3883",
        "outputId": "fc85ee2e-1b4a-43b1-a36f-80c7140bfad1"
      },
      "source": [
        "# Non Abusive\n",
        "df[df['Class'] == 0][['num_characters','num_words','num_sentences']].describe()"
      ],
      "id": "397b3883",
      "execution_count": null,
      "outputs": [
        {
          "data": {
            "text/html": [
              "<div>\n",
              "<style scoped>\n",
              "    .dataframe tbody tr th:only-of-type {\n",
              "        vertical-align: middle;\n",
              "    }\n",
              "\n",
              "    .dataframe tbody tr th {\n",
              "        vertical-align: top;\n",
              "    }\n",
              "\n",
              "    .dataframe thead th {\n",
              "        text-align: right;\n",
              "    }\n",
              "</style>\n",
              "<table border=\"1\" class=\"dataframe\">\n",
              "  <thead>\n",
              "    <tr style=\"text-align: right;\">\n",
              "      <th></th>\n",
              "      <th>num_characters</th>\n",
              "      <th>num_words</th>\n",
              "      <th>num_sentences</th>\n",
              "    </tr>\n",
              "  </thead>\n",
              "  <tbody>\n",
              "    <tr>\n",
              "      <th>count</th>\n",
              "      <td>1642.000000</td>\n",
              "      <td>1642.000000</td>\n",
              "      <td>1642.000000</td>\n",
              "    </tr>\n",
              "    <tr>\n",
              "      <th>mean</th>\n",
              "      <td>1690.338002</td>\n",
              "      <td>342.697929</td>\n",
              "      <td>16.955542</td>\n",
              "    </tr>\n",
              "    <tr>\n",
              "      <th>std</th>\n",
              "      <td>2834.633786</td>\n",
              "      <td>590.602864</td>\n",
              "      <td>32.171859</td>\n",
              "    </tr>\n",
              "    <tr>\n",
              "      <th>min</th>\n",
              "      <td>5.000000</td>\n",
              "      <td>1.000000</td>\n",
              "      <td>1.000000</td>\n",
              "    </tr>\n",
              "    <tr>\n",
              "      <th>25%</th>\n",
              "      <td>183.000000</td>\n",
              "      <td>40.250000</td>\n",
              "      <td>3.000000</td>\n",
              "    </tr>\n",
              "    <tr>\n",
              "      <th>50%</th>\n",
              "      <td>597.500000</td>\n",
              "      <td>123.000000</td>\n",
              "      <td>6.000000</td>\n",
              "    </tr>\n",
              "    <tr>\n",
              "      <th>75%</th>\n",
              "      <td>2121.000000</td>\n",
              "      <td>434.750000</td>\n",
              "      <td>19.000000</td>\n",
              "    </tr>\n",
              "    <tr>\n",
              "      <th>max</th>\n",
              "      <td>35528.000000</td>\n",
              "      <td>7112.000000</td>\n",
              "      <td>339.000000</td>\n",
              "    </tr>\n",
              "  </tbody>\n",
              "</table>\n",
              "</div>"
            ],
            "text/plain": [
              "       num_characters    num_words  num_sentences\n",
              "count     1642.000000  1642.000000    1642.000000\n",
              "mean      1690.338002   342.697929      16.955542\n",
              "std       2834.633786   590.602864      32.171859\n",
              "min          5.000000     1.000000       1.000000\n",
              "25%        183.000000    40.250000       3.000000\n",
              "50%        597.500000   123.000000       6.000000\n",
              "75%       2121.000000   434.750000      19.000000\n",
              "max      35528.000000  7112.000000     339.000000"
            ]
          },
          "execution_count": 33,
          "metadata": {},
          "output_type": "execute_result"
        }
      ]
    },
    {
      "cell_type": "code",
      "metadata": {
        "id": "b4fda3e4",
        "outputId": "aac227a0-1ef0-4b30-d822-d7b5694265a0"
      },
      "source": [
        "#Abusive\n",
        "df[df['Class'] == 1][['num_characters','num_words','num_sentences']].describe()"
      ],
      "id": "b4fda3e4",
      "execution_count": null,
      "outputs": [
        {
          "data": {
            "text/html": [
              "<div>\n",
              "<style scoped>\n",
              "    .dataframe tbody tr th:only-of-type {\n",
              "        vertical-align: middle;\n",
              "    }\n",
              "\n",
              "    .dataframe tbody tr th {\n",
              "        vertical-align: top;\n",
              "    }\n",
              "\n",
              "    .dataframe thead th {\n",
              "        text-align: right;\n",
              "    }\n",
              "</style>\n",
              "<table border=\"1\" class=\"dataframe\">\n",
              "  <thead>\n",
              "    <tr style=\"text-align: right;\">\n",
              "      <th></th>\n",
              "      <th>num_characters</th>\n",
              "      <th>num_words</th>\n",
              "      <th>num_sentences</th>\n",
              "    </tr>\n",
              "  </thead>\n",
              "  <tbody>\n",
              "    <tr>\n",
              "      <th>count</th>\n",
              "      <td>23014.000000</td>\n",
              "      <td>23014.000000</td>\n",
              "      <td>23014.000000</td>\n",
              "    </tr>\n",
              "    <tr>\n",
              "      <th>mean</th>\n",
              "      <td>1806.440297</td>\n",
              "      <td>340.184496</td>\n",
              "      <td>12.257539</td>\n",
              "    </tr>\n",
              "    <tr>\n",
              "      <th>std</th>\n",
              "      <td>5532.160062</td>\n",
              "      <td>832.095511</td>\n",
              "      <td>26.480239</td>\n",
              "    </tr>\n",
              "    <tr>\n",
              "      <th>min</th>\n",
              "      <td>1.000000</td>\n",
              "      <td>1.000000</td>\n",
              "      <td>1.000000</td>\n",
              "    </tr>\n",
              "    <tr>\n",
              "      <th>25%</th>\n",
              "      <td>271.000000</td>\n",
              "      <td>51.000000</td>\n",
              "      <td>3.000000</td>\n",
              "    </tr>\n",
              "    <tr>\n",
              "      <th>50%</th>\n",
              "      <td>737.500000</td>\n",
              "      <td>143.000000</td>\n",
              "      <td>6.000000</td>\n",
              "    </tr>\n",
              "    <tr>\n",
              "      <th>75%</th>\n",
              "      <td>1728.000000</td>\n",
              "      <td>339.000000</td>\n",
              "      <td>13.000000</td>\n",
              "    </tr>\n",
              "    <tr>\n",
              "      <th>max</th>\n",
              "      <td>272036.000000</td>\n",
              "      <td>32296.000000</td>\n",
              "      <td>1088.000000</td>\n",
              "    </tr>\n",
              "  </tbody>\n",
              "</table>\n",
              "</div>"
            ],
            "text/plain": [
              "       num_characters     num_words  num_sentences\n",
              "count    23014.000000  23014.000000   23014.000000\n",
              "mean      1806.440297    340.184496      12.257539\n",
              "std       5532.160062    832.095511      26.480239\n",
              "min          1.000000      1.000000       1.000000\n",
              "25%        271.000000     51.000000       3.000000\n",
              "50%        737.500000    143.000000       6.000000\n",
              "75%       1728.000000    339.000000      13.000000\n",
              "max     272036.000000  32296.000000    1088.000000"
            ]
          },
          "execution_count": 34,
          "metadata": {},
          "output_type": "execute_result"
        }
      ]
    },
    {
      "cell_type": "code",
      "metadata": {
        "id": "81b73601"
      },
      "source": [
        "import seaborn as sns"
      ],
      "id": "81b73601",
      "execution_count": null,
      "outputs": []
    },
    {
      "cell_type": "code",
      "metadata": {
        "id": "11d800cb",
        "outputId": "dab8e060-b9fb-4821-bee6-6d836bfeb78f"
      },
      "source": [
        "plt.figure(figsize=(12,6))\n",
        "sns.histplot(df[df['Class'] == 0]['num_characters'])\n",
        "sns.histplot(df[df['Class'] == 1]['num_characters'],color='red')"
      ],
      "id": "11d800cb",
      "execution_count": null,
      "outputs": [
        {
          "data": {
            "text/plain": [
              "<AxesSubplot:xlabel='num_characters', ylabel='Count'>"
            ]
          },
          "execution_count": 37,
          "metadata": {},
          "output_type": "execute_result"
        },
        {
          "data": {
            "image/png": "[encoded data removed]",
            "text/plain": [
              "<Figure size 864x432 with 1 Axes>"
            ]
          },
          "metadata": {
            "needs_background": "light"
          },
          "output_type": "display_data"
        }
      ]
    },
    {
      "cell_type": "code",
      "metadata": {
        "id": "1ae7f3c8",
        "outputId": "fea3f545-3ef4-4be9-ed41-c901afee493d"
      },
      "source": [
        "plt.figure(figsize=(12,6))\n",
        "sns.histplot(df[df['Class'] == 0]['num_words'])\n",
        "sns.histplot(df[df['Class'] == 1]['num_words'],color='red')"
      ],
      "id": "1ae7f3c8",
      "execution_count": null,
      "outputs": [
        {
          "data": {
            "text/plain": [
              "<AxesSubplot:xlabel='num_words', ylabel='Count'>"
            ]
          },
          "execution_count": 38,
          "metadata": {},
          "output_type": "execute_result"
        },
        {
          "data": {
            "image/png": "[encoded data removed]",
            "text/plain": [
              "<Figure size 864x432 with 1 Axes>"
            ]
          },
          "metadata": {
            "needs_background": "light"
          },
          "output_type": "display_data"
        }
      ]
    },
    {
      "cell_type": "code",
      "metadata": {
        "id": "15e64c24",
        "outputId": "c243e18a-9f76-4df8-a2e2-0a5cc507e704"
      },
      "source": [
        "sns.pairplot(df,hue='Class')"
      ],
      "id": "15e64c24",
      "execution_count": null,
      "outputs": [
        {
          "data": {
            "text/plain": [
              "<seaborn.axisgrid.PairGrid at 0x1f4c2985b20>"
            ]
          },
          "execution_count": 39,
          "metadata": {},
          "output_type": "execute_result"
        },
        {
          "data": {
            "image/png": "[encoded data removed]",
            "text/plain": [
              "<Figure size 582.375x540 with 12 Axes>"
            ]
          },
          "metadata": {
            "needs_background": "light"
          },
          "output_type": "display_data"
        }
      ]
    },
    {
      "cell_type": "code",
      "metadata": {
        "id": "60e83b86",
        "outputId": "b5f491ae-f95a-4db8-d604-4847070ca829"
      },
      "source": [
        "sns.heatmap(df.corr(),annot=True)"
      ],
      "id": "60e83b86",
      "execution_count": null,
      "outputs": [
        {
          "data": {
            "text/plain": [
              "<AxesSubplot:>"
            ]
          },
          "execution_count": 40,
          "metadata": {},
          "output_type": "execute_result"
        },
        {
          "data": {
            "image/png": "[encoded data removed]",
            "text/plain": [
              "<Figure size 432x288 with 2 Axes>"
            ]
          },
          "metadata": {
            "needs_background": "light"
          },
          "output_type": "display_data"
        }
      ]
    },
    {
      "cell_type": "markdown",
      "metadata": {
        "id": "1c89cd89"
      },
      "source": [
        "## Data Preprocessing\n",
        ". Lower case\n",
        "\n",
        ". Tokenization\n",
        "\n",
        ". Removing special characters\n",
        "\n",
        ". Removing stop words and punctuation\n",
        "\n",
        ". Stemming"
      ],
      "id": "1c89cd89"
    },
    {
      "cell_type": "code",
      "metadata": {
        "id": "6231a3be",
        "outputId": "37800c79-77c6-4537-96c9-49ff04d3a56c"
      },
      "source": [
        "from nltk.corpus import stopwords\n",
        "stopwords.words('english')"
      ],
      "id": "6231a3be",
      "execution_count": null,
      "outputs": [
        {
          "data": {
            "text/plain": [
              "['i',\n",
              " 'me',\n",
              " 'my',\n",
              " 'myself',\n",
              " 'we',\n",
              " 'our',\n",
              " 'ours',\n",
              " 'ourselves',\n",
              " 'you',\n",
              " \"you're\",\n",
              " \"you've\",\n",
              " \"you'll\",\n",
              " \"you'd\",\n",
              " 'your',\n",
              " 'yours',\n",
              " 'yourself',\n",
              " 'yourselves',\n",
              " 'he',\n",
              " 'him',\n",
              " 'his',\n",
              " 'himself',\n",
              " 'she',\n",
              " \"she's\",\n",
              " 'her',\n",
              " 'hers',\n",
              " 'herself',\n",
              " 'it',\n",
              " \"it's\",\n",
              " 'its',\n",
              " 'itself',\n",
              " 'they',\n",
              " 'them',\n",
              " 'their',\n",
              " 'theirs',\n",
              " 'themselves',\n",
              " 'what',\n",
              " 'which',\n",
              " 'who',\n",
              " 'whom',\n",
              " 'this',\n",
              " 'that',\n",
              " \"that'll\",\n",
              " 'these',\n",
              " 'those',\n",
              " 'am',\n",
              " 'is',\n",
              " 'are',\n",
              " 'was',\n",
              " 'were',\n",
              " 'be',\n",
              " 'been',\n",
              " 'being',\n",
              " 'have',\n",
              " 'has',\n",
              " 'had',\n",
              " 'having',\n",
              " 'do',\n",
              " 'does',\n",
              " 'did',\n",
              " 'doing',\n",
              " 'a',\n",
              " 'an',\n",
              " 'the',\n",
              " 'and',\n",
              " 'but',\n",
              " 'if',\n",
              " 'or',\n",
              " 'because',\n",
              " 'as',\n",
              " 'until',\n",
              " 'while',\n",
              " 'of',\n",
              " 'at',\n",
              " 'by',\n",
              " 'for',\n",
              " 'with',\n",
              " 'about',\n",
              " 'against',\n",
              " 'between',\n",
              " 'into',\n",
              " 'through',\n",
              " 'during',\n",
              " 'before',\n",
              " 'after',\n",
              " 'above',\n",
              " 'below',\n",
              " 'to',\n",
              " 'from',\n",
              " 'up',\n",
              " 'down',\n",
              " 'in',\n",
              " 'out',\n",
              " 'on',\n",
              " 'off',\n",
              " 'over',\n",
              " 'under',\n",
              " 'again',\n",
              " 'further',\n",
              " 'then',\n",
              " 'once',\n",
              " 'here',\n",
              " 'there',\n",
              " 'when',\n",
              " 'where',\n",
              " 'why',\n",
              " 'how',\n",
              " 'all',\n",
              " 'any',\n",
              " 'both',\n",
              " 'each',\n",
              " 'few',\n",
              " 'more',\n",
              " 'most',\n",
              " 'other',\n",
              " 'some',\n",
              " 'such',\n",
              " 'no',\n",
              " 'nor',\n",
              " 'not',\n",
              " 'only',\n",
              " 'own',\n",
              " 'same',\n",
              " 'so',\n",
              " 'than',\n",
              " 'too',\n",
              " 'very',\n",
              " 's',\n",
              " 't',\n",
              " 'can',\n",
              " 'will',\n",
              " 'just',\n",
              " 'don',\n",
              " \"don't\",\n",
              " 'should',\n",
              " \"should've\",\n",
              " 'now',\n",
              " 'd',\n",
              " 'll',\n",
              " 'm',\n",
              " 'o',\n",
              " 're',\n",
              " 've',\n",
              " 'y',\n",
              " 'ain',\n",
              " 'aren',\n",
              " \"aren't\",\n",
              " 'couldn',\n",
              " \"couldn't\",\n",
              " 'didn',\n",
              " \"didn't\",\n",
              " 'doesn',\n",
              " \"doesn't\",\n",
              " 'hadn',\n",
              " \"hadn't\",\n",
              " 'hasn',\n",
              " \"hasn't\",\n",
              " 'haven',\n",
              " \"haven't\",\n",
              " 'isn',\n",
              " \"isn't\",\n",
              " 'ma',\n",
              " 'mightn',\n",
              " \"mightn't\",\n",
              " 'mustn',\n",
              " \"mustn't\",\n",
              " 'needn',\n",
              " \"needn't\",\n",
              " 'shan',\n",
              " \"shan't\",\n",
              " 'shouldn',\n",
              " \"shouldn't\",\n",
              " 'wasn',\n",
              " \"wasn't\",\n",
              " 'weren',\n",
              " \"weren't\",\n",
              " 'won',\n",
              " \"won't\",\n",
              " 'wouldn',\n",
              " \"wouldn't\"]"
            ]
          },
          "execution_count": 41,
          "metadata": {},
          "output_type": "execute_result"
        }
      ]
    },
    {
      "cell_type": "code",
      "metadata": {
        "id": "f4ebe65b",
        "outputId": "574242b1-cb50-4126-f61e-24843c1bcff8"
      },
      "source": [
        "import string\n",
        "string.punctuation"
      ],
      "id": "f4ebe65b",
      "execution_count": null,
      "outputs": [
        {
          "data": {
            "text/plain": [
              "'!\"#$%&\\'()*+,-./:;<=>?@[\\\\]^_`{|}~'"
            ]
          },
          "execution_count": 42,
          "metadata": {},
          "output_type": "execute_result"
        }
      ]
    },
    {
      "cell_type": "code",
      "metadata": {
        "id": "2def5d78"
      },
      "source": [
        "from nltk.stem.porter import PorterStemmer\n",
        "ps = PorterStemmer()"
      ],
      "id": "2def5d78",
      "execution_count": null,
      "outputs": []
    },
    {
      "cell_type": "code",
      "metadata": {
        "id": "377d17dd"
      },
      "source": [
        "def transform_text(content):\n",
        "    content = content.lower()\n",
        "    content = nltk.word_tokenize(content)\n",
        "    \n",
        "    y = []\n",
        "    for i in content:\n",
        "        if i.isalnum():\n",
        "            y.append(i)\n",
        "    \n",
        "    text = y[:]\n",
        "    y.clear()\n",
        "    \n",
        "    for i in content:\n",
        "        if i not in stopwords.words('english') and i not in string.punctuation:\n",
        "            y.append(i)\n",
        "            \n",
        "    text = y[:]\n",
        "    y.clear()\n",
        "    \n",
        "    for i in content:\n",
        "        y.append(ps.stem(i))\n",
        "    \n",
        "            \n",
        "    return \" \".join(y)"
      ],
      "id": "377d17dd",
      "execution_count": null,
      "outputs": []
    },
    {
      "cell_type": "code",
      "metadata": {
        "id": "1a27a956",
        "outputId": "8618e211-bf9b-49dd-8fa4-6b5dfe07d7a0"
      },
      "source": [
        "transform_text(\"I'm gonna be home soon and i don't want to talk about this stuff anymore tonight, k? I've cried enough today.\")"
      ],
      "id": "1a27a956",
      "execution_count": null,
      "outputs": [
        {
          "data": {
            "text/plain": [
              "\"i 'm gon na be home soon and i do n't want to talk about thi stuff anymor tonight , k ? i 've cri enough today .\""
            ]
          },
          "execution_count": 45,
          "metadata": {},
          "output_type": "execute_result"
        }
      ]
    },
    {
      "cell_type": "code",
      "metadata": {
        "id": "fc877a60",
        "outputId": "555cc22d-d6aa-4ac0-fb2a-69477fefe4ec"
      },
      "source": [
        "df['content'][5]"
      ],
      "id": "fc877a60",
      "execution_count": null,
      "outputs": [
        {
          "data": {
            "text/plain": [
              "'asshole\\n\\n\\n\\n\\nJohn J Lavorato@excelr\\n12/24/2000 08:45 AM\\nTo: John Arnold/HOU/ECT@ECT\\ncc:  \\nSubject: \\n\\nrams -3.5\\nwash -7\\nraiders -9 1/2\\nbalt -5\\nbears lions over 37\\neagles bengals under 35 1/2\\npats +4\\nvikings +5.5\\n\\n\\n'"
            ]
          },
          "execution_count": 47,
          "metadata": {},
          "output_type": "execute_result"
        }
      ]
    },
    {
      "cell_type": "code",
      "metadata": {
        "id": "40f1fa5b",
        "outputId": "9e95b2e4-9e2d-4460-acf7-c90334be5cbf"
      },
      "source": [
        "from nltk.stem.porter import PorterStemmer\n",
        "ps = PorterStemmer()\n",
        "ps.stem('loving')"
      ],
      "id": "40f1fa5b",
      "execution_count": null,
      "outputs": [
        {
          "data": {
            "text/plain": [
              "'love'"
            ]
          },
          "execution_count": 48,
          "metadata": {},
          "output_type": "execute_result"
        }
      ]
    },
    {
      "cell_type": "code",
      "metadata": {
        "id": "b6a93d78"
      },
      "source": [
        "df['transformed_text'] = df['content'].apply(transform_text)"
      ],
      "id": "b6a93d78",
      "execution_count": null,
      "outputs": []
    },
    {
      "cell_type": "code",
      "metadata": {
        "id": "1fad08c1",
        "outputId": "708d480a-9a91-42ea-de55-68aafec374a5"
      },
      "source": [
        "df.head()"
      ],
      "id": "1fad08c1",
      "execution_count": null,
      "outputs": [
        {
          "data": {
            "text/html": [
              "<div>\n",
              "<style scoped>\n",
              "    .dataframe tbody tr th:only-of-type {\n",
              "        vertical-align: middle;\n",
              "    }\n",
              "\n",
              "    .dataframe tbody tr th {\n",
              "        vertical-align: top;\n",
              "    }\n",
              "\n",
              "    .dataframe thead th {\n",
              "        text-align: right;\n",
              "    }\n",
              "</style>\n",
              "<table border=\"1\" class=\"dataframe\">\n",
              "  <thead>\n",
              "    <tr style=\"text-align: right;\">\n",
              "      <th></th>\n",
              "      <th>content</th>\n",
              "      <th>Class</th>\n",
              "      <th>num_characters</th>\n",
              "      <th>num_words</th>\n",
              "      <th>num_sentences</th>\n",
              "      <th>transformed_text</th>\n",
              "    </tr>\n",
              "  </thead>\n",
              "  <tbody>\n",
              "    <tr>\n",
              "      <th>0</th>\n",
              "      <td>eat shit\\n\\n\\n\\n\\nJohn J Lavorato@excelr\\n11/1...</td>\n",
              "      <td>0</td>\n",
              "      <td>220</td>\n",
              "      <td>44</td>\n",
              "      <td>1</td>\n",
              "      <td>eat shit john j lavorato @ excelr 11/18/2000 0...</td>\n",
              "    </tr>\n",
              "    <tr>\n",
              "      <th>1</th>\n",
              "      <td>fuck you</td>\n",
              "      <td>0</td>\n",
              "      <td>8</td>\n",
              "      <td>2</td>\n",
              "      <td>1</td>\n",
              "      <td>fuck you</td>\n",
              "    </tr>\n",
              "    <tr>\n",
              "      <th>2</th>\n",
              "      <td>Gentlemen:\\nThe following champagne is availab...</td>\n",
              "      <td>0</td>\n",
              "      <td>612</td>\n",
              "      <td>99</td>\n",
              "      <td>6</td>\n",
              "      <td>gentlemen : the follow champagn is avail at 70...</td>\n",
              "    </tr>\n",
              "    <tr>\n",
              "      <th>3</th>\n",
              "      <td>sorry i've taken so long...just been trying to...</td>\n",
              "      <td>0</td>\n",
              "      <td>505</td>\n",
              "      <td>163</td>\n",
              "      <td>8</td>\n",
              "      <td>sorri i 've taken so long ... just been tri to...</td>\n",
              "    </tr>\n",
              "    <tr>\n",
              "      <th>4</th>\n",
              "      <td>asshole\\n\\n\\n\\n\\nJohn J Lavorato@excelr\\n12/23...</td>\n",
              "      <td>0</td>\n",
              "      <td>203</td>\n",
              "      <td>42</td>\n",
              "      <td>2</td>\n",
              "      <td>asshol john j lavorato @ excelr 12/23/2000 10:...</td>\n",
              "    </tr>\n",
              "  </tbody>\n",
              "</table>\n",
              "</div>"
            ],
            "text/plain": [
              "                                             content  Class  num_characters  \\\n",
              "0  eat shit\\n\\n\\n\\n\\nJohn J Lavorato@excelr\\n11/1...      0             220   \n",
              "1                                           fuck you      0               8   \n",
              "2  Gentlemen:\\nThe following champagne is availab...      0             612   \n",
              "3  sorry i've taken so long...just been trying to...      0             505   \n",
              "4  asshole\\n\\n\\n\\n\\nJohn J Lavorato@excelr\\n12/23...      0             203   \n",
              "\n",
              "   num_words  num_sentences                                   transformed_text  \n",
              "0         44              1  eat shit john j lavorato @ excelr 11/18/2000 0...  \n",
              "1          2              1                                           fuck you  \n",
              "2         99              6  gentlemen : the follow champagn is avail at 70...  \n",
              "3        163              8  sorri i 've taken so long ... just been tri to...  \n",
              "4         42              2  asshol john j lavorato @ excelr 12/23/2000 10:...  "
            ]
          },
          "execution_count": 50,
          "metadata": {},
          "output_type": "execute_result"
        }
      ]
    },
    {
      "cell_type": "code",
      "metadata": {
        "id": "a65909b4"
      },
      "source": [
        "from wordcloud import WordCloud\n",
        "wc = WordCloud(width=500,height=500,min_font_size=10,background_color='white')"
      ],
      "id": "a65909b4",
      "execution_count": null,
      "outputs": []
    },
    {
      "cell_type": "code",
      "metadata": {
        "id": "721d4c62"
      },
      "source": [
        "Abusive_wc = wc.generate(df[df['Class'] == 1]['transformed_text'].str.cat(sep=\" \"))"
      ],
      "id": "721d4c62",
      "execution_count": null,
      "outputs": []
    },
    {
      "cell_type": "code",
      "metadata": {
        "id": "8ae5eb1b",
        "outputId": "fcafe3e2-e412-4124-99e2-9a7db44135ff"
      },
      "source": [
        "plt.figure(figsize=(15,6))\n",
        "plt.imshow(Abusive_wc)"
      ],
      "id": "8ae5eb1b",
      "execution_count": null,
      "outputs": [
        {
          "data": {
            "text/plain": [
              "<matplotlib.image.AxesImage at 0x1f4ca3f4910>"
            ]
          },
          "execution_count": 53,
          "metadata": {},
          "output_type": "execute_result"
        },
        {
          "data": {
            "image/png": "[encoded data removed]",
            "text/plain": [
              "<Figure size 1080x432 with 1 Axes>"
            ]
          },
          "metadata": {
            "needs_background": "light"
          },
          "output_type": "display_data"
        }
      ]
    },
    {
      "cell_type": "code",
      "metadata": {
        "id": "5e662e9b"
      },
      "source": [
        "NonAbusive_wc = wc.generate(df[df['Class'] == 0]['transformed_text'].str.cat(sep=\" \"))"
      ],
      "id": "5e662e9b",
      "execution_count": null,
      "outputs": []
    },
    {
      "cell_type": "code",
      "metadata": {
        "id": "38cc787e",
        "outputId": "8d6f876b-3bbe-4fe3-a62b-5854378ad56a"
      },
      "source": [
        "plt.figure(figsize=(15,6))\n",
        "plt.imshow(NonAbusive_wc)"
      ],
      "id": "38cc787e",
      "execution_count": null,
      "outputs": [
        {
          "data": {
            "text/plain": [
              "<matplotlib.image.AxesImage at 0x1f504168e20>"
            ]
          },
          "execution_count": 55,
          "metadata": {},
          "output_type": "execute_result"
        },
        {
          "data": {
            "image/png": "[encoded data removed]",
            "text/plain": [
              "<Figure size 1080x432 with 1 Axes>"
            ]
          },
          "metadata": {
            "needs_background": "light"
          },
          "output_type": "display_data"
        }
      ]
    },
    {
      "cell_type": "code",
      "metadata": {
        "id": "fbedc8d1",
        "outputId": "69fcf20c-36f6-46aa-b427-c93118e341ea"
      },
      "source": [
        "df.head()"
      ],
      "id": "fbedc8d1",
      "execution_count": null,
      "outputs": [
        {
          "data": {
            "text/html": [
              "<div>\n",
              "<style scoped>\n",
              "    .dataframe tbody tr th:only-of-type {\n",
              "        vertical-align: middle;\n",
              "    }\n",
              "\n",
              "    .dataframe tbody tr th {\n",
              "        vertical-align: top;\n",
              "    }\n",
              "\n",
              "    .dataframe thead th {\n",
              "        text-align: right;\n",
              "    }\n",
              "</style>\n",
              "<table border=\"1\" class=\"dataframe\">\n",
              "  <thead>\n",
              "    <tr style=\"text-align: right;\">\n",
              "      <th></th>\n",
              "      <th>content</th>\n",
              "      <th>Class</th>\n",
              "      <th>num_characters</th>\n",
              "      <th>num_words</th>\n",
              "      <th>num_sentences</th>\n",
              "      <th>transformed_text</th>\n",
              "    </tr>\n",
              "  </thead>\n",
              "  <tbody>\n",
              "    <tr>\n",
              "      <th>0</th>\n",
              "      <td>eat shit\\n\\n\\n\\n\\nJohn J Lavorato@excelr\\n11/1...</td>\n",
              "      <td>0</td>\n",
              "      <td>220</td>\n",
              "      <td>44</td>\n",
              "      <td>1</td>\n",
              "      <td>eat shit john j lavorato @ excelr 11/18/2000 0...</td>\n",
              "    </tr>\n",
              "    <tr>\n",
              "      <th>1</th>\n",
              "      <td>fuck you</td>\n",
              "      <td>0</td>\n",
              "      <td>8</td>\n",
              "      <td>2</td>\n",
              "      <td>1</td>\n",
              "      <td>fuck you</td>\n",
              "    </tr>\n",
              "    <tr>\n",
              "      <th>2</th>\n",
              "      <td>Gentlemen:\\nThe following champagne is availab...</td>\n",
              "      <td>0</td>\n",
              "      <td>612</td>\n",
              "      <td>99</td>\n",
              "      <td>6</td>\n",
              "      <td>gentlemen : the follow champagn is avail at 70...</td>\n",
              "    </tr>\n",
              "    <tr>\n",
              "      <th>3</th>\n",
              "      <td>sorry i've taken so long...just been trying to...</td>\n",
              "      <td>0</td>\n",
              "      <td>505</td>\n",
              "      <td>163</td>\n",
              "      <td>8</td>\n",
              "      <td>sorri i 've taken so long ... just been tri to...</td>\n",
              "    </tr>\n",
              "    <tr>\n",
              "      <th>4</th>\n",
              "      <td>asshole\\n\\n\\n\\n\\nJohn J Lavorato@excelr\\n12/23...</td>\n",
              "      <td>0</td>\n",
              "      <td>203</td>\n",
              "      <td>42</td>\n",
              "      <td>2</td>\n",
              "      <td>asshol john j lavorato @ excelr 12/23/2000 10:...</td>\n",
              "    </tr>\n",
              "  </tbody>\n",
              "</table>\n",
              "</div>"
            ],
            "text/plain": [
              "                                             content  Class  num_characters  \\\n",
              "0  eat shit\\n\\n\\n\\n\\nJohn J Lavorato@excelr\\n11/1...      0             220   \n",
              "1                                           fuck you      0               8   \n",
              "2  Gentlemen:\\nThe following champagne is availab...      0             612   \n",
              "3  sorry i've taken so long...just been trying to...      0             505   \n",
              "4  asshole\\n\\n\\n\\n\\nJohn J Lavorato@excelr\\n12/23...      0             203   \n",
              "\n",
              "   num_words  num_sentences                                   transformed_text  \n",
              "0         44              1  eat shit john j lavorato @ excelr 11/18/2000 0...  \n",
              "1          2              1                                           fuck you  \n",
              "2         99              6  gentlemen : the follow champagn is avail at 70...  \n",
              "3        163              8  sorri i 've taken so long ... just been tri to...  \n",
              "4         42              2  asshol john j lavorato @ excelr 12/23/2000 10:...  "
            ]
          },
          "execution_count": 56,
          "metadata": {},
          "output_type": "execute_result"
        }
      ]
    },
    {
      "cell_type": "code",
      "metadata": {
        "id": "e0390544"
      },
      "source": [
        "Abusive_corpus = []\n",
        "for msg in df[df['Class'] == 1]['transformed_text'].tolist():\n",
        "    for word in msg.split():\n",
        "        Abusive_corpus.append(word)"
      ],
      "id": "e0390544",
      "execution_count": null,
      "outputs": []
    },
    {
      "cell_type": "code",
      "metadata": {
        "id": "d762808f",
        "outputId": "be5fc212-dffa-4be9-b170-baf94f342a20"
      },
      "source": [
        "len(Abusive_corpus)"
      ],
      "id": "d762808f",
      "execution_count": null,
      "outputs": [
        {
          "data": {
            "text/plain": [
              "7815231"
            ]
          },
          "execution_count": 58,
          "metadata": {},
          "output_type": "execute_result"
        }
      ]
    },
    {
      "cell_type": "code",
      "metadata": {
        "id": "b3c73176",
        "outputId": "5708f597-525e-44b4-d609-87f57cec5d52"
      },
      "source": [
        "from collections import Counter\n",
        "sns.barplot(pd.DataFrame(Counter(Abusive_corpus).most_common(30))[0],pd.DataFrame(Counter(Abusive_corpus).most_common(30))[1])\n",
        "plt.xticks(rotation='vertical')\n",
        "plt.show()"
      ],
      "id": "b3c73176",
      "execution_count": null,
      "outputs": [
        {
          "data": {
            "image/png": "[encoded data removed]",
            "text/plain": [
              "<Figure size 432x288 with 1 Axes>"
            ]
          },
          "metadata": {
            "needs_background": "light"
          },
          "output_type": "display_data"
        }
      ]
    },
    {
      "cell_type": "code",
      "metadata": {
        "id": "e104917c"
      },
      "source": [
        "NonAbusive_corpus = []\n",
        "for msg in df[df['Class'] == 0]['transformed_text'].tolist():\n",
        "    for word in msg.split():\n",
        "        NonAbusive_corpus.append(word)"
      ],
      "id": "e104917c",
      "execution_count": null,
      "outputs": []
    },
    {
      "cell_type": "code",
      "metadata": {
        "id": "6d9c91c7",
        "outputId": "6c42eaf1-721f-4e82-ac7a-50c2f3aa370a"
      },
      "source": [
        "len(NonAbusive_corpus)"
      ],
      "id": "6d9c91c7",
      "execution_count": null,
      "outputs": [
        {
          "data": {
            "text/plain": [
              "561252"
            ]
          },
          "execution_count": 61,
          "metadata": {},
          "output_type": "execute_result"
        }
      ]
    },
    {
      "cell_type": "code",
      "metadata": {
        "id": "940f298d",
        "outputId": "ee492668-99e1-4ba9-93a4-a9768c7cd7ad"
      },
      "source": [
        "from collections import Counter\n",
        "sns.barplot(pd.DataFrame(Counter(NonAbusive_corpus).most_common(30))[0],pd.DataFrame(Counter(NonAbusive_corpus).most_common(30))[1])\n",
        "plt.xticks(rotation='vertical')\n",
        "plt.show()"
      ],
      "id": "940f298d",
      "execution_count": null,
      "outputs": [
        {
          "data": {
            "image/png": "[encoded data removed]",
            "text/plain": [
              "<Figure size 432x288 with 1 Axes>"
            ]
          },
          "metadata": {
            "needs_background": "light"
          },
          "output_type": "display_data"
        }
      ]
    },
    {
      "cell_type": "code",
      "metadata": {
        "id": "ec1d465b",
        "outputId": "7c2dff06-4b3b-45a7-b659-a9048722cde0"
      },
      "source": [
        "# Text Vectorization\n",
        "# using Bag of Words\n",
        "df.head()"
      ],
      "id": "ec1d465b",
      "execution_count": null,
      "outputs": [
        {
          "data": {
            "text/html": [
              "<div>\n",
              "<style scoped>\n",
              "    .dataframe tbody tr th:only-of-type {\n",
              "        vertical-align: middle;\n",
              "    }\n",
              "\n",
              "    .dataframe tbody tr th {\n",
              "        vertical-align: top;\n",
              "    }\n",
              "\n",
              "    .dataframe thead th {\n",
              "        text-align: right;\n",
              "    }\n",
              "</style>\n",
              "<table border=\"1\" class=\"dataframe\">\n",
              "  <thead>\n",
              "    <tr style=\"text-align: right;\">\n",
              "      <th></th>\n",
              "      <th>content</th>\n",
              "      <th>Class</th>\n",
              "      <th>num_characters</th>\n",
              "      <th>num_words</th>\n",
              "      <th>num_sentences</th>\n",
              "      <th>transformed_text</th>\n",
              "    </tr>\n",
              "  </thead>\n",
              "  <tbody>\n",
              "    <tr>\n",
              "      <th>0</th>\n",
              "      <td>eat shit\\n\\n\\n\\n\\nJohn J Lavorato@excelr\\n11/1...</td>\n",
              "      <td>0</td>\n",
              "      <td>220</td>\n",
              "      <td>44</td>\n",
              "      <td>1</td>\n",
              "      <td>eat shit john j lavorato @ excelr 11/18/2000 0...</td>\n",
              "    </tr>\n",
              "    <tr>\n",
              "      <th>1</th>\n",
              "      <td>fuck you</td>\n",
              "      <td>0</td>\n",
              "      <td>8</td>\n",
              "      <td>2</td>\n",
              "      <td>1</td>\n",
              "      <td>fuck you</td>\n",
              "    </tr>\n",
              "    <tr>\n",
              "      <th>2</th>\n",
              "      <td>Gentlemen:\\nThe following champagne is availab...</td>\n",
              "      <td>0</td>\n",
              "      <td>612</td>\n",
              "      <td>99</td>\n",
              "      <td>6</td>\n",
              "      <td>gentlemen : the follow champagn is avail at 70...</td>\n",
              "    </tr>\n",
              "    <tr>\n",
              "      <th>3</th>\n",
              "      <td>sorry i've taken so long...just been trying to...</td>\n",
              "      <td>0</td>\n",
              "      <td>505</td>\n",
              "      <td>163</td>\n",
              "      <td>8</td>\n",
              "      <td>sorri i 've taken so long ... just been tri to...</td>\n",
              "    </tr>\n",
              "    <tr>\n",
              "      <th>4</th>\n",
              "      <td>asshole\\n\\n\\n\\n\\nJohn J Lavorato@excelr\\n12/23...</td>\n",
              "      <td>0</td>\n",
              "      <td>203</td>\n",
              "      <td>42</td>\n",
              "      <td>2</td>\n",
              "      <td>asshol john j lavorato @ excelr 12/23/2000 10:...</td>\n",
              "    </tr>\n",
              "  </tbody>\n",
              "</table>\n",
              "</div>"
            ],
            "text/plain": [
              "                                             content  Class  num_characters  \\\n",
              "0  eat shit\\n\\n\\n\\n\\nJohn J Lavorato@excelr\\n11/1...      0             220   \n",
              "1                                           fuck you      0               8   \n",
              "2  Gentlemen:\\nThe following champagne is availab...      0             612   \n",
              "3  sorry i've taken so long...just been trying to...      0             505   \n",
              "4  asshole\\n\\n\\n\\n\\nJohn J Lavorato@excelr\\n12/23...      0             203   \n",
              "\n",
              "   num_words  num_sentences                                   transformed_text  \n",
              "0         44              1  eat shit john j lavorato @ excelr 11/18/2000 0...  \n",
              "1          2              1                                           fuck you  \n",
              "2         99              6  gentlemen : the follow champagn is avail at 70...  \n",
              "3        163              8  sorri i 've taken so long ... just been tri to...  \n",
              "4         42              2  asshol john j lavorato @ excelr 12/23/2000 10:...  "
            ]
          },
          "execution_count": 63,
          "metadata": {},
          "output_type": "execute_result"
        }
      ]
    },
    {
      "cell_type": "code",
      "metadata": {
        "id": "d0f9cd22"
      },
      "source": [
        "from sklearn.feature_extraction.text import CountVectorizer,TfidfVectorizer\n",
        "cv = CountVectorizer()\n",
        "tfidf = TfidfVectorizer(max_features=3000)"
      ],
      "id": "d0f9cd22",
      "execution_count": null,
      "outputs": []
    },
    {
      "cell_type": "code",
      "metadata": {
        "id": "56a523ba"
      },
      "source": [
        "X = tfidf.fit_transform(df['transformed_text']).toarray()"
      ],
      "id": "56a523ba",
      "execution_count": null,
      "outputs": []
    },
    {
      "cell_type": "code",
      "metadata": {
        "id": "f093d68e"
      },
      "source": [
        "#from sklearn.preprocessing import MinMaxScaler\n",
        "#scaler = MinMaxScaler()\n",
        "#X = scaler.fit_transform(X)"
      ],
      "id": "f093d68e",
      "execution_count": null,
      "outputs": []
    },
    {
      "cell_type": "code",
      "metadata": {
        "id": "72955fce"
      },
      "source": [
        "# appending the num_character col to X\n",
        "#X = np.hstack((X,df['num_characters'].values.reshape(-1,1)))"
      ],
      "id": "72955fce",
      "execution_count": null,
      "outputs": []
    },
    {
      "cell_type": "code",
      "metadata": {
        "id": "15a5aab4",
        "outputId": "c0a3e884-e4fc-453c-fa71-bc4c1a842217"
      },
      "source": [
        "X.shape"
      ],
      "id": "15a5aab4",
      "execution_count": null,
      "outputs": [
        {
          "data": {
            "text/plain": [
              "(24656, 3000)"
            ]
          },
          "execution_count": 68,
          "metadata": {},
          "output_type": "execute_result"
        }
      ]
    },
    {
      "cell_type": "code",
      "metadata": {
        "id": "a3594395"
      },
      "source": [
        "y = df['Class'].values"
      ],
      "id": "a3594395",
      "execution_count": null,
      "outputs": []
    },
    {
      "cell_type": "code",
      "metadata": {
        "id": "c32030e7"
      },
      "source": [
        "from sklearn.model_selection import train_test_split"
      ],
      "id": "c32030e7",
      "execution_count": null,
      "outputs": []
    },
    {
      "cell_type": "code",
      "metadata": {
        "id": "35507348"
      },
      "source": [
        "X_train,X_test,y_train,y_test = train_test_split(X,y,test_size=0.2,random_state=2)"
      ],
      "id": "35507348",
      "execution_count": null,
      "outputs": []
    },
    {
      "cell_type": "code",
      "metadata": {
        "id": "197188b2"
      },
      "source": [
        "from sklearn.naive_bayes import GaussianNB,MultinomialNB,BernoulliNB\n",
        "from sklearn.metrics import accuracy_score,confusion_matrix,precision_score"
      ],
      "id": "197188b2",
      "execution_count": null,
      "outputs": []
    },
    {
      "cell_type": "code",
      "metadata": {
        "id": "22fe8617"
      },
      "source": [
        "gnb = GaussianNB()\n",
        "mnb = MultinomialNB()\n",
        "bnb = BernoulliNB()"
      ],
      "id": "22fe8617",
      "execution_count": null,
      "outputs": []
    },
    {
      "cell_type": "code",
      "metadata": {
        "id": "e3f6e050",
        "outputId": "414434fa-a0f1-4d8f-e38d-50c69aadd5c8"
      },
      "source": [
        "gnb.fit(X_train,y_train)\n",
        "y_pred1 = gnb.predict(X_test)\n",
        "print(accuracy_score(y_test,y_pred1))\n",
        "print(confusion_matrix(y_test,y_pred1))\n",
        "print(precision_score(y_test,y_pred1))"
      ],
      "id": "e3f6e050",
      "execution_count": null,
      "outputs": [
        {
          "name": "stdout",
          "output_type": "stream",
          "text": [
            "0.8258313057583131\n",
            "[[ 264   66]\n",
            " [ 793 3809]]\n",
            "0.9829677419354839\n"
          ]
        }
      ]
    },
    {
      "cell_type": "code",
      "metadata": {
        "id": "182448e9",
        "outputId": "91fe86b5-8a4a-4f66-9f5c-0d4c9a37f4ef"
      },
      "source": [
        "mnb.fit(X_train,y_train)\n",
        "y_pred2 = mnb.predict(X_test)\n",
        "print(accuracy_score(y_test,y_pred2))\n",
        "print(confusion_matrix(y_test,y_pred2))\n",
        "print(precision_score(y_test,y_pred2))"
      ],
      "id": "182448e9",
      "execution_count": null,
      "outputs": [
        {
          "name": "stdout",
          "output_type": "stream",
          "text": [
            "0.9582319545823196\n",
            "[[ 154  176]\n",
            " [  30 4572]]\n",
            "0.9629317607413648\n"
          ]
        }
      ]
    },
    {
      "cell_type": "code",
      "metadata": {
        "id": "c632648b",
        "outputId": "1cd19ffa-e4d8-4cdf-a31a-df00adea33a8"
      },
      "source": [
        "bnb.fit(X_train,y_train)\n",
        "y_pred3 = bnb.predict(X_test)\n",
        "print(accuracy_score(y_test,y_pred3))\n",
        "print(confusion_matrix(y_test,y_pred3))\n",
        "print(precision_score(y_test,y_pred3))"
      ],
      "id": "c632648b",
      "execution_count": null,
      "outputs": [
        {
          "name": "stdout",
          "output_type": "stream",
          "text": [
            "0.8236009732360098\n",
            "[[ 287   43]\n",
            " [ 827 3775]]\n",
            "0.9887375589313777\n"
          ]
        }
      ]
    },
    {
      "cell_type": "code",
      "metadata": {
        "id": "39ed299b"
      },
      "source": [
        "# tfidf --> MNB"
      ],
      "id": "39ed299b",
      "execution_count": null,
      "outputs": []
    },
    {
      "cell_type": "code",
      "metadata": {
        "id": "2e21cc18"
      },
      "source": [
        "import xgboost as xgb"
      ],
      "id": "2e21cc18",
      "execution_count": null,
      "outputs": []
    },
    {
      "cell_type": "code",
      "metadata": {
        "id": "7280022c"
      },
      "source": [
        "from sklearn.linear_model import LogisticRegression\n",
        "from sklearn.svm import SVC\n",
        "from sklearn.naive_bayes import MultinomialNB\n",
        "from sklearn.tree import DecisionTreeClassifier\n",
        "from sklearn.neighbors import KNeighborsClassifier\n",
        "from sklearn.ensemble import RandomForestClassifier\n",
        "from sklearn.ensemble import AdaBoostClassifier\n",
        "from sklearn.ensemble import BaggingClassifier\n",
        "from sklearn.ensemble import ExtraTreesClassifier\n",
        "from sklearn.ensemble import GradientBoostingClassifier\n",
        "from xgboost import XGBClassifier"
      ],
      "id": "7280022c",
      "execution_count": null,
      "outputs": []
    },
    {
      "cell_type": "code",
      "metadata": {
        "id": "fa277448"
      },
      "source": [
        "clfs = {\n",
        "    'SVC' : svc,\n",
        "    'KN' : knc, \n",
        "    'NB': mnb, \n",
        "    'DT': dtc, \n",
        "    'LR': lrc, \n",
        "    'RF': rfc, \n",
        "    'AdaBoost': abc, \n",
        "    'BgC': bc, \n",
        "    'ETC': etc,\n",
        "    'GBDT':gbdt,\n",
        "    'xgb':xgb\n",
        "}"
      ],
      "id": "fa277448",
      "execution_count": null,
      "outputs": []
    },
    {
      "cell_type": "code",
      "metadata": {
        "id": "8edbf93d"
      },
      "source": [
        "def train_classifier(clf,X_train,y_train,X_test,y_test):\n",
        "    clf.fit(X_train,y_train)\n",
        "    y_pred = clf.predict(X_test)\n",
        "    accuracy = accuracy_score(y_test,y_pred)\n",
        "    precision = precision_score(y_test,y_pred)\n",
        "    \n",
        "    return accuracy,precision"
      ],
      "id": "8edbf93d",
      "execution_count": null,
      "outputs": []
    },
    {
      "cell_type": "code",
      "metadata": {
        "id": "fbb67860",
        "outputId": "9a362e46-ea54-47f8-9581-1546991213d5"
      },
      "source": [
        "train_classifier(svc,X_train,y_train,X_test,y_test)"
      ],
      "id": "fbb67860",
      "execution_count": null,
      "outputs": [
        {
          "data": {
            "text/plain": [
              "(0.9750608272506083, 0.9778109665030936)"
            ]
          },
          "execution_count": 83,
          "metadata": {},
          "output_type": "execute_result"
        }
      ]
    },
    {
      "cell_type": "code",
      "metadata": {
        "id": "c556fd82",
        "outputId": "3f26daec-abd2-48d5-9f05-f5f2219dba0c"
      },
      "source": [
        "accuracy_scores = []\n",
        "precision_scores = []\n",
        "\n",
        "for name,clf in clfs.items():\n",
        "    \n",
        "    current_accuracy,current_precision = train_classifier(clf, X_train,y_train,X_test,y_test)\n",
        "    \n",
        "    print(\"For \",name)\n",
        "    print(\"Accuracy - \",current_accuracy)\n",
        "    print(\"Precision - \",current_precision)\n",
        "    \n",
        "    accuracy_scores.append(current_accuracy)\n",
        "    precision_scores.append(current_precision)"
      ],
      "id": "c556fd82",
      "execution_count": null,
      "outputs": [
        {
          "name": "stdout",
          "output_type": "stream",
          "text": [
            "For  SVC\n",
            "Accuracy -  0.9750608272506083\n",
            "Precision -  0.9778109665030936\n",
            "For  KN\n",
            "Accuracy -  0.9480940794809408\n",
            "Precision -  0.9521431543903454\n",
            "For  NB\n",
            "Accuracy -  0.9582319545823196\n",
            "Precision -  0.9629317607413648\n",
            "For  DT\n",
            "Accuracy -  0.9503244120032441\n",
            "Precision -  0.9537596334097063\n",
            "For  LR\n",
            "Accuracy -  0.9766828872668288\n",
            "Precision -  0.9780524184956317\n",
            "For  RF\n",
            "Accuracy -  0.9716139497161395\n",
            "Precision -  0.970873786407767\n",
            "For  AdaBoost\n",
            "Accuracy -  0.9641119221411192\n",
            "Precision -  0.9694462126034373\n",
            "For  BgC\n",
            "Accuracy -  0.9720194647201946\n",
            "Precision -  0.9808272296423955\n",
            "For  ETC\n",
            "Accuracy -  0.9695863746958637\n",
            "Precision -  0.9698184888138455\n",
            "For  GBDT\n",
            "Accuracy -  0.9651257096512571\n",
            "Precision -  0.9649454240134341\n",
            "[08:41:12] WARNING: C:/Users/Administrator/workspace/xgboost-win64_release_1.4.0/src/learner.cc:1095: Starting in XGBoost 1.3.0, the default evaluation metric used with the objective 'binary:logistic' was changed from 'error' to 'logloss'. Explicitly set eval_metric if you'd like to restore the old behavior.\n",
            "For  xgb\n",
            "Accuracy -  0.9732360097323601\n",
            "Precision -  0.9735169491525424\n"
          ]
        }
      ]
    },
    {
      "cell_type": "code",
      "metadata": {
        "id": "c89236cb"
      },
      "source": [
        "performance_df = pd.DataFrame({'Algorithm':clfs.keys(),'Accuracy':accuracy_scores,'Precision':precision_scores}).sort_values('Precision',ascending=False)"
      ],
      "id": "c89236cb",
      "execution_count": null,
      "outputs": []
    },
    {
      "cell_type": "code",
      "metadata": {
        "id": "25c71a21",
        "outputId": "0bd39622-b9b0-4be0-cbf0-6e44802fc5be"
      },
      "source": [
        "performance_df"
      ],
      "id": "25c71a21",
      "execution_count": null,
      "outputs": [
        {
          "data": {
            "text/html": [
              "<div>\n",
              "<style scoped>\n",
              "    .dataframe tbody tr th:only-of-type {\n",
              "        vertical-align: middle;\n",
              "    }\n",
              "\n",
              "    .dataframe tbody tr th {\n",
              "        vertical-align: top;\n",
              "    }\n",
              "\n",
              "    .dataframe thead th {\n",
              "        text-align: right;\n",
              "    }\n",
              "</style>\n",
              "<table border=\"1\" class=\"dataframe\">\n",
              "  <thead>\n",
              "    <tr style=\"text-align: right;\">\n",
              "      <th></th>\n",
              "      <th>Algorithm</th>\n",
              "      <th>Accuracy</th>\n",
              "      <th>Precision</th>\n",
              "    </tr>\n",
              "  </thead>\n",
              "  <tbody>\n",
              "    <tr>\n",
              "      <th>7</th>\n",
              "      <td>BgC</td>\n",
              "      <td>0.972019</td>\n",
              "      <td>0.980827</td>\n",
              "    </tr>\n",
              "    <tr>\n",
              "      <th>4</th>\n",
              "      <td>LR</td>\n",
              "      <td>0.976683</td>\n",
              "      <td>0.978052</td>\n",
              "    </tr>\n",
              "    <tr>\n",
              "      <th>0</th>\n",
              "      <td>SVC</td>\n",
              "      <td>0.975061</td>\n",
              "      <td>0.977811</td>\n",
              "    </tr>\n",
              "    <tr>\n",
              "      <th>10</th>\n",
              "      <td>xgb</td>\n",
              "      <td>0.973236</td>\n",
              "      <td>0.973517</td>\n",
              "    </tr>\n",
              "    <tr>\n",
              "      <th>5</th>\n",
              "      <td>RF</td>\n",
              "      <td>0.971614</td>\n",
              "      <td>0.970874</td>\n",
              "    </tr>\n",
              "    <tr>\n",
              "      <th>8</th>\n",
              "      <td>ETC</td>\n",
              "      <td>0.969586</td>\n",
              "      <td>0.969818</td>\n",
              "    </tr>\n",
              "    <tr>\n",
              "      <th>6</th>\n",
              "      <td>AdaBoost</td>\n",
              "      <td>0.964112</td>\n",
              "      <td>0.969446</td>\n",
              "    </tr>\n",
              "    <tr>\n",
              "      <th>9</th>\n",
              "      <td>GBDT</td>\n",
              "      <td>0.965126</td>\n",
              "      <td>0.964945</td>\n",
              "    </tr>\n",
              "    <tr>\n",
              "      <th>2</th>\n",
              "      <td>NB</td>\n",
              "      <td>0.958232</td>\n",
              "      <td>0.962932</td>\n",
              "    </tr>\n",
              "    <tr>\n",
              "      <th>3</th>\n",
              "      <td>DT</td>\n",
              "      <td>0.950324</td>\n",
              "      <td>0.953760</td>\n",
              "    </tr>\n",
              "    <tr>\n",
              "      <th>1</th>\n",
              "      <td>KN</td>\n",
              "      <td>0.948094</td>\n",
              "      <td>0.952143</td>\n",
              "    </tr>\n",
              "  </tbody>\n",
              "</table>\n",
              "</div>"
            ],
            "text/plain": [
              "   Algorithm  Accuracy  Precision\n",
              "7        BgC  0.972019   0.980827\n",
              "4         LR  0.976683   0.978052\n",
              "0        SVC  0.975061   0.977811\n",
              "10       xgb  0.973236   0.973517\n",
              "5         RF  0.971614   0.970874\n",
              "8        ETC  0.969586   0.969818\n",
              "6   AdaBoost  0.964112   0.969446\n",
              "9       GBDT  0.965126   0.964945\n",
              "2         NB  0.958232   0.962932\n",
              "3         DT  0.950324   0.953760\n",
              "1         KN  0.948094   0.952143"
            ]
          },
          "execution_count": 86,
          "metadata": {},
          "output_type": "execute_result"
        }
      ]
    },
    {
      "cell_type": "code",
      "metadata": {
        "id": "1118bdd1"
      },
      "source": [
        "performance_df1 = pd.melt(performance_df, id_vars = \"Algorithm\")"
      ],
      "id": "1118bdd1",
      "execution_count": null,
      "outputs": []
    },
    {
      "cell_type": "code",
      "metadata": {
        "id": "7015a5a0",
        "outputId": "22e51f40-0224-44a3-85c0-a23d3574f747"
      },
      "source": [
        "performance_df1"
      ],
      "id": "7015a5a0",
      "execution_count": null,
      "outputs": [
        {
          "data": {
            "text/html": [
              "<div>\n",
              "<style scoped>\n",
              "    .dataframe tbody tr th:only-of-type {\n",
              "        vertical-align: middle;\n",
              "    }\n",
              "\n",
              "    .dataframe tbody tr th {\n",
              "        vertical-align: top;\n",
              "    }\n",
              "\n",
              "    .dataframe thead th {\n",
              "        text-align: right;\n",
              "    }\n",
              "</style>\n",
              "<table border=\"1\" class=\"dataframe\">\n",
              "  <thead>\n",
              "    <tr style=\"text-align: right;\">\n",
              "      <th></th>\n",
              "      <th>Algorithm</th>\n",
              "      <th>variable</th>\n",
              "      <th>value</th>\n",
              "    </tr>\n",
              "  </thead>\n",
              "  <tbody>\n",
              "    <tr>\n",
              "      <th>0</th>\n",
              "      <td>BgC</td>\n",
              "      <td>Accuracy</td>\n",
              "      <td>0.972019</td>\n",
              "    </tr>\n",
              "    <tr>\n",
              "      <th>1</th>\n",
              "      <td>LR</td>\n",
              "      <td>Accuracy</td>\n",
              "      <td>0.976683</td>\n",
              "    </tr>\n",
              "    <tr>\n",
              "      <th>2</th>\n",
              "      <td>SVC</td>\n",
              "      <td>Accuracy</td>\n",
              "      <td>0.975061</td>\n",
              "    </tr>\n",
              "    <tr>\n",
              "      <th>3</th>\n",
              "      <td>xgb</td>\n",
              "      <td>Accuracy</td>\n",
              "      <td>0.973236</td>\n",
              "    </tr>\n",
              "    <tr>\n",
              "      <th>4</th>\n",
              "      <td>RF</td>\n",
              "      <td>Accuracy</td>\n",
              "      <td>0.971614</td>\n",
              "    </tr>\n",
              "    <tr>\n",
              "      <th>5</th>\n",
              "      <td>ETC</td>\n",
              "      <td>Accuracy</td>\n",
              "      <td>0.969586</td>\n",
              "    </tr>\n",
              "    <tr>\n",
              "      <th>6</th>\n",
              "      <td>AdaBoost</td>\n",
              "      <td>Accuracy</td>\n",
              "      <td>0.964112</td>\n",
              "    </tr>\n",
              "    <tr>\n",
              "      <th>7</th>\n",
              "      <td>GBDT</td>\n",
              "      <td>Accuracy</td>\n",
              "      <td>0.965126</td>\n",
              "    </tr>\n",
              "    <tr>\n",
              "      <th>8</th>\n",
              "      <td>NB</td>\n",
              "      <td>Accuracy</td>\n",
              "      <td>0.958232</td>\n",
              "    </tr>\n",
              "    <tr>\n",
              "      <th>9</th>\n",
              "      <td>DT</td>\n",
              "      <td>Accuracy</td>\n",
              "      <td>0.950324</td>\n",
              "    </tr>\n",
              "    <tr>\n",
              "      <th>10</th>\n",
              "      <td>KN</td>\n",
              "      <td>Accuracy</td>\n",
              "      <td>0.948094</td>\n",
              "    </tr>\n",
              "    <tr>\n",
              "      <th>11</th>\n",
              "      <td>BgC</td>\n",
              "      <td>Precision</td>\n",
              "      <td>0.980827</td>\n",
              "    </tr>\n",
              "    <tr>\n",
              "      <th>12</th>\n",
              "      <td>LR</td>\n",
              "      <td>Precision</td>\n",
              "      <td>0.978052</td>\n",
              "    </tr>\n",
              "    <tr>\n",
              "      <th>13</th>\n",
              "      <td>SVC</td>\n",
              "      <td>Precision</td>\n",
              "      <td>0.977811</td>\n",
              "    </tr>\n",
              "    <tr>\n",
              "      <th>14</th>\n",
              "      <td>xgb</td>\n",
              "      <td>Precision</td>\n",
              "      <td>0.973517</td>\n",
              "    </tr>\n",
              "    <tr>\n",
              "      <th>15</th>\n",
              "      <td>RF</td>\n",
              "      <td>Precision</td>\n",
              "      <td>0.970874</td>\n",
              "    </tr>\n",
              "    <tr>\n",
              "      <th>16</th>\n",
              "      <td>ETC</td>\n",
              "      <td>Precision</td>\n",
              "      <td>0.969818</td>\n",
              "    </tr>\n",
              "    <tr>\n",
              "      <th>17</th>\n",
              "      <td>AdaBoost</td>\n",
              "      <td>Precision</td>\n",
              "      <td>0.969446</td>\n",
              "    </tr>\n",
              "    <tr>\n",
              "      <th>18</th>\n",
              "      <td>GBDT</td>\n",
              "      <td>Precision</td>\n",
              "      <td>0.964945</td>\n",
              "    </tr>\n",
              "    <tr>\n",
              "      <th>19</th>\n",
              "      <td>NB</td>\n",
              "      <td>Precision</td>\n",
              "      <td>0.962932</td>\n",
              "    </tr>\n",
              "    <tr>\n",
              "      <th>20</th>\n",
              "      <td>DT</td>\n",
              "      <td>Precision</td>\n",
              "      <td>0.953760</td>\n",
              "    </tr>\n",
              "    <tr>\n",
              "      <th>21</th>\n",
              "      <td>KN</td>\n",
              "      <td>Precision</td>\n",
              "      <td>0.952143</td>\n",
              "    </tr>\n",
              "  </tbody>\n",
              "</table>\n",
              "</div>"
            ],
            "text/plain": [
              "   Algorithm   variable     value\n",
              "0        BgC   Accuracy  0.972019\n",
              "1         LR   Accuracy  0.976683\n",
              "2        SVC   Accuracy  0.975061\n",
              "3        xgb   Accuracy  0.973236\n",
              "4         RF   Accuracy  0.971614\n",
              "5        ETC   Accuracy  0.969586\n",
              "6   AdaBoost   Accuracy  0.964112\n",
              "7       GBDT   Accuracy  0.965126\n",
              "8         NB   Accuracy  0.958232\n",
              "9         DT   Accuracy  0.950324\n",
              "10        KN   Accuracy  0.948094\n",
              "11       BgC  Precision  0.980827\n",
              "12        LR  Precision  0.978052\n",
              "13       SVC  Precision  0.977811\n",
              "14       xgb  Precision  0.973517\n",
              "15        RF  Precision  0.970874\n",
              "16       ETC  Precision  0.969818\n",
              "17  AdaBoost  Precision  0.969446\n",
              "18      GBDT  Precision  0.964945\n",
              "19        NB  Precision  0.962932\n",
              "20        DT  Precision  0.953760\n",
              "21        KN  Precision  0.952143"
            ]
          },
          "execution_count": 88,
          "metadata": {},
          "output_type": "execute_result"
        }
      ]
    },
    {
      "cell_type": "code",
      "metadata": {
        "id": "396f7a87",
        "outputId": "856307a6-22c5-4b2f-d2e4-5a82fe3f4dfe"
      },
      "source": [
        "sns.catplot(x = 'Algorithm', y='value', \n",
        "               hue = 'variable',data=performance_df1, kind='bar',height=5)\n",
        "plt.ylim(0.5,1.0)\n",
        "plt.xticks(rotation='vertical')\n",
        "plt.show()"
      ],
      "id": "396f7a87",
      "execution_count": null,
      "outputs": [
        {
          "data": {
            "image/png": "[encoded data removed]",
            "text/plain": [
              "<Figure size 441.75x360 with 1 Axes>"
            ]
          },
          "metadata": {
            "needs_background": "light"
          },
          "output_type": "display_data"
        }
      ]
    },
    {
      "cell_type": "code",
      "metadata": {
        "id": "730e2fed"
      },
      "source": [
        "# model improve\n",
        "# 1. Change the max_features parameter of TfIdf"
      ],
      "id": "730e2fed",
      "execution_count": null,
      "outputs": []
    },
    {
      "cell_type": "code",
      "metadata": {
        "id": "e9905e16"
      },
      "source": [
        "temp_df = pd.DataFrame({'Algorithm':clfs.keys(),'Accuracy_max_ft_3000':accuracy_scores,'Precision_max_ft_3000':precision_scores}).sort_values('Precision_max_ft_3000',ascending=False)"
      ],
      "id": "e9905e16",
      "execution_count": null,
      "outputs": []
    },
    {
      "cell_type": "code",
      "metadata": {
        "id": "62162f86"
      },
      "source": [
        "\n",
        "temp_df = pd.DataFrame({'Algorithm':clfs.keys(),'Accuracy_scaling':accuracy_scores,'Precision_scaling':precision_scores}).sort_values('Precision_scaling',ascending=False)"
      ],
      "id": "62162f86",
      "execution_count": null,
      "outputs": []
    },
    {
      "cell_type": "code",
      "metadata": {
        "id": "8079216b"
      },
      "source": [
        "new_df = performance_df.merge(temp_df,on='Algorithm')"
      ],
      "id": "8079216b",
      "execution_count": null,
      "outputs": []
    },
    {
      "cell_type": "code",
      "metadata": {
        "id": "dee6a3a3"
      },
      "source": [
        "\n",
        "new_df_scaled = new_df.merge(temp_df,on='Algorithm')"
      ],
      "id": "dee6a3a3",
      "execution_count": null,
      "outputs": []
    },
    {
      "cell_type": "code",
      "metadata": {
        "id": "77bd8db7"
      },
      "source": [
        "\n",
        "temp_df = pd.DataFrame({'Algorithm':clfs.keys(),'Accuracy_num_chars':accuracy_scores,'Precision_num_chars':precision_scores}).sort_values('Precision_num_chars',ascending=False)"
      ],
      "id": "77bd8db7",
      "execution_count": null,
      "outputs": []
    },
    {
      "cell_type": "code",
      "metadata": {
        "id": "2414d610",
        "outputId": "b88d378e-58ee-4060-f50f-6e3cb1259b10"
      },
      "source": [
        "new_df_scaled.merge(temp_df,on='Algorithm')"
      ],
      "id": "2414d610",
      "execution_count": null,
      "outputs": [
        {
          "data": {
            "text/html": [
              "<div>\n",
              "<style scoped>\n",
              "    .dataframe tbody tr th:only-of-type {\n",
              "        vertical-align: middle;\n",
              "    }\n",
              "\n",
              "    .dataframe tbody tr th {\n",
              "        vertical-align: top;\n",
              "    }\n",
              "\n",
              "    .dataframe thead th {\n",
              "        text-align: right;\n",
              "    }\n",
              "</style>\n",
              "<table border=\"1\" class=\"dataframe\">\n",
              "  <thead>\n",
              "    <tr style=\"text-align: right;\">\n",
              "      <th></th>\n",
              "      <th>Algorithm</th>\n",
              "      <th>Accuracy</th>\n",
              "      <th>Precision</th>\n",
              "      <th>Accuracy_scaling_x</th>\n",
              "      <th>Precision_scaling_x</th>\n",
              "      <th>Accuracy_scaling_y</th>\n",
              "      <th>Precision_scaling_y</th>\n",
              "      <th>Accuracy_num_chars</th>\n",
              "      <th>Precision_num_chars</th>\n",
              "    </tr>\n",
              "  </thead>\n",
              "  <tbody>\n",
              "    <tr>\n",
              "      <th>0</th>\n",
              "      <td>BgC</td>\n",
              "      <td>0.972019</td>\n",
              "      <td>0.980827</td>\n",
              "      <td>0.972019</td>\n",
              "      <td>0.980827</td>\n",
              "      <td>0.972019</td>\n",
              "      <td>0.980827</td>\n",
              "      <td>0.972019</td>\n",
              "      <td>0.980827</td>\n",
              "    </tr>\n",
              "    <tr>\n",
              "      <th>1</th>\n",
              "      <td>LR</td>\n",
              "      <td>0.976683</td>\n",
              "      <td>0.978052</td>\n",
              "      <td>0.976683</td>\n",
              "      <td>0.978052</td>\n",
              "      <td>0.976683</td>\n",
              "      <td>0.978052</td>\n",
              "      <td>0.976683</td>\n",
              "      <td>0.978052</td>\n",
              "    </tr>\n",
              "    <tr>\n",
              "      <th>2</th>\n",
              "      <td>SVC</td>\n",
              "      <td>0.975061</td>\n",
              "      <td>0.977811</td>\n",
              "      <td>0.975061</td>\n",
              "      <td>0.977811</td>\n",
              "      <td>0.975061</td>\n",
              "      <td>0.977811</td>\n",
              "      <td>0.975061</td>\n",
              "      <td>0.977811</td>\n",
              "    </tr>\n",
              "    <tr>\n",
              "      <th>3</th>\n",
              "      <td>xgb</td>\n",
              "      <td>0.973236</td>\n",
              "      <td>0.973517</td>\n",
              "      <td>0.973236</td>\n",
              "      <td>0.973517</td>\n",
              "      <td>0.973236</td>\n",
              "      <td>0.973517</td>\n",
              "      <td>0.973236</td>\n",
              "      <td>0.973517</td>\n",
              "    </tr>\n",
              "    <tr>\n",
              "      <th>4</th>\n",
              "      <td>RF</td>\n",
              "      <td>0.971614</td>\n",
              "      <td>0.970874</td>\n",
              "      <td>0.971614</td>\n",
              "      <td>0.970874</td>\n",
              "      <td>0.971614</td>\n",
              "      <td>0.970874</td>\n",
              "      <td>0.971614</td>\n",
              "      <td>0.970874</td>\n",
              "    </tr>\n",
              "    <tr>\n",
              "      <th>5</th>\n",
              "      <td>ETC</td>\n",
              "      <td>0.969586</td>\n",
              "      <td>0.969818</td>\n",
              "      <td>0.969586</td>\n",
              "      <td>0.969818</td>\n",
              "      <td>0.969586</td>\n",
              "      <td>0.969818</td>\n",
              "      <td>0.969586</td>\n",
              "      <td>0.969818</td>\n",
              "    </tr>\n",
              "    <tr>\n",
              "      <th>6</th>\n",
              "      <td>AdaBoost</td>\n",
              "      <td>0.964112</td>\n",
              "      <td>0.969446</td>\n",
              "      <td>0.964112</td>\n",
              "      <td>0.969446</td>\n",
              "      <td>0.964112</td>\n",
              "      <td>0.969446</td>\n",
              "      <td>0.964112</td>\n",
              "      <td>0.969446</td>\n",
              "    </tr>\n",
              "    <tr>\n",
              "      <th>7</th>\n",
              "      <td>GBDT</td>\n",
              "      <td>0.965126</td>\n",
              "      <td>0.964945</td>\n",
              "      <td>0.965126</td>\n",
              "      <td>0.964945</td>\n",
              "      <td>0.965126</td>\n",
              "      <td>0.964945</td>\n",
              "      <td>0.965126</td>\n",
              "      <td>0.964945</td>\n",
              "    </tr>\n",
              "    <tr>\n",
              "      <th>8</th>\n",
              "      <td>NB</td>\n",
              "      <td>0.958232</td>\n",
              "      <td>0.962932</td>\n",
              "      <td>0.958232</td>\n",
              "      <td>0.962932</td>\n",
              "      <td>0.958232</td>\n",
              "      <td>0.962932</td>\n",
              "      <td>0.958232</td>\n",
              "      <td>0.962932</td>\n",
              "    </tr>\n",
              "    <tr>\n",
              "      <th>9</th>\n",
              "      <td>DT</td>\n",
              "      <td>0.950324</td>\n",
              "      <td>0.953760</td>\n",
              "      <td>0.950324</td>\n",
              "      <td>0.953760</td>\n",
              "      <td>0.950324</td>\n",
              "      <td>0.953760</td>\n",
              "      <td>0.950324</td>\n",
              "      <td>0.953760</td>\n",
              "    </tr>\n",
              "    <tr>\n",
              "      <th>10</th>\n",
              "      <td>KN</td>\n",
              "      <td>0.948094</td>\n",
              "      <td>0.952143</td>\n",
              "      <td>0.948094</td>\n",
              "      <td>0.952143</td>\n",
              "      <td>0.948094</td>\n",
              "      <td>0.952143</td>\n",
              "      <td>0.948094</td>\n",
              "      <td>0.952143</td>\n",
              "    </tr>\n",
              "  </tbody>\n",
              "</table>\n",
              "</div>"
            ],
            "text/plain": [
              "   Algorithm  Accuracy  Precision  Accuracy_scaling_x  Precision_scaling_x  \\\n",
              "0        BgC  0.972019   0.980827            0.972019             0.980827   \n",
              "1         LR  0.976683   0.978052            0.976683             0.978052   \n",
              "2        SVC  0.975061   0.977811            0.975061             0.977811   \n",
              "3        xgb  0.973236   0.973517            0.973236             0.973517   \n",
              "4         RF  0.971614   0.970874            0.971614             0.970874   \n",
              "5        ETC  0.969586   0.969818            0.969586             0.969818   \n",
              "6   AdaBoost  0.964112   0.969446            0.964112             0.969446   \n",
              "7       GBDT  0.965126   0.964945            0.965126             0.964945   \n",
              "8         NB  0.958232   0.962932            0.958232             0.962932   \n",
              "9         DT  0.950324   0.953760            0.950324             0.953760   \n",
              "10        KN  0.948094   0.952143            0.948094             0.952143   \n",
              "\n",
              "    Accuracy_scaling_y  Precision_scaling_y  Accuracy_num_chars  \\\n",
              "0             0.972019             0.980827            0.972019   \n",
              "1             0.976683             0.978052            0.976683   \n",
              "2             0.975061             0.977811            0.975061   \n",
              "3             0.973236             0.973517            0.973236   \n",
              "4             0.971614             0.970874            0.971614   \n",
              "5             0.969586             0.969818            0.969586   \n",
              "6             0.964112             0.969446            0.964112   \n",
              "7             0.965126             0.964945            0.965126   \n",
              "8             0.958232             0.962932            0.958232   \n",
              "9             0.950324             0.953760            0.950324   \n",
              "10            0.948094             0.952143            0.948094   \n",
              "\n",
              "    Precision_num_chars  \n",
              "0              0.980827  \n",
              "1              0.978052  \n",
              "2              0.977811  \n",
              "3              0.973517  \n",
              "4              0.970874  \n",
              "5              0.969818  \n",
              "6              0.969446  \n",
              "7              0.964945  \n",
              "8              0.962932  \n",
              "9              0.953760  \n",
              "10             0.952143  "
            ]
          },
          "execution_count": 96,
          "metadata": {},
          "output_type": "execute_result"
        }
      ]
    },
    {
      "cell_type": "code",
      "metadata": {
        "id": "430a266c"
      },
      "source": [
        "# Voting Classifier\n",
        "svc = SVC(kernel='sigmoid', gamma=1.0,probability=True)\n",
        "mnb = MultinomialNB()\n",
        "etc = ExtraTreesClassifier(n_estimators=50, random_state=2)\n",
        "\n",
        "from sklearn.ensemble import VotingClassifier"
      ],
      "id": "430a266c",
      "execution_count": null,
      "outputs": []
    },
    {
      "cell_type": "code",
      "metadata": {
        "id": "d1184fb7"
      },
      "source": [
        "voting = VotingClassifier(estimators=[('svm', svc), ('nb', mnb), ('et', etc)],voting='soft')"
      ],
      "id": "d1184fb7",
      "execution_count": null,
      "outputs": []
    },
    {
      "cell_type": "code",
      "metadata": {
        "id": "8b009063",
        "outputId": "0fe48767-a5fe-4619-9157-d64487e9fa7a"
      },
      "source": [
        "voting.fit(X_train,y_train)"
      ],
      "id": "8b009063",
      "execution_count": null,
      "outputs": [
        {
          "data": {
            "text/plain": [
              "VotingClassifier(estimators=[('svm',\n",
              "                              SVC(gamma=1.0, kernel='sigmoid',\n",
              "                                  probability=True)),\n",
              "                             ('nb', MultinomialNB()),\n",
              "                             ('et',\n",
              "                              ExtraTreesClassifier(n_estimators=50,\n",
              "                                                   random_state=2))],\n",
              "                 voting='soft')"
            ]
          },
          "execution_count": 99,
          "metadata": {},
          "output_type": "execute_result"
        }
      ]
    },
    {
      "cell_type": "code",
      "metadata": {
        "id": "74a84dc4",
        "outputId": "caede5ab-23a0-49f9-8630-d2ece8067fcc"
      },
      "source": [
        "y_pred = voting.predict(X_test)\n",
        "print(\"Accuracy\",accuracy_score(y_test,y_pred))\n",
        "print(\"Precision\",precision_score(y_test,y_pred))"
      ],
      "id": "74a84dc4",
      "execution_count": null,
      "outputs": [
        {
          "name": "stdout",
          "output_type": "stream",
          "text": [
            "Accuracy 0.9758718572587186\n",
            "Precision 0.9772195018096658\n"
          ]
        }
      ]
    },
    {
      "cell_type": "code",
      "metadata": {
        "id": "d440ade1"
      },
      "source": [
        "# Applying stacking\n",
        "estimators=[('svm', svc), ('nb', mnb), ('et', etc)]\n",
        "final_estimator=RandomForestClassifier()"
      ],
      "id": "d440ade1",
      "execution_count": null,
      "outputs": []
    },
    {
      "cell_type": "code",
      "metadata": {
        "id": "d6c9200f"
      },
      "source": [
        "from sklearn.ensemble import StackingClassifier"
      ],
      "id": "d6c9200f",
      "execution_count": null,
      "outputs": []
    },
    {
      "cell_type": "code",
      "metadata": {
        "id": "99dd6afd"
      },
      "source": [
        "clf = StackingClassifier(estimators=estimators, final_estimator=final_estimator)"
      ],
      "id": "99dd6afd",
      "execution_count": null,
      "outputs": []
    },
    {
      "cell_type": "code",
      "metadata": {
        "id": "97efd6da",
        "outputId": "49ca0309-87d3-478c-e4cb-fe6311909bf4"
      },
      "source": [
        "clf.fit(X_train,y_train)\n",
        "y_pred = clf.predict(X_test)\n",
        "print(\"Accuracy\",accuracy_score(y_test,y_pred))\n",
        "print(\"Precision\",precision_score(y_test,y_pred))"
      ],
      "id": "97efd6da",
      "execution_count": null,
      "outputs": [
        {
          "name": "stdout",
          "output_type": "stream",
          "text": [
            "Accuracy 0.9778994322789943\n",
            "Precision 0.9846817691477886\n"
          ]
        }
      ]
    },
    {
      "cell_type": "code",
      "metadata": {
        "id": "4cc9c05a"
      },
      "source": [
        "import pickle\n",
        "pickle.dump(tfidf,open('vectorizer.pkl','wb'))\n",
        "pickle.dump(mnb,open('model.pkl','wb'))"
      ],
      "id": "4cc9c05a",
      "execution_count": null,
      "outputs": []
    },
    {
      "cell_type": "code",
      "metadata": {
        "id": "39909ad2"
      },
      "source": [
        ""
      ],
      "id": "39909ad2",
      "execution_count": null,
      "outputs": []
    }
  ]
}