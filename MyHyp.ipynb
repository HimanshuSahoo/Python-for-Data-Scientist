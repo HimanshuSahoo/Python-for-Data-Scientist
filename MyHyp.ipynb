{
  "nbformat": 4,
  "nbformat_minor": 0,
  "metadata": {
    "colab": {
      "name": "MyHyp.ipynb",
      "provenance": [],
      "include_colab_link": true
    },
    "interpreter": {
      "hash": "9e4a1c314daaa25f6faf6530bf244fbcbb111df9f0431852b81c33f7a471c83b"
    },
    "kernelspec": {
      "display_name": "Python 3",
      "language": "python",
      "name": "python3"
    },
    "language_info": {
      "codemirror_mode": {
        "name": "ipython",
        "version": 3
      },
      "file_extension": ".py",
      "mimetype": "text/x-python",
      "name": "python",
      "nbconvert_exporter": "python",
      "pygments_lexer": "ipython3",
      "version": "3.8.5"
    }
  },
  "cells": [
    {
      "cell_type": "markdown",
      "metadata": {
        "id": "view-in-github",
        "colab_type": "text"
      },
      "source": [
        "<a href=\"https://colab.research.google.com/github/HimanshuSahoo/Python-for-Data-Scientist/blob/main/MyHyp.ipynb\" target=\"_parent\"><img src=\"https://colab.research.google.com/assets/colab-badge.svg\" alt=\"Open In Colab\"/></a>"
      ]
    },
    {
      "cell_type": "code",
      "metadata": {
        "id": "YsSAcnK0iThU"
      },
      "source": [
        "import statsmodels.api as sm\n",
        "import scipy.stats as stats\n",
        "import numpy as np\n",
        "import matplotlib.pyplot as plt\n",
        "import seaborn as sns\n",
        "import pandas as pd\n"
      ],
      "execution_count": null,
      "outputs": []
    },
    {
      "cell_type": "code",
      "metadata": {
        "id": "_PpUYmrmiThX"
      },
      "source": [
        "import warnings\n",
        "warnings.filterwarnings('ignore')"
      ],
      "execution_count": null,
      "outputs": []
    },
    {
      "cell_type": "markdown",
      "metadata": {
        "id": "21dyCmY_iThX"
      },
      "source": [
        "## 1. One Population Mean"
      ]
    },
    {
      "cell_type": "markdown",
      "metadata": {
        "id": "fp2MTQRPiThY"
      },
      "source": [
        "### a. Population variance known"
      ]
    },
    {
      "cell_type": "markdown",
      "metadata": {
        "id": "lAqxzpRGiThY"
      },
      "source": [
        "**Research Question**\n",
        "\n",
        "A cartwheeling competition was organized for some adults. The data looks like following,\n",
        "\n",
        "(80.57, 98.96, 85.28, 83.83, 69.94, 89.59, 91.09, 66.25, 91.21, 82.7 , 73.54, 81.99, 54.01, 82.89, 75.88, 98.32, 107.2 , 85.53, 79.08, 84.3 , 89.32, 86.35, 78.98, 92.26, 87.01)\n",
        "\n",
        "Is the average cartwheel distance (in inches) for adults more than 80 inches?\n",
        "\n",
        "**Population:** All adults\n",
        "    \n",
        "**Parameter of Interest:** $\\mu$, population mean cartwheel distance.\n",
        "\n",
        "**Null Hypothesis:** $\\mu$ = 80\n",
        "\n",
        "**Alternative Hypthosis:** $\\mu$ > 80\n",
        "\n",
        "**Data:** 25 adult participants ;\n",
        "$\\mu = 83.84$ ;\n",
        "$\\sigma = 10.72$\n",
        "\n",
        "Note the argument alternative=\"larger\" indicating a one-sided test. The function returns two values - the z-statistic and the corresponding p-value."
      ]
    },
    {
      "cell_type": "code",
      "metadata": {
        "id": "VZOFPuSFiThY"
      },
      "source": [
        "cwdata = np.array([80.57, 98.96, 85.28, 83.83, 69.94, 89.59, 91.09, 66.25, 91.21, 82.7 , 73.54, 81.99, 54.01, \n",
        "                 82.89, 75.88, 98.32, 107.2 , 85.53, 79.08, 84.3 , 89.32, 86.35, 78.98, 92.26, 87.01])"
      ],
      "execution_count": null,
      "outputs": []
    },
    {
      "cell_type": "code",
      "metadata": {
        "colab": {
          "base_uri": "https://localhost:8080/",
          "height": 265
        },
        "id": "3P1bBqkBiThZ",
        "scrolled": true,
        "outputId": "69d5009f-0005-4803-c516-81bd7057fcaa"
      },
      "source": [
        "## We can also plot the histogram of the data \n",
        "## to check if it approximately follows a Normal distribution.\n",
        "sns.distplot(cwdata,bins=5)\n",
        "plt.show()"
      ],
      "execution_count": null,
      "outputs": [
        {
          "data": {
            "image/png": "[encoded data removed]",
            "text/plain": [
              "<Figure size 432x288 with 1 Axes>"
            ]
          },
          "metadata": {
            "needs_background": "light"
          },
          "output_type": "display_data"
        }
      ]
    },
    {
      "cell_type": "code",
      "metadata": {
        "colab": {
          "base_uri": "https://localhost:8080/"
        },
        "id": "1ULShkMViTha",
        "outputId": "68b29a25-24bc-4956-c3a8-d7625897fc27"
      },
      "source": [
        "sm.stats.ztest(cwdata, value = 80, alternative = \"larger\")"
      ],
      "execution_count": null,
      "outputs": [
        {
          "data": {
            "text/plain": [
              "(1.756973189172546, 0.039461189601168366)"
            ]
          },
          "execution_count": 5,
          "metadata": {},
          "output_type": "execute_result"
        }
      ]
    },
    {
      "cell_type": "markdown",
      "metadata": {
        "id": "FmJF3vdkiTha"
      },
      "source": [
        "**Conclusion**\n",
        "\n",
        "Since the p-value (0.0394) is lower than the standard significance level 0.05, we can reject the Null hypothesis that the mean cartwheel distance for adults (a population quantity) is equal to 80 inches. There is strong evidence in support for the alternatine hypothesis that the mean cartwheel distance is, in fact, higher than 80 inches. "
      ]
    },
    {
      "cell_type": "markdown",
      "metadata": {
        "id": "g0SBbFWEiTha"
      },
      "source": [
        "### b. Population variance unknown"
      ]
    },
    {
      "cell_type": "markdown",
      "metadata": {
        "id": "D2vQDkoZiThb"
      },
      "source": [
        "You want to test an American citizen's claim that the average height of an American is 175.3 cm. Measure the heights of ten American males  and use the T-test to determine if the American’s claim is true."
      ]
    },
    {
      "cell_type": "code",
      "metadata": {
        "id": "1Bzj-DFXiThb",
        "outputId": "b684a0de-3d8a-4bee-abe9-2a35636cd923"
      },
      "source": [
        "# 1-sample t-test\n",
        "one_sample_data = [177.3, 182.7, 169.6, 176.3, 180.3, 179.4, 178.5, 177.2, 181.8, 176.5]\n",
        "\n",
        "t_stat, pval = stats.ttest_1samp(one_sample_data, 175.3)\n",
        "\n",
        "print (\"The t-statistic is \", t_stat,\" and the p-value is \",pval)"
      ],
      "execution_count": null,
      "outputs": [
        {
          "name": "stdout",
          "output_type": "stream",
          "text": [
            "The t-statistic is  2.295568968083183  and the p-value is  0.04734137339747034\n"
          ]
        }
      ]
    },
    {
      "cell_type": "markdown",
      "metadata": {
        "id": "NCXrKW_eiThb"
      },
      "source": [
        "Conclusion\n",
        "\n",
        "Since the p-value (0.0473) is lower than the standard significance level 0.05, we can reject the Null hypothesis that the mean height for adults (a population quantity) is equal to 175.3 cms. There is some evidence in support for the alternatine hypothesis that the mean height is, in fact, different from 175.3 cm. \n"
      ]
    },
    {
      "cell_type": "markdown",
      "metadata": {
        "id": "gnxBL-GriThc"
      },
      "source": [
        "## 2. Difference in Population Means"
      ]
    },
    {
      "cell_type": "markdown",
      "metadata": {
        "id": "jxkyD6aqiThc"
      },
      "source": [
        "**Research Question**\n",
        "\n",
        "Considering adults in the NHANES data, do males have a significantly higher mean Body Mass Index than females?\n",
        "\n",
        "**Population:** Adults in the NHANES data.\n",
        "\n",
        "**Parameter of Interest:** $\\mu_1 - \\mu_2$, Body Mass Index.\n",
        "\n",
        "**Null Hypothesis:** $\\mu_1 = \\mu_2$\n",
        "\n",
        "**Alternative Hypthosis:** $\\mu_1 \\neq \\mu_2$\n",
        "\n",
        "**Data:**\n",
        "\n",
        "2976 Females; $\\mu_1 = 29.94$ ;\n",
        "$\\sigma_1 = 7.75$\n",
        "\n",
        "2759 Male Adults;\n",
        "$\\mu_2 = 28.78$;\n",
        "$\\sigma_2 = 6.25$\n",
        "\n",
        "$\\mu_1 - \\mu_2 = 1.16$\n",
        "\n"
      ]
    },
    {
      "cell_type": "code",
      "metadata": {
        "id": "PkcDpsRdiThc",
        "outputId": "0cbc0b17-da4c-4d99-ed9a-e96b1f8a0126"
      },
      "source": [
        "bmi_data = pd.read_csv('bmi_data.csv')\n",
        "bmi_data.head()"
      ],
      "execution_count": null,
      "outputs": [
        {
          "data": {
            "text/html": [
              "<div>\n",
              "<style scoped>\n",
              "    .dataframe tbody tr th:only-of-type {\n",
              "        vertical-align: middle;\n",
              "    }\n",
              "\n",
              "    .dataframe tbody tr th {\n",
              "        vertical-align: top;\n",
              "    }\n",
              "\n",
              "    .dataframe thead th {\n",
              "        text-align: right;\n",
              "    }\n",
              "</style>\n",
              "<table border=\"1\" class=\"dataframe\">\n",
              "  <thead>\n",
              "    <tr style=\"text-align: right;\">\n",
              "      <th></th>\n",
              "      <th>GENDER</th>\n",
              "      <th>BMI</th>\n",
              "    </tr>\n",
              "  </thead>\n",
              "  <tbody>\n",
              "    <tr>\n",
              "      <th>0</th>\n",
              "      <td>1</td>\n",
              "      <td>27.8</td>\n",
              "    </tr>\n",
              "    <tr>\n",
              "      <th>1</th>\n",
              "      <td>1</td>\n",
              "      <td>30.8</td>\n",
              "    </tr>\n",
              "    <tr>\n",
              "      <th>2</th>\n",
              "      <td>1</td>\n",
              "      <td>28.8</td>\n",
              "    </tr>\n",
              "    <tr>\n",
              "      <th>3</th>\n",
              "      <td>2</td>\n",
              "      <td>42.4</td>\n",
              "    </tr>\n",
              "    <tr>\n",
              "      <th>4</th>\n",
              "      <td>2</td>\n",
              "      <td>20.3</td>\n",
              "    </tr>\n",
              "  </tbody>\n",
              "</table>\n",
              "</div>"
            ],
            "text/plain": [
              "   GENDER   BMI\n",
              "0       1  27.8\n",
              "1       1  30.8\n",
              "2       1  28.8\n",
              "3       2  42.4\n",
              "4       2  20.3"
            ]
          },
          "execution_count": 7,
          "metadata": {},
          "output_type": "execute_result"
        }
      ]
    },
    {
      "cell_type": "code",
      "metadata": {
        "id": "CnHsYzTmiThc"
      },
      "source": [
        "females = bmi_data[bmi_data[\"GENDER\"] == 2]\n",
        "males = bmi_data[bmi_data[\"GENDER\"] == 1]"
      ],
      "execution_count": null,
      "outputs": []
    },
    {
      "cell_type": "code",
      "metadata": {
        "id": "1hNlN1fziThe",
        "outputId": "b9a03e1b-da17-4b6f-c291-56b8da83b29d"
      },
      "source": [
        "## Run the test\n",
        "sm.stats.ztest(females[\"BMI\"].dropna(), males[\"BMI\"].dropna(), alternative='two-sided')"
      ],
      "execution_count": null,
      "outputs": [
        {
          "data": {
            "text/plain": [
              "(6.1755933531383205, 6.591544431126401e-10)"
            ]
          },
          "execution_count": 9,
          "metadata": {},
          "output_type": "execute_result"
        }
      ]
    },
    {
      "cell_type": "markdown",
      "metadata": {
        "id": "4DbMHZKUiThf"
      },
      "source": [
        "**Conclusion of the hypothesis test**\n",
        "\n",
        "Since the p-value (6.59e-10) is extremely small, we can reject the Null hypothesis that the mean BMI of males is same as that of females. Note, we used alternative=\"two-sided\" in the z-test because here we are checking for inequality.\n",
        "\n"
      ]
    },
    {
      "cell_type": "markdown",
      "metadata": {
        "id": "sZoGPhjQiThf"
      },
      "source": [
        "## One Population Proportion"
      ]
    },
    {
      "cell_type": "markdown",
      "metadata": {
        "id": "TFi9n5q2iThf"
      },
      "source": [
        "**Research Question**\n",
        "\n",
        "In previous years, 52% of parents believed that electronics and social media was the cause of their teenager’s lack of sleep. Do more parents today believe that their teenager’s lack of sleep is caused due to electronics and social media?\n",
        "\n",
        "**Population:** Parents with a teenager (age 13-18)\n",
        "\n",
        "**Parameter of Interest:** p\n",
        "\n",
        "**Null Hypothesis:** p = 0.52\n",
        "\n",
        "**Alternative Hypthosis:** p > 0.52 (note that this is a one-sided test)\n",
        "\n",
        "**Data:** 1018 people were surveyed. 56% of those who were surveyed believe that their teenager’s lack of sleep is caused due to electronics and social media.\n",
        "\n"
      ]
    },
    {
      "cell_type": "code",
      "metadata": {
        "id": "LWJs_e8aiThg"
      },
      "source": [
        "n = 1018\n",
        "pnull = .52\n",
        "phat = .56"
      ],
      "execution_count": null,
      "outputs": []
    },
    {
      "cell_type": "code",
      "metadata": {
        "id": "W1j3oE7liThg",
        "outputId": "561dead3-5f3a-4ec5-ad60-68521d9e7952"
      },
      "source": [
        "sm.stats.proportions_ztest(phat * n, n, pnull, alternative='larger')"
      ],
      "execution_count": null,
      "outputs": [
        {
          "data": {
            "text/plain": [
              "(2.571067795759113, 0.005069273865860533)"
            ]
          },
          "execution_count": 12,
          "metadata": {},
          "output_type": "execute_result"
        }
      ]
    },
    {
      "cell_type": "markdown",
      "metadata": {
        "id": "_N0EscEYiThg"
      },
      "source": [
        "**Conclusion of the hypothesis test**\n",
        "\n",
        "Since the calculated p-value of the z-test is pretty small, we can reject the Null hypothesis that the percentage of parents, who believe that their teenager’s lack of sleep is caused due to electronics and social media, is as same as previous years' estimate i.e. 52%.\n",
        "\n"
      ]
    },
    {
      "cell_type": "markdown",
      "metadata": {
        "id": "kLb-9I2-iThh"
      },
      "source": [
        "## Difference in Population Proportions"
      ]
    },
    {
      "cell_type": "markdown",
      "metadata": {
        "id": "JD7Qs-OUiThh"
      },
      "source": [
        "**Research Question**\n",
        "\n",
        "Is there a significant difference between the population proportions of parents of black children and parents of Hispanic children who report that their child has had some swimming lessons?\n",
        "\n",
        "**Populations:** All parents of black children age 6-18 and all parents of Hispanic children age 6-18\n",
        "\n",
        "**Parameter of Interest:** p1 - p2, where p1 = black and p2 = hispanic\n",
        "\n",
        "**Null Hypothesis:** p1 - p2 = 0\n",
        "\n",
        "**Alternative Hypthosis:** p1 - p2 $\\neq$ = 0\n",
        "\n",
        "**Data:** 247 Parents of Black Children. 36.8% of parents report that their child has had some swimming lessons.\n",
        "308 Parents of Hispanic Children. 38.9% of parents report that their child has had some swimming lessons.\n",
        "\n"
      ]
    },
    {
      "cell_type": "code",
      "metadata": {
        "id": "Ss8FGZkyiThh"
      },
      "source": [
        "n1 = 247\n",
        "p1 = .37\n",
        "\n",
        "n2 = 308\n",
        "p2 = .39\n",
        "\n",
        "#population1 = np.random.binomial(1, p1, n1)\n",
        "#population2 = np.random.binomial(1, p2, n2)"
      ],
      "execution_count": null,
      "outputs": []
    },
    {
      "cell_type": "code",
      "metadata": {
        "id": "48NpXp8kiThh"
      },
      "source": [
        "#sm.stats.ttest_ind(population1, population2)"
      ],
      "execution_count": null,
      "outputs": []
    },
    {
      "cell_type": "code",
      "metadata": {
        "id": "2OcZjqrSiThh"
      },
      "source": [
        "sample_success_a, sample_size_a = (.37*247, 247)\n",
        "sample_success_b, sample_size_b = (0.39*308, 308)\n",
        "\n",
        "\n",
        "successes = np.array([sample_success_a, sample_success_b])\n",
        "samples = np.array([sample_size_a, sample_size_b])\n"
      ],
      "execution_count": null,
      "outputs": []
    },
    {
      "cell_type": "code",
      "metadata": {
        "id": "eLB-vimLiThi",
        "outputId": "0b74cb12-ee95-40aa-bad9-61ce6d2a885d"
      },
      "source": [
        "samples"
      ],
      "execution_count": null,
      "outputs": [
        {
          "data": {
            "text/plain": [
              "array([247, 308])"
            ]
          },
          "execution_count": 16,
          "metadata": {},
          "output_type": "execute_result"
        }
      ]
    },
    {
      "cell_type": "code",
      "metadata": {
        "id": "d0zbzeZOiThi"
      },
      "source": [
        "stat, p_value = sm.stats.proportions_ztest(count=successes, nobs=samples, alternative='two-sided')"
      ],
      "execution_count": null,
      "outputs": []
    },
    {
      "cell_type": "code",
      "metadata": {
        "id": "WueGL0f7iThi",
        "outputId": "b6704ed1-77e6-4ba0-e360-68eefe92f41f"
      },
      "source": [
        "stat, p_value"
      ],
      "execution_count": null,
      "outputs": [
        {
          "data": {
            "text/plain": [
              "(-0.4821451700126961, 0.6297028238097944)"
            ]
          },
          "execution_count": 18,
          "metadata": {},
          "output_type": "execute_result"
        }
      ]
    },
    {
      "cell_type": "markdown",
      "metadata": {
        "id": "7-BNUWpBiThi"
      },
      "source": [
        "**Conclusion of the hypothesis test**\n",
        "\n",
        "Since the p-value is quite high ~0.629, we cannot reject the Null hypothesis in this case i.e. the difference in the population proportions are not statistically significant.\n",
        "\n"
      ]
    },
    {
      "cell_type": "markdown",
      "metadata": {
        "id": "0J1jihnMiThj"
      },
      "source": [
        "## ANOVA"
      ]
    },
    {
      "cell_type": "code",
      "metadata": {
        "id": "tuO4xs8oiThj"
      },
      "source": [
        "df = pd.read_csv('diet.csv')"
      ],
      "execution_count": null,
      "outputs": []
    },
    {
      "cell_type": "code",
      "metadata": {
        "id": "gMuClpbMiThj",
        "outputId": "26b518b5-365e-4c0d-c64c-59ca897eb4be"
      },
      "source": [
        "df"
      ],
      "execution_count": null,
      "outputs": [
        {
          "data": {
            "text/html": [
              "<div>\n",
              "<style scoped>\n",
              "    .dataframe tbody tr th:only-of-type {\n",
              "        vertical-align: middle;\n",
              "    }\n",
              "\n",
              "    .dataframe tbody tr th {\n",
              "        vertical-align: top;\n",
              "    }\n",
              "\n",
              "    .dataframe thead th {\n",
              "        text-align: right;\n",
              "    }\n",
              "</style>\n",
              "<table border=\"1\" class=\"dataframe\">\n",
              "  <thead>\n",
              "    <tr style=\"text-align: right;\">\n",
              "      <th></th>\n",
              "      <th>Atkins</th>\n",
              "      <th>GM</th>\n",
              "      <th>South Beach</th>\n",
              "    </tr>\n",
              "  </thead>\n",
              "  <tbody>\n",
              "    <tr>\n",
              "      <th>0</th>\n",
              "      <td>6</td>\n",
              "      <td>4</td>\n",
              "      <td>6</td>\n",
              "    </tr>\n",
              "    <tr>\n",
              "      <th>1</th>\n",
              "      <td>2</td>\n",
              "      <td>4</td>\n",
              "      <td>7</td>\n",
              "    </tr>\n",
              "    <tr>\n",
              "      <th>2</th>\n",
              "      <td>3</td>\n",
              "      <td>5</td>\n",
              "      <td>5</td>\n",
              "    </tr>\n",
              "    <tr>\n",
              "      <th>3</th>\n",
              "      <td>4</td>\n",
              "      <td>7</td>\n",
              "      <td>6</td>\n",
              "    </tr>\n",
              "    <tr>\n",
              "      <th>4</th>\n",
              "      <td>2</td>\n",
              "      <td>8</td>\n",
              "      <td>8</td>\n",
              "    </tr>\n",
              "    <tr>\n",
              "      <th>5</th>\n",
              "      <td>3</td>\n",
              "      <td>5</td>\n",
              "      <td>7</td>\n",
              "    </tr>\n",
              "    <tr>\n",
              "      <th>6</th>\n",
              "      <td>3</td>\n",
              "      <td>3</td>\n",
              "      <td>8</td>\n",
              "    </tr>\n",
              "    <tr>\n",
              "      <th>7</th>\n",
              "      <td>2</td>\n",
              "      <td>7</td>\n",
              "      <td>9</td>\n",
              "    </tr>\n",
              "    <tr>\n",
              "      <th>8</th>\n",
              "      <td>7</td>\n",
              "      <td>10</td>\n",
              "      <td>6</td>\n",
              "    </tr>\n",
              "    <tr>\n",
              "      <th>9</th>\n",
              "      <td>8</td>\n",
              "      <td>4</td>\n",
              "      <td>5</td>\n",
              "    </tr>\n",
              "    <tr>\n",
              "      <th>10</th>\n",
              "      <td>10</td>\n",
              "      <td>5</td>\n",
              "      <td>5</td>\n",
              "    </tr>\n",
              "    <tr>\n",
              "      <th>11</th>\n",
              "      <td>4</td>\n",
              "      <td>2</td>\n",
              "      <td>12</td>\n",
              "    </tr>\n",
              "  </tbody>\n",
              "</table>\n",
              "</div>"
            ],
            "text/plain": [
              "    Atkins  GM  South Beach\n",
              "0        6   4            6\n",
              "1        2   4            7\n",
              "2        3   5            5\n",
              "3        4   7            6\n",
              "4        2   8            8\n",
              "5        3   5            7\n",
              "6        3   3            8\n",
              "7        2   7            9\n",
              "8        7  10            6\n",
              "9        8   4            5\n",
              "10      10   5            5\n",
              "11       4   2           12"
            ]
          },
          "execution_count": 20,
          "metadata": {},
          "output_type": "execute_result"
        }
      ]
    },
    {
      "cell_type": "code",
      "metadata": {
        "id": "MbARrXpoiThj",
        "outputId": "79464e66-52c4-4fb3-cdbd-ce6e3e5ce020"
      },
      "source": [
        "stats.f_oneway(df.iloc[:,0], df.iloc[:,1],df.iloc[:,2])\n"
      ],
      "execution_count": null,
      "outputs": [
        {
          "data": {
            "text/plain": [
              "F_onewayResult(statistic=3.5714285714285716, pvalue=0.039440588798258305)"
            ]
          },
          "execution_count": 21,
          "metadata": {},
          "output_type": "execute_result"
        }
      ]
    },
    {
      "cell_type": "markdown",
      "metadata": {
        "id": "_5HHgS5aiThj"
      },
      "source": [
        "Conclusion\n",
        "\n",
        "Since the p-value (.03944) is less than 0.05, we reject the null hypothesis. This means we can say that there is significant difference in the effects produced by the different diets."
      ]
    },
    {
      "cell_type": "markdown",
      "metadata": {
        "id": "NPpBtWWqiThk"
      },
      "source": [
        "## Chi Square - Goodness of Fit"
      ]
    },
    {
      "cell_type": "markdown",
      "metadata": {
        "id": "oontWSfgiThk"
      },
      "source": [
        "A shop owner claims that an equal number of customers come into his shop each weekday. To test this hypothesis, a researcher records the number of customers that come into the shop in a given week and finds the following:\n",
        "\n",
        "Monday: 50 customers\n",
        "Tuesday: 60 customers\n",
        "Wednesday: 40 customers\n",
        "Thursday: 47 customers\n",
        "Friday: 53 customers\n",
        "\n",
        "We will use **chisquare(f_obs, f_exp)** for the test\n"
      ]
    },
    {
      "cell_type": "code",
      "metadata": {
        "id": "3_gn489kiThk"
      },
      "source": [
        "expected = [50, 50, 50, 50, 50]\n",
        "observed = [50, 60, 40, 47, 53]"
      ],
      "execution_count": null,
      "outputs": []
    },
    {
      "cell_type": "code",
      "metadata": {
        "id": "Wn6b3BCIiThk",
        "outputId": "4d6bb657-f79c-4e54-fdc2-7fe2ddc2d008"
      },
      "source": [
        "stats.chisquare(f_obs=observed, f_exp=expected)"
      ],
      "execution_count": null,
      "outputs": [
        {
          "data": {
            "text/plain": [
              "Power_divergenceResult(statistic=4.359999999999999, pvalue=0.3594720674366307)"
            ]
          },
          "execution_count": 23,
          "metadata": {},
          "output_type": "execute_result"
        }
      ]
    },
    {
      "cell_type": "markdown",
      "metadata": {
        "id": "KIQufxoxiThl"
      },
      "source": [
        "**Conclusion**\n",
        "\n",
        "Since the p-value (.35947) is not less than 0.05, we fail to reject the null hypothesis. This means we do not have sufficient evidence to say that the true distribution of customers is different from the distribution that the shop owner claimed.\n",
        "\n"
      ]
    },
    {
      "cell_type": "markdown",
      "metadata": {
        "id": "5T5V8hOyiThl"
      },
      "source": [
        "## Chi Square - Test of Independence"
      ]
    },
    {
      "cell_type": "markdown",
      "metadata": {
        "id": "e0hCfqOoiThl"
      },
      "source": [
        "Does interest in a specific subject depend on gender\n",
        "H0 - Independent ; Ha: Dependent"
      ]
    },
    {
      "cell_type": "markdown",
      "metadata": {
        "id": "YYQsq60jiThl"
      },
      "source": [
        "        Science,\tMath,\tArt\n",
        "Male         20,      30,    15\n",
        "Female       20,      15,    30"
      ]
    },
    {
      "cell_type": "code",
      "metadata": {
        "id": "7UEmHhu_iThl"
      },
      "source": [
        "# chi-squared test \n",
        "from scipy.stats import chi2_contingency"
      ],
      "execution_count": null,
      "outputs": []
    },
    {
      "cell_type": "code",
      "metadata": {
        "id": "ncA8U7KliThl",
        "outputId": "90565613-cef7-4c0d-f246-9e1730eeb1b1"
      },
      "source": [
        "# contingency table\n",
        "table = [[10, 20, 30],\n",
        "[6,  9,  17]]\n",
        "print(table)"
      ],
      "execution_count": null,
      "outputs": [
        {
          "name": "stdout",
          "output_type": "stream",
          "text": [
            "[[10, 20, 30], [6, 9, 17]]\n"
          ]
        }
      ]
    },
    {
      "cell_type": "code",
      "metadata": {
        "id": "CLZPBYQ8iThm",
        "outputId": "0fea997f-c504-498e-b80a-585ec6093b01"
      },
      "source": [
        "stat, p, dof, expected = chi2_contingency(table)\n",
        "print('dof=%d' % dof)\n",
        "print(p)"
      ],
      "execution_count": null,
      "outputs": [
        {
          "name": "stdout",
          "output_type": "stream",
          "text": [
            "dof=2\n",
            "0.873028283380073\n"
          ]
        }
      ]
    },
    {
      "cell_type": "code",
      "metadata": {
        "id": "4KffijlziThm",
        "outputId": "b49d7a31-ec48-4a27-9077-32517b2e1877"
      },
      "source": [
        "# interpret p-value\n",
        "alpha = 0.05\n",
        "print('significance=%.3f, p=%.3f' % (alpha, p))\n",
        "if p <= alpha:\n",
        "    print('Dependent (reject H0)')\n",
        "else:\n",
        "    print('Independent (fail to reject H0)')"
      ],
      "execution_count": null,
      "outputs": [
        {
          "name": "stdout",
          "output_type": "stream",
          "text": [
            "significance=0.050, p=0.873\n",
            "Independent (fail to reject H0)\n"
          ]
        }
      ]
    }
  ]
}