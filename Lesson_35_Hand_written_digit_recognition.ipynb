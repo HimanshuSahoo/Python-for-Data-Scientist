{
  "nbformat": 4,
  "nbformat_minor": 5,
  "metadata": {
    "kernelspec": {
      "display_name": "Python 3",
      "language": "python",
      "name": "python3"
    },
    "language_info": {
      "codemirror_mode": {
        "name": "ipython",
        "version": 3
      },
      "file_extension": ".py",
      "mimetype": "text/x-python",
      "name": "python",
      "nbconvert_exporter": "python",
      "pygments_lexer": "ipython3",
      "version": "3.8.8"
    },
    "toc": {
      "base_numbering": 1,
      "nav_menu": {},
      "number_sections": true,
      "sideBar": true,
      "skip_h1_title": false,
      "title_cell": "Table of Contents",
      "title_sidebar": "Contents",
      "toc_cell": false,
      "toc_position": {},
      "toc_section_display": true,
      "toc_window_display": false
    },
    "varInspector": {
      "cols": {
        "lenName": 16,
        "lenType": 16,
        "lenVar": 40
      },
      "kernels_config": {
        "python": {
          "delete_cmd_postfix": "",
          "delete_cmd_prefix": "del ",
          "library": "var_list.py",
          "varRefreshCmd": "print(var_dic_list())"
        },
        "r": {
          "delete_cmd_postfix": ") ",
          "delete_cmd_prefix": "rm(",
          "library": "var_list.r",
          "varRefreshCmd": "cat(var_dic_list()) "
        }
      },
      "types_to_exclude": [
        "module",
        "function",
        "builtin_function_or_method",
        "instance",
        "_Feature"
      ],
      "window_display": false
    },
    "colab": {
      "name": "Lesson 35_Hand written digit recognition.ipynb",
      "provenance": [],
      "include_colab_link": true
    }
  },
  "cells": [
    {
      "cell_type": "markdown",
      "metadata": {
        "id": "view-in-github",
        "colab_type": "text"
      },
      "source": [
        "<a href=\"https://colab.research.google.com/github/HimanshuSahoo/Python-for-Data-Scientist/blob/main/Lesson_35_Hand_written_digit_recognition.ipynb\" target=\"_parent\"><img src=\"https://colab.research.google.com/assets/colab-badge.svg\" alt=\"Open In Colab\"/></a>"
      ]
    },
    {
      "cell_type": "code",
      "metadata": {
        "id": "39ec6a15"
      },
      "source": [
        "import keras\n",
        "import numpy\n",
        "import keras.models"
      ],
      "id": "39ec6a15",
      "execution_count": null,
      "outputs": []
    },
    {
      "cell_type": "code",
      "metadata": {
        "id": "2b5097cb"
      },
      "source": [
        "from keras.datasets import mnist\n",
        "from keras.models import sequential\n",
        "from keras.layers import Dense, Dropout, Flatten\n",
        "from keras.layers import Conv2D, MaxPooling2D\n",
        "from keras import backend  as K\n",
        "from keras.models import Sequential"
      ],
      "id": "2b5097cb",
      "execution_count": null,
      "outputs": []
    },
    {
      "cell_type": "code",
      "metadata": {
        "id": "8f6aa052"
      },
      "source": [
        "import logging, os\n",
        "logging.basicConfig(level=logging.INFO)"
      ],
      "id": "8f6aa052",
      "execution_count": null,
      "outputs": []
    },
    {
      "cell_type": "code",
      "metadata": {
        "id": "e91da3d6",
        "outputId": "c370242e-df7d-4e6c-82f9-91a8f52b3853"
      },
      "source": [
        "(x_train, y_train), (x_test, y_test) = mnist.load_data()\n",
        "print(x_train.shape, y_train.shape)"
      ],
      "id": "e91da3d6",
      "execution_count": null,
      "outputs": [
        {
          "name": "stdout",
          "output_type": "stream",
          "text": [
            "(60000, 28, 28) (60000,)\n"
          ]
        }
      ]
    },
    {
      "cell_type": "code",
      "metadata": {
        "id": "8562e76b"
      },
      "source": [
        "from keras import utils as np_utils"
      ],
      "id": "8562e76b",
      "execution_count": null,
      "outputs": []
    },
    {
      "cell_type": "code",
      "metadata": {
        "id": "0e733716",
        "outputId": "7a8b7f5e-0f16-4067-efb8-bed3d5551391"
      },
      "source": [
        "x_train=x_train.reshape(x_train.shape[0], 28, 28, 1)\n",
        "x_test=x_test.reshape(x_test.shape[0], 28, 28, 1)\n",
        "\n",
        "num_classes=10\n",
        "input_shape = (28,28,1)\n",
        "\n",
        "y_train=keras.utils.np_utils.to_categorical(y_train, num_classes)\n",
        "y_test=keras.utils.np_utils.to_categorical(y_test, num_classes)\n",
        "x_train=x_train.astype('float32')\n",
        "x_test=x_test.astype('float32')\n",
        "\n",
        "x_train/=255\n",
        "x_test/=255\n",
        "\n",
        "print('X train shape:', x_train.shape)\n",
        "print(x_train.shape[0], 'train samples')\n",
        "print(x_test.shape[0], 'test samples')"
      ],
      "id": "0e733716",
      "execution_count": null,
      "outputs": [
        {
          "name": "stdout",
          "output_type": "stream",
          "text": [
            "X train shape: (60000, 28, 28, 1)\n",
            "60000 train samples\n",
            "10000 test samples\n"
          ]
        }
      ]
    },
    {
      "cell_type": "code",
      "metadata": {
        "id": "03f37a10"
      },
      "source": [
        "batch_size = 128\n",
        "num_classes = 10\n",
        "epochs = 10\n",
        "model = Sequential()\n",
        "model.add(Conv2D(32, kernel_size=(3,3),activation = 'relu', input_shape = input_shape))\n",
        "model.add(MaxPooling2D(pool_size=(2,2)))\n",
        "model.add(Dropout(0.25))\n",
        "model.add(Flatten())\n",
        "model.add(Dense(256,activation = 'relu'))\n",
        "model.add(Dropout(0.5))\n",
        "model.add(Dense(num_classes, activation = 'softmax'))\n",
        "model.compile(loss=keras.losses.categorical_crossentropy, metrics=['accuracy'])\n",
        "## after categorical_crossentropy optimizer = keras.optimizers.Adadelta(), to be added which is giving error\n"
      ],
      "id": "03f37a10",
      "execution_count": null,
      "outputs": []
    },
    {
      "cell_type": "code",
      "metadata": {
        "id": "5a7517b0",
        "outputId": "980de1e7-cbaa-4b45-e28d-58db2b946dbb"
      },
      "source": [
        "hist = model.fit(x_train, y_train, batch_size=batch_size, epochs=epochs, verbose = 1, validation_data=(x_test, y_test))\n",
        "print(\"The model has successfully trained\")\n",
        "model.save('mnist.h5')\n",
        "print(\"saving the model as mnist.h5\")"
      ],
      "id": "5a7517b0",
      "execution_count": null,
      "outputs": [
        {
          "name": "stdout",
          "output_type": "stream",
          "text": [
            "Epoch 1/10\n",
            "469/469 [==============================] - 25s 53ms/step - loss: 0.2481 - accuracy: 0.9249 - val_loss: 0.0774 - val_accuracy: 0.9758\n",
            "Epoch 2/10\n",
            "469/469 [==============================] - 28s 59ms/step - loss: 0.0956 - accuracy: 0.9718 - val_loss: 0.0544 - val_accuracy: 0.9816\n",
            "Epoch 3/10\n",
            "469/469 [==============================] - 28s 59ms/step - loss: 0.0718 - accuracy: 0.9783 - val_loss: 0.0467 - val_accuracy: 0.9846\n",
            "Epoch 4/10\n",
            "469/469 [==============================] - 28s 59ms/step - loss: 0.0606 - accuracy: 0.9814 - val_loss: 0.0454 - val_accuracy: 0.9853\n",
            "Epoch 5/10\n",
            "469/469 [==============================] - 28s 59ms/step - loss: 0.0527 - accuracy: 0.9845 - val_loss: 0.0453 - val_accuracy: 0.9855\n",
            "Epoch 6/10\n",
            "469/469 [==============================] - 27s 59ms/step - loss: 0.0482 - accuracy: 0.9856 - val_loss: 0.0402 - val_accuracy: 0.9860\n",
            "Epoch 7/10\n",
            "469/469 [==============================] - 28s 59ms/step - loss: 0.0449 - accuracy: 0.9867 - val_loss: 0.0381 - val_accuracy: 0.9878\n",
            "Epoch 8/10\n",
            "469/469 [==============================] - 29s 62ms/step - loss: 0.0429 - accuracy: 0.9866 - val_loss: 0.0379 - val_accuracy: 0.9879\n",
            "Epoch 9/10\n",
            "469/469 [==============================] - 26s 55ms/step - loss: 0.0400 - accuracy: 0.9883 - val_loss: 0.0408 - val_accuracy: 0.9875\n",
            "Epoch 10/10\n",
            "469/469 [==============================] - 28s 60ms/step - loss: 0.0386 - accuracy: 0.9883 - val_loss: 0.0364 - val_accuracy: 0.9881\n",
            "The model has successfully trained\n",
            "saving the model as mnist.h5\n"
          ]
        }
      ]
    },
    {
      "cell_type": "code",
      "metadata": {
        "id": "b8daca15",
        "outputId": "06816374-fe70-40a0-cdd4-426c96b6b384"
      },
      "source": [
        "score = model.evaluate(x_test, y_test, verbose=0)\n",
        "print('test loss:', score[0])\n",
        "print('test accuracy:', score[1])"
      ],
      "id": "b8daca15",
      "execution_count": null,
      "outputs": [
        {
          "name": "stdout",
          "output_type": "stream",
          "text": [
            "test loss: 0.036420661956071854\n",
            "test accuracy: 0.988099992275238\n"
          ]
        }
      ]
    },
    {
      "cell_type": "code",
      "metadata": {
        "id": "cf95db9e"
      },
      "source": [
        "import warnings\n",
        "warnings.filterwarnings('ignore')"
      ],
      "id": "cf95db9e",
      "execution_count": null,
      "outputs": []
    },
    {
      "cell_type": "code",
      "metadata": {
        "id": "bec26f59"
      },
      "source": [
        "from keras.models import load_model\n",
        "from tkinter import *\n",
        "import tkinter as tk\n",
        "import win32gui\n",
        "from PIL import ImageGrab , Image\n",
        "\n",
        "model = load_model('mnist.h5')\n",
        "\n",
        "def predict_digit(img):\n",
        "    img=img.resize((28,28))\n",
        "    img=img.conver('L')\n",
        "    img=np.array(img)\n",
        "    img=img.reshape(1,28,28,1)\n",
        "    img=img/255\n",
        "    res=model.predict([img])[0]\n",
        "    return np.argmax(res), max(res)\n",
        "class App(tk.Tk):\n",
        "    def __init__(self):\n",
        "        tk.Tk.__init__(self)\n",
        "        self.x=self.y=0\n",
        "        \n",
        "        self.canvas=tk.Canvas(self,width=300,height=300,bg=\"white\",cursor=\"cross\")\n",
        "        self.label=tk.Label(self,text=\"Thinking..\", font=(\"Helvetica\",48))\n",
        "        self.classify_btn=tk.Button(self,text=\"Recognise\", command=self.classify_handwriting)\n",
        "        self.button_clear = tk.Button(self, text=\"Clear\", command=self.clear_all)\n",
        "        \n",
        "        self.canvas.grid(row=0, column=0, pady=2, sticky=W,)\n",
        "        self.label.grid(row=0, column=1, pady=2, padx=2)\n",
        "        self.classify_btn.grid(row=1, column=1, pady=2, padx=2)\n",
        "        self.button_clear.grid(row=1, column=0, pady=2)\n",
        "        \n",
        "        self.canvas.bind(\"<B1-Motion>\",self.draw_lines)\n",
        "    \n",
        "    def clear_all(self):\n",
        "        self.canvas.delete(\"all\")\n",
        "    \n",
        "    def classify_handwriting(self):\n",
        "        HWND = self.canvas.winfo_id()\n",
        "        rect = win32gui.GetWindowRect(HWND)\n",
        "        im = ImageGrab.grab(rect)\n",
        "        \n",
        "        digit,acc = predict_digit(im)\n",
        "        self.label.configure(text=str(digit)+', '+str(int(acc*100))+'%')\n",
        "        \n",
        "    def draw_lines(self, event):\n",
        "        self.x = event.x\n",
        "        self.y = event.y\n",
        "        r=8\n",
        "        self.canvas.create_oval(self.x-r, self.y-r, self.x+r, self.y+r, fill = black)\n",
        "        \n",
        "app = App()\n",
        "mainloop()\n"
      ],
      "id": "bec26f59",
      "execution_count": null,
      "outputs": []
    },
    {
      "cell_type": "code",
      "metadata": {
        "id": "18aacdb4"
      },
      "source": [
        ""
      ],
      "id": "18aacdb4",
      "execution_count": null,
      "outputs": []
    },
    {
      "cell_type": "code",
      "metadata": {
        "id": "385761c8"
      },
      "source": [
        ""
      ],
      "id": "385761c8",
      "execution_count": null,
      "outputs": []
    },
    {
      "cell_type": "code",
      "metadata": {
        "id": "88c1297f"
      },
      "source": [
        ""
      ],
      "id": "88c1297f",
      "execution_count": null,
      "outputs": []
    }
  ]
}