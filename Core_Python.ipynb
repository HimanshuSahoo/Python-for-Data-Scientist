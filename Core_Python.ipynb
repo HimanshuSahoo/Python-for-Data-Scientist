{
  "nbformat": 4,
  "nbformat_minor": 0,
  "metadata": {
    "colab": {
      "name": "Core_Python.ipynb",
      "provenance": [],
      "collapsed_sections": [],
      "include_colab_link": true
    },
    "kernelspec": {
      "display_name": "Python 3",
      "language": "python",
      "name": "python3"
    },
    "language_info": {
      "codemirror_mode": {
        "name": "ipython",
        "version": 3
      },
      "file_extension": ".py",
      "mimetype": "text/x-python",
      "name": "python",
      "nbconvert_exporter": "python",
      "pygments_lexer": "ipython3",
      "version": "3.8.8"
    },
    "toc": {
      "base_numbering": 1,
      "nav_menu": {},
      "number_sections": true,
      "sideBar": true,
      "skip_h1_title": false,
      "title_cell": "Table of Contents",
      "title_sidebar": "Contents",
      "toc_cell": false,
      "toc_position": {},
      "toc_section_display": true,
      "toc_window_display": false
    },
    "varInspector": {
      "cols": {
        "lenName": 16,
        "lenType": 16,
        "lenVar": 40
      },
      "kernels_config": {
        "python": {
          "delete_cmd_postfix": "",
          "delete_cmd_prefix": "del ",
          "library": "var_list.py",
          "varRefreshCmd": "print(var_dic_list())"
        },
        "r": {
          "delete_cmd_postfix": ") ",
          "delete_cmd_prefix": "rm(",
          "library": "var_list.r",
          "varRefreshCmd": "cat(var_dic_list()) "
        }
      },
      "types_to_exclude": [
        "module",
        "function",
        "builtin_function_or_method",
        "instance",
        "_Feature"
      ],
      "window_display": false
    }
  },
  "cells": [
    {
      "cell_type": "markdown",
      "metadata": {
        "id": "view-in-github",
        "colab_type": "text"
      },
      "source": [
        "<a href=\"https://colab.research.google.com/github/HimanshuSahoo/Python-for-Data-Scientist/blob/main/Core_Python.ipynb\" target=\"_parent\"><img src=\"https://colab.research.google.com/assets/colab-badge.svg\" alt=\"Open In Colab\"/></a>"
      ]
    },
    {
      "cell_type": "markdown",
      "metadata": {
        "id": "NoVWFMcJuUUg"
      },
      "source": [
        "# Language Basics"
      ]
    },
    {
      "cell_type": "markdown",
      "metadata": {
        "id": "TKWBnju_uUUj"
      },
      "source": [
        "## Variables"
      ]
    },
    {
      "cell_type": "markdown",
      "metadata": {
        "id": "snrCrCV2uUUj"
      },
      "source": [
        "Variables are containers for holding data. They have a name and value.\n",
        "\n",
        "![image.png](attachment:image.png)"
      ]
    },
    {
      "cell_type": "markdown",
      "metadata": {
        "id": "XjpBtF5GuUUk"
      },
      "source": [
        "### Assigning Values to a variable"
      ]
    },
    {
      "cell_type": "code",
      "metadata": {
        "id": "vLD7c6cXuUUk"
      },
      "source": [
        "price_shoes = 200"
      ],
      "execution_count": 1,
      "outputs": []
    },
    {
      "cell_type": "code",
      "metadata": {
        "id": "0rGachFnuUUk",
        "colab": {
          "base_uri": "https://localhost:8080/"
        },
        "outputId": "4fdfb60f-839b-4782-9bc6-ba1d32685519"
      },
      "source": [
        "print(price_shoes)"
      ],
      "execution_count": 2,
      "outputs": [
        {
          "output_type": "stream",
          "name": "stdout",
          "text": [
            "200\n"
          ]
        }
      ]
    },
    {
      "cell_type": "markdown",
      "metadata": {
        "id": "lvuvP03VuUUl"
      },
      "source": [
        "# price_shoes"
      ]
    },
    {
      "cell_type": "code",
      "metadata": {
        "id": "6tjSnLoMuUUm"
      },
      "source": [
        "discount = 0.20"
      ],
      "execution_count": 3,
      "outputs": []
    },
    {
      "cell_type": "code",
      "metadata": {
        "id": "4Llh42PFuUUm",
        "colab": {
          "base_uri": "https://localhost:8080/"
        },
        "outputId": "45c279ac-aec4-408c-d5d9-61dad39d3f81"
      },
      "source": [
        "net_price = price_shoes - (discount * price_shoes)\n",
        "net_price"
      ],
      "execution_count": 4,
      "outputs": [
        {
          "output_type": "execute_result",
          "data": {
            "text/plain": [
              "160.0"
            ]
          },
          "metadata": {},
          "execution_count": 4
        }
      ]
    },
    {
      "cell_type": "markdown",
      "metadata": {
        "id": "MHN8ISP0uUUn"
      },
      "source": [
        "# Data Types in Python"
      ]
    },
    {
      "cell_type": "markdown",
      "metadata": {
        "id": "18Qgws-PuUUn"
      },
      "source": [
        "Python supports dynamic typing"
      ]
    },
    {
      "cell_type": "code",
      "metadata": {
        "id": "oIDqjgmsuUUn",
        "colab": {
          "base_uri": "https://localhost:8080/"
        },
        "outputId": "cc978d47-6347-4a3b-c18d-61a746ff95ea"
      },
      "source": [
        "# Integer\n",
        "x = 5\n",
        "print(x)"
      ],
      "execution_count": 5,
      "outputs": [
        {
          "output_type": "stream",
          "name": "stdout",
          "text": [
            "5\n"
          ]
        }
      ]
    },
    {
      "cell_type": "code",
      "metadata": {
        "id": "YjiIfkPhuUUo",
        "colab": {
          "base_uri": "https://localhost:8080/"
        },
        "outputId": "323a7258-a3d1-488b-fe0c-afe4a1b3e2bf"
      },
      "source": [
        "print(type(x))"
      ],
      "execution_count": 6,
      "outputs": [
        {
          "output_type": "stream",
          "name": "stdout",
          "text": [
            "<class 'int'>\n"
          ]
        }
      ]
    },
    {
      "cell_type": "code",
      "metadata": {
        "id": "Qa647i8buUUo",
        "colab": {
          "base_uri": "https://localhost:8080/"
        },
        "outputId": "71e98019-af60-4d21-c9b5-c17f71067cef"
      },
      "source": [
        "# Float \n",
        "x = 1.2\n",
        "type(x)"
      ],
      "execution_count": 7,
      "outputs": [
        {
          "output_type": "execute_result",
          "data": {
            "text/plain": [
              "float"
            ]
          },
          "metadata": {},
          "execution_count": 7
        }
      ]
    },
    {
      "cell_type": "code",
      "metadata": {
        "id": "gkYJfm7AuUUo",
        "colab": {
          "base_uri": "https://localhost:8080/"
        },
        "outputId": "286eafeb-52a1-4b18-e387-44e86b5ccf86"
      },
      "source": [
        "# String\n",
        "x = 'abc'\n",
        "type(x)"
      ],
      "execution_count": 8,
      "outputs": [
        {
          "output_type": "execute_result",
          "data": {
            "text/plain": [
              "str"
            ]
          },
          "metadata": {},
          "execution_count": 8
        }
      ]
    },
    {
      "cell_type": "code",
      "metadata": {
        "id": "yDVPXJ37uUUo",
        "colab": {
          "base_uri": "https://localhost:8080/"
        },
        "outputId": "e1ebb433-2818-4b01-e9cf-702ebcd16cee"
      },
      "source": [
        "x = True\n",
        "type(x)"
      ],
      "execution_count": 9,
      "outputs": [
        {
          "output_type": "execute_result",
          "data": {
            "text/plain": [
              "bool"
            ]
          },
          "metadata": {},
          "execution_count": 9
        }
      ]
    },
    {
      "cell_type": "code",
      "metadata": {
        "id": "jsc9KoCouUUp",
        "colab": {
          "base_uri": "https://localhost:8080/"
        },
        "outputId": "a1abb313-0830-49e0-9552-9888a3c7e5f8"
      },
      "source": [
        "y = False\n",
        "type(y)"
      ],
      "execution_count": 10,
      "outputs": [
        {
          "output_type": "execute_result",
          "data": {
            "text/plain": [
              "bool"
            ]
          },
          "metadata": {},
          "execution_count": 10
        }
      ]
    },
    {
      "cell_type": "code",
      "metadata": {
        "id": "o6dC8dTQuUUp"
      },
      "source": [
        "# Multiline strings\n",
        "my_str = '''This is\n",
        "a multiline\n",
        "string'''"
      ],
      "execution_count": 11,
      "outputs": []
    },
    {
      "cell_type": "code",
      "metadata": {
        "id": "EqLrz7Q-uUUp",
        "colab": {
          "base_uri": "https://localhost:8080/"
        },
        "outputId": "5ea00098-f30b-4bb1-b891-8545a4383e79"
      },
      "source": [
        "print(my_str)"
      ],
      "execution_count": 12,
      "outputs": [
        {
          "output_type": "stream",
          "name": "stdout",
          "text": [
            "This is\n",
            "a multiline\n",
            "string\n"
          ]
        }
      ]
    },
    {
      "cell_type": "code",
      "metadata": {
        "id": "fqAN4fY6uUUp",
        "colab": {
          "base_uri": "https://localhost:8080/",
          "height": 35
        },
        "outputId": "b1f8fdc7-d8ef-4323-e7af-574b15f04712"
      },
      "source": [
        "my_str"
      ],
      "execution_count": 13,
      "outputs": [
        {
          "output_type": "execute_result",
          "data": {
            "application/vnd.google.colaboratory.intrinsic+json": {
              "type": "string"
            },
            "text/plain": [
              "'This is\\na multiline\\nstring'"
            ]
          },
          "metadata": {},
          "execution_count": 13
        }
      ]
    },
    {
      "cell_type": "code",
      "metadata": {
        "id": "1op5Q9i0uUUp",
        "colab": {
          "base_uri": "https://localhost:8080/"
        },
        "outputId": "bd758a59-830a-4090-a472-80c771a83d43"
      },
      "source": [
        "my_str2 = '''this is not a multiline string'''\n",
        "print(my_str2)"
      ],
      "execution_count": 14,
      "outputs": [
        {
          "output_type": "stream",
          "name": "stdout",
          "text": [
            "this is not a multiline string\n"
          ]
        }
      ]
    },
    {
      "cell_type": "code",
      "metadata": {
        "id": "kQDfTVLKuUUq",
        "colab": {
          "base_uri": "https://localhost:8080/"
        },
        "outputId": "9c009f27-d94b-4878-c1f0-239c110a2e88"
      },
      "source": [
        "x = '5'\n",
        "type(x)"
      ],
      "execution_count": 15,
      "outputs": [
        {
          "output_type": "execute_result",
          "data": {
            "text/plain": [
              "str"
            ]
          },
          "metadata": {},
          "execution_count": 15
        }
      ]
    },
    {
      "cell_type": "code",
      "metadata": {
        "id": "2VDnz9vyuUUq",
        "colab": {
          "base_uri": "https://localhost:8080/"
        },
        "outputId": "f859f2ba-c5df-46a2-d196-caf9f9dfbeba"
      },
      "source": [
        "y = int(x)\n",
        "type(y)"
      ],
      "execution_count": 16,
      "outputs": [
        {
          "output_type": "execute_result",
          "data": {
            "text/plain": [
              "int"
            ]
          },
          "metadata": {},
          "execution_count": 16
        }
      ]
    },
    {
      "cell_type": "code",
      "metadata": {
        "id": "n_BLZ5dUuUUq",
        "colab": {
          "base_uri": "https://localhost:8080/",
          "height": 178
        },
        "outputId": "36995049-540a-4868-a33b-ae67fe9c1fc9"
      },
      "source": [
        "x ='abc'\n",
        "int(x)"
      ],
      "execution_count": 17,
      "outputs": [
        {
          "output_type": "error",
          "ename": "ValueError",
          "evalue": "ignored",
          "traceback": [
            "\u001b[0;31m---------------------------------------------------------------------------\u001b[0m",
            "\u001b[0;31mValueError\u001b[0m                                Traceback (most recent call last)",
            "\u001b[0;32m<ipython-input-17-842bdcadb133>\u001b[0m in \u001b[0;36m<module>\u001b[0;34m()\u001b[0m\n\u001b[1;32m      1\u001b[0m \u001b[0mx\u001b[0m \u001b[0;34m=\u001b[0m\u001b[0;34m'abc'\u001b[0m\u001b[0;34m\u001b[0m\u001b[0;34m\u001b[0m\u001b[0m\n\u001b[0;32m----> 2\u001b[0;31m \u001b[0mint\u001b[0m\u001b[0;34m(\u001b[0m\u001b[0mx\u001b[0m\u001b[0;34m)\u001b[0m\u001b[0;34m\u001b[0m\u001b[0;34m\u001b[0m\u001b[0m\n\u001b[0m",
            "\u001b[0;31mValueError\u001b[0m: invalid literal for int() with base 10: 'abc'"
          ]
        }
      ]
    },
    {
      "cell_type": "markdown",
      "metadata": {
        "id": "vEefel3luUUq"
      },
      "source": [
        "## Accepting input from users"
      ]
    },
    {
      "cell_type": "code",
      "metadata": {
        "id": "MeOXhlonuUUq",
        "colab": {
          "base_uri": "https://localhost:8080/"
        },
        "outputId": "cd45d50e-c462-4882-d8d6-48819e0f834c"
      },
      "source": [
        "my_age = input('Enter your age:')"
      ],
      "execution_count": 18,
      "outputs": [
        {
          "name": "stdout",
          "output_type": "stream",
          "text": [
            "Enter your age:24\n"
          ]
        }
      ]
    },
    {
      "cell_type": "code",
      "metadata": {
        "id": "iMxjczY6uUUr",
        "colab": {
          "base_uri": "https://localhost:8080/"
        },
        "outputId": "25feaba4-3a71-4355-bd6a-5fd78f797a2d"
      },
      "source": [
        "print(my_age)"
      ],
      "execution_count": 19,
      "outputs": [
        {
          "output_type": "stream",
          "name": "stdout",
          "text": [
            "24\n"
          ]
        }
      ]
    },
    {
      "cell_type": "code",
      "metadata": {
        "id": "V7S13_JcuUUr",
        "colab": {
          "base_uri": "https://localhost:8080/"
        },
        "outputId": "99efdb82-0307-45e4-f285-803db26767c0"
      },
      "source": [
        "type(my_age)"
      ],
      "execution_count": 20,
      "outputs": [
        {
          "output_type": "execute_result",
          "data": {
            "text/plain": [
              "str"
            ]
          },
          "metadata": {},
          "execution_count": 20
        }
      ]
    },
    {
      "cell_type": "markdown",
      "metadata": {
        "id": "8y7xj6nBuUUr"
      },
      "source": [
        "# Printing data"
      ]
    },
    {
      "cell_type": "code",
      "metadata": {
        "id": "N1ai6RrouUUr",
        "colab": {
          "base_uri": "https://localhost:8080/"
        },
        "outputId": "959bbbec-19c1-4ab1-8698-86103ba5c625"
      },
      "source": [
        "print(x)"
      ],
      "execution_count": 21,
      "outputs": [
        {
          "output_type": "stream",
          "name": "stdout",
          "text": [
            "abc\n"
          ]
        }
      ]
    },
    {
      "cell_type": "code",
      "metadata": {
        "id": "BTf0w_ruuUUr",
        "colab": {
          "base_uri": "https://localhost:8080/"
        },
        "outputId": "23151afe-3a9e-4027-cf41-4fffa670655f"
      },
      "source": [
        "print(\"Hello World\")"
      ],
      "execution_count": 22,
      "outputs": [
        {
          "output_type": "stream",
          "name": "stdout",
          "text": [
            "Hello World\n"
          ]
        }
      ]
    },
    {
      "cell_type": "code",
      "metadata": {
        "id": "PFZdZMvouUUr",
        "colab": {
          "base_uri": "https://localhost:8080/"
        },
        "outputId": "5f115059-7873-42f5-b70a-5da08111c97c"
      },
      "source": [
        "name = input('Enter your name:')"
      ],
      "execution_count": 25,
      "outputs": [
        {
          "name": "stdout",
          "output_type": "stream",
          "text": [
            "Enter your name:Babun\n"
          ]
        }
      ]
    },
    {
      "cell_type": "code",
      "metadata": {
        "id": "fMRDkFgJuUUs",
        "colab": {
          "base_uri": "https://localhost:8080/"
        },
        "outputId": "419bc5e2-8cf3-47c5-8dd7-702f9bafcdc2"
      },
      "source": [
        "age = input('Enter your age')"
      ],
      "execution_count": 23,
      "outputs": [
        {
          "name": "stdout",
          "output_type": "stream",
          "text": [
            "Enter your age27\n"
          ]
        }
      ]
    },
    {
      "cell_type": "code",
      "metadata": {
        "id": "8oyyf_hnuUUs",
        "colab": {
          "base_uri": "https://localhost:8080/"
        },
        "outputId": "cc9a0cdc-1792-4401-c6c5-4195ed91ef44"
      },
      "source": [
        "print(name, ' is ', age, ' years old')"
      ],
      "execution_count": 26,
      "outputs": [
        {
          "output_type": "stream",
          "name": "stdout",
          "text": [
            "Babun  is  27  years old\n"
          ]
        }
      ]
    },
    {
      "cell_type": "code",
      "metadata": {
        "id": "NINZWhQ9uUUs",
        "colab": {
          "base_uri": "https://localhost:8080/"
        },
        "outputId": "47fd0cbb-39b1-46ff-be47-3b47d397e2a5"
      },
      "source": [
        "print('{0} is {1} years old'.format(name, age ))"
      ],
      "execution_count": 27,
      "outputs": [
        {
          "output_type": "stream",
          "name": "stdout",
          "text": [
            "Babun is 27 years old\n"
          ]
        }
      ]
    },
    {
      "cell_type": "code",
      "metadata": {
        "id": "ZQOuJXVyuUUs",
        "colab": {
          "base_uri": "https://localhost:8080/"
        },
        "outputId": "cc549187-5ef1-4a6e-9d11-1742e1916779"
      },
      "source": [
        "## Using f-strings\n",
        "print(f'{name} is {age} years old')"
      ],
      "execution_count": 28,
      "outputs": [
        {
          "output_type": "stream",
          "name": "stdout",
          "text": [
            "Babun is 27 years old\n"
          ]
        }
      ]
    },
    {
      "cell_type": "markdown",
      "metadata": {
        "id": "GySYk7mJuUUs"
      },
      "source": [
        "# Conditional statements"
      ]
    },
    {
      "cell_type": "code",
      "metadata": {
        "id": "Dq3_hxSFuUUs",
        "colab": {
          "base_uri": "https://localhost:8080/"
        },
        "outputId": "06003925-3d12-4024-f029-c048c0a02362"
      },
      "source": [
        "age = int(input(\"Enter your age\"))"
      ],
      "execution_count": 29,
      "outputs": [
        {
          "name": "stdout",
          "output_type": "stream",
          "text": [
            "Enter your age25\n"
          ]
        }
      ]
    },
    {
      "cell_type": "code",
      "metadata": {
        "id": "yO2p2tPSuUUt",
        "colab": {
          "base_uri": "https://localhost:8080/"
        },
        "outputId": "07163521-3387-4b8b-f04b-7147e0651d12"
      },
      "source": [
        "if age < 18 :\n",
        "    print('Inside if condition')\n",
        "    print('You are a baby')\n",
        "else :\n",
        "    print (\"You are an adult!\")\n",
        "    \n",
        "print('Outside if')"
      ],
      "execution_count": 30,
      "outputs": [
        {
          "output_type": "stream",
          "name": "stdout",
          "text": [
            "You are an adult!\n",
            "Outside if\n"
          ]
        }
      ]
    },
    {
      "cell_type": "code",
      "metadata": {
        "id": "Kg85eYSAuUUt"
      },
      "source": [
        ""
      ],
      "execution_count": 30,
      "outputs": []
    }
  ]
}