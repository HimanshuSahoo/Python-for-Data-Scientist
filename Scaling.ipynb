{
  "nbformat": 4,
  "nbformat_minor": 5,
  "metadata": {
    "kernelspec": {
      "display_name": "Python 3",
      "language": "python",
      "name": "python3"
    },
    "language_info": {
      "codemirror_mode": {
        "name": "ipython",
        "version": 3
      },
      "file_extension": ".py",
      "mimetype": "text/x-python",
      "name": "python",
      "nbconvert_exporter": "python",
      "pygments_lexer": "ipython3",
      "version": "3.8.8"
    },
    "toc": {
      "base_numbering": 1,
      "nav_menu": {},
      "number_sections": true,
      "sideBar": true,
      "skip_h1_title": false,
      "title_cell": "Table of Contents",
      "title_sidebar": "Contents",
      "toc_cell": false,
      "toc_position": {},
      "toc_section_display": true,
      "toc_window_display": false
    },
    "varInspector": {
      "cols": {
        "lenName": 16,
        "lenType": 16,
        "lenVar": 40
      },
      "kernels_config": {
        "python": {
          "delete_cmd_postfix": "",
          "delete_cmd_prefix": "del ",
          "library": "var_list.py",
          "varRefreshCmd": "print(var_dic_list())"
        },
        "r": {
          "delete_cmd_postfix": ") ",
          "delete_cmd_prefix": "rm(",
          "library": "var_list.r",
          "varRefreshCmd": "cat(var_dic_list()) "
        }
      },
      "types_to_exclude": [
        "module",
        "function",
        "builtin_function_or_method",
        "instance",
        "_Feature"
      ],
      "window_display": false
    },
    "colab": {
      "name": "Scaling.ipynb",
      "provenance": [],
      "include_colab_link": true
    }
  },
  "cells": [
    {
      "cell_type": "markdown",
      "metadata": {
        "id": "view-in-github",
        "colab_type": "text"
      },
      "source": [
        "<a href=\"https://colab.research.google.com/github/HimanshuSahoo/Python-for-Data-Scientist/blob/main/Scaling.ipynb\" target=\"_parent\"><img src=\"https://colab.research.google.com/assets/colab-badge.svg\" alt=\"Open In Colab\"/></a>"
      ]
    },
    {
      "cell_type": "code",
      "metadata": {
        "id": "31dda316"
      },
      "source": [
        "## scaling: It is a mechanism by which we can compare two dissimilar values"
      ],
      "id": "31dda316",
      "execution_count": null,
      "outputs": []
    },
    {
      "cell_type": "code",
      "metadata": {
        "id": "f4da0175",
        "outputId": "4afb0b43-d81f-4311-c56c-d17186ac647a"
      },
      "source": [
        "import pandas as pd\n",
        "\n",
        "from sklearn import linear_model\n",
        "\n",
        "from sklearn.preprocessing import StandardScaler\n",
        "\n",
        "scale = StandardScaler()\n",
        "\n",
        "df=pd.read_csv(\"C:/Users/himan/OneDrive/Documents/Himanshu_DS/Geethika Mam_DS/Chapter wise Data Set and python code/Multi Linear Regression/cars.csv\")\n",
        "\n",
        "\n",
        "x = df[['WT','VOL']]\n",
        "\n",
        "scaledx = scale.fit_transform(x)\n",
        "\n",
        "print(scaledx)"
      ],
      "id": "f4da0175",
      "execution_count": null,
      "outputs": [
        {
          "name": "stdout",
          "output_type": "stream",
          "text": [
            "[[-0.49023816 -0.44061061]\n",
            " [-0.26129934 -0.30525236]\n",
            " [-0.29799301 -0.30525236]\n",
            " [-0.2391033  -0.30525236]\n",
            " [-0.33887816 -0.30525236]\n",
            " [-0.37881419 -0.44061061]\n",
            " [-0.28256505 -0.30525236]\n",
            " [-2.22453536 -2.20026792]\n",
            " [-2.15581433 -2.20026792]\n",
            " [-0.20042158 -0.21501352]\n",
            " [-0.40949027 -0.44061061]\n",
            " [-2.23718888 -2.20026792]\n",
            " [ 0.05385348  0.01058357]\n",
            " [-0.40746314 -0.44061061]\n",
            " [-0.41164734 -0.44061061]\n",
            " [-0.37710085 -0.44061061]\n",
            " [-0.38633253 -0.35037178]\n",
            " [-2.17802125 -2.20026792]\n",
            " [-0.33347355 -0.35037178]\n",
            " [ 0.14831256  0.19106124]\n",
            " [-0.01180799  0.01058357]\n",
            " [ 0.33514564  0.37153891]\n",
            " [ 0.03535268  0.1008224 ]\n",
            " [-0.07727938 -0.12477469]\n",
            " [-0.48759676 -0.44061061]\n",
            " [-2.19829229 -2.20026792]\n",
            " [ 0.75878723  0.82273309]\n",
            " [ 0.05673768  0.01058357]\n",
            " [ 0.27807071  0.23618066]\n",
            " [ 0.42124726  0.37153891]\n",
            " [ 0.62174504  0.68737484]\n",
            " [ 0.11035971  0.1008224 ]\n",
            " [-0.13866213 -0.07965527]\n",
            " [ 0.69304639  0.64225542]\n",
            " [ 0.03881962  0.1008224 ]\n",
            " [-0.06732815 -0.03453585]\n",
            " [-0.49132041 -0.48573003]\n",
            " [-0.60870364 -0.57596887]\n",
            " [-0.50790524 -0.57596887]\n",
            " [-0.30848967 -0.30525236]\n",
            " [ 0.66877093  0.64225542]\n",
            " [ 0.35112169  0.32641949]\n",
            " [-0.253162   -0.30525236]\n",
            " [-0.54638368 -0.48573003]\n",
            " [ 0.08944633  0.14594182]\n",
            " [ 0.02811271  0.01058357]\n",
            " [ 0.54872568  0.55201658]\n",
            " [ 0.20110061  0.19106124]\n",
            " [-0.58309656 -0.57596887]\n",
            " [ 0.14045608  0.1008224 ]\n",
            " [ 0.10761914  0.1008224 ]\n",
            " [ 0.13753382  0.1008224 ]\n",
            " [ 1.07240653  1.13856902]\n",
            " [ 0.69941256  0.64225542]\n",
            " [ 0.65022074  0.64225542]\n",
            " [ 1.09804367  1.13856902]\n",
            " [-0.30417763 -0.30525236]\n",
            " [ 0.04323438  0.1008224 ]\n",
            " [-0.24136353 -0.21501352]\n",
            " [ 0.70507688  0.73249426]\n",
            " [ 0.60103751  0.55201658]\n",
            " [ 0.73160477  0.77761368]\n",
            " [ 1.47432127  1.45440495]\n",
            " [ 1.11600704  1.0934496 ]\n",
            " [ 1.0403533   1.00321077]\n",
            " [-2.24265139 -2.20026792]\n",
            " [ 0.74765875  0.68737484]\n",
            " [ 1.23030947  1.27392727]\n",
            " [ 1.08232792  1.0934496 ]\n",
            " [ 0.63509149  0.597136  ]\n",
            " [-2.22785207 -2.20026792]\n",
            " [ 1.55787152  1.63488262]\n",
            " [ 1.4692362   1.49952437]\n",
            " [ 2.76444017  2.76286807]\n",
            " [ 1.3706083   1.36416611]\n",
            " [ 1.39203071  1.36416611]\n",
            " [-2.18623649 -2.20026792]\n",
            " [ 0.74002517  0.73249426]\n",
            " [-2.23502801 -2.20026792]\n",
            " [ 0.94146241  0.91297193]\n",
            " [ 0.34057153  0.37153891]]\n"
          ]
        }
      ]
    },
    {
      "cell_type": "code",
      "metadata": {
        "id": "6f9474d3",
        "outputId": "a5e6ca78-336e-4092-c685-c832799e9a17"
      },
      "source": [
        "df"
      ],
      "id": "6f9474d3",
      "execution_count": null,
      "outputs": [
        {
          "data": {
            "text/html": [
              "<div>\n",
              "<style scoped>\n",
              "    .dataframe tbody tr th:only-of-type {\n",
              "        vertical-align: middle;\n",
              "    }\n",
              "\n",
              "    .dataframe tbody tr th {\n",
              "        vertical-align: top;\n",
              "    }\n",
              "\n",
              "    .dataframe thead th {\n",
              "        text-align: right;\n",
              "    }\n",
              "</style>\n",
              "<table border=\"1\" class=\"dataframe\">\n",
              "  <thead>\n",
              "    <tr style=\"text-align: right;\">\n",
              "      <th></th>\n",
              "      <th>HP</th>\n",
              "      <th>MPG</th>\n",
              "      <th>VOL</th>\n",
              "      <th>SP</th>\n",
              "      <th>WT</th>\n",
              "    </tr>\n",
              "  </thead>\n",
              "  <tbody>\n",
              "    <tr>\n",
              "      <th>0</th>\n",
              "      <td>49</td>\n",
              "      <td>53.700681</td>\n",
              "      <td>89</td>\n",
              "      <td>104.185353</td>\n",
              "      <td>28.762059</td>\n",
              "    </tr>\n",
              "    <tr>\n",
              "      <th>1</th>\n",
              "      <td>55</td>\n",
              "      <td>50.013401</td>\n",
              "      <td>92</td>\n",
              "      <td>105.461264</td>\n",
              "      <td>30.466833</td>\n",
              "    </tr>\n",
              "    <tr>\n",
              "      <th>2</th>\n",
              "      <td>55</td>\n",
              "      <td>50.013401</td>\n",
              "      <td>92</td>\n",
              "      <td>105.461264</td>\n",
              "      <td>30.193597</td>\n",
              "    </tr>\n",
              "    <tr>\n",
              "      <th>3</th>\n",
              "      <td>70</td>\n",
              "      <td>45.696322</td>\n",
              "      <td>92</td>\n",
              "      <td>113.461264</td>\n",
              "      <td>30.632114</td>\n",
              "    </tr>\n",
              "    <tr>\n",
              "      <th>4</th>\n",
              "      <td>53</td>\n",
              "      <td>50.504232</td>\n",
              "      <td>92</td>\n",
              "      <td>104.461264</td>\n",
              "      <td>29.889149</td>\n",
              "    </tr>\n",
              "    <tr>\n",
              "      <th>...</th>\n",
              "      <td>...</td>\n",
              "      <td>...</td>\n",
              "      <td>...</td>\n",
              "      <td>...</td>\n",
              "      <td>...</td>\n",
              "    </tr>\n",
              "    <tr>\n",
              "      <th>76</th>\n",
              "      <td>322</td>\n",
              "      <td>36.900000</td>\n",
              "      <td>50</td>\n",
              "      <td>169.598513</td>\n",
              "      <td>16.132947</td>\n",
              "    </tr>\n",
              "    <tr>\n",
              "      <th>77</th>\n",
              "      <td>238</td>\n",
              "      <td>19.197888</td>\n",
              "      <td>115</td>\n",
              "      <td>150.576579</td>\n",
              "      <td>37.923113</td>\n",
              "    </tr>\n",
              "    <tr>\n",
              "      <th>78</th>\n",
              "      <td>263</td>\n",
              "      <td>34.000000</td>\n",
              "      <td>50</td>\n",
              "      <td>151.598513</td>\n",
              "      <td>15.769625</td>\n",
              "    </tr>\n",
              "    <tr>\n",
              "      <th>79</th>\n",
              "      <td>295</td>\n",
              "      <td>19.833733</td>\n",
              "      <td>119</td>\n",
              "      <td>167.944460</td>\n",
              "      <td>39.423099</td>\n",
              "    </tr>\n",
              "    <tr>\n",
              "      <th>80</th>\n",
              "      <td>236</td>\n",
              "      <td>12.101263</td>\n",
              "      <td>107</td>\n",
              "      <td>139.840817</td>\n",
              "      <td>34.948615</td>\n",
              "    </tr>\n",
              "  </tbody>\n",
              "</table>\n",
              "<p>81 rows × 5 columns</p>\n",
              "</div>"
            ],
            "text/plain": [
              "     HP        MPG  VOL          SP         WT\n",
              "0    49  53.700681   89  104.185353  28.762059\n",
              "1    55  50.013401   92  105.461264  30.466833\n",
              "2    55  50.013401   92  105.461264  30.193597\n",
              "3    70  45.696322   92  113.461264  30.632114\n",
              "4    53  50.504232   92  104.461264  29.889149\n",
              "..  ...        ...  ...         ...        ...\n",
              "76  322  36.900000   50  169.598513  16.132947\n",
              "77  238  19.197888  115  150.576579  37.923113\n",
              "78  263  34.000000   50  151.598513  15.769625\n",
              "79  295  19.833733  119  167.944460  39.423099\n",
              "80  236  12.101263  107  139.840817  34.948615\n",
              "\n",
              "[81 rows x 5 columns]"
            ]
          },
          "execution_count": 14,
          "metadata": {},
          "output_type": "execute_result"
        }
      ]
    },
    {
      "cell_type": "code",
      "metadata": {
        "id": "f5627ee2",
        "outputId": "10070b1b-d670-40a7-c8dd-64d851a53570"
      },
      "source": [
        "import pandas as pd\n",
        "\n",
        "from sklearn import linear_model\n",
        "from sklearn.preprocessing import StandardScaler\n",
        "\n",
        "scale = StandardScaler\n",
        "\n",
        "df=pd.read_csv(\"C:/Users/himan/OneDrive/Documents/Himanshu_DS/Geethika Mam_DS/Chapter wise Data Set and python code/Multi Linear Regression/cars.csv\")\n",
        "\n",
        "X = df[['WT','VOL']]\n",
        "\n",
        "y = df['MPG']\n",
        "\n",
        "scaledX = scale.fit_transform(X)\n",
        "\n",
        "regr = liner_model.LinearRegression()\n",
        "\n",
        "regr.fit(scaledX,y)\n",
        "\n",
        "scaled = scale.transform([[40,120]])\n",
        "\n",
        "predictedMPG = regr.predict([scale[0]])\n",
        "\n",
        "print(predictedMPG)"
      ],
      "id": "f5627ee2",
      "execution_count": null,
      "outputs": [
        {
          "ename": "TypeError",
          "evalue": "fit_transform() missing 1 required positional argument: 'X'",
          "output_type": "error",
          "traceback": [
            "\u001b[1;31m---------------------------------------------------------------------------\u001b[0m",
            "\u001b[1;31mTypeError\u001b[0m                                 Traceback (most recent call last)",
            "\u001b[1;32m<ipython-input-17-4e5c86f8d504>\u001b[0m in \u001b[0;36m<module>\u001b[1;34m\u001b[0m\n\u001b[0;32m     12\u001b[0m \u001b[0my\u001b[0m \u001b[1;33m=\u001b[0m \u001b[0mdf\u001b[0m\u001b[1;33m[\u001b[0m\u001b[1;34m'MPG'\u001b[0m\u001b[1;33m]\u001b[0m\u001b[1;33m\u001b[0m\u001b[1;33m\u001b[0m\u001b[0m\n\u001b[0;32m     13\u001b[0m \u001b[1;33m\u001b[0m\u001b[0m\n\u001b[1;32m---> 14\u001b[1;33m \u001b[0mscaledX\u001b[0m \u001b[1;33m=\u001b[0m \u001b[0mscale\u001b[0m\u001b[1;33m.\u001b[0m\u001b[0mfit_transform\u001b[0m\u001b[1;33m(\u001b[0m\u001b[0mX\u001b[0m\u001b[1;33m)\u001b[0m\u001b[1;33m\u001b[0m\u001b[1;33m\u001b[0m\u001b[0m\n\u001b[0m\u001b[0;32m     15\u001b[0m \u001b[1;33m\u001b[0m\u001b[0m\n\u001b[0;32m     16\u001b[0m \u001b[0mregr\u001b[0m \u001b[1;33m=\u001b[0m \u001b[0mliner_model\u001b[0m\u001b[1;33m.\u001b[0m\u001b[0mLinearRegression\u001b[0m\u001b[1;33m(\u001b[0m\u001b[1;33m)\u001b[0m\u001b[1;33m\u001b[0m\u001b[1;33m\u001b[0m\u001b[0m\n",
            "\u001b[1;31mTypeError\u001b[0m: fit_transform() missing 1 required positional argument: 'X'"
          ]
        }
      ]
    },
    {
      "cell_type": "code",
      "metadata": {
        "id": "fd3e1adc"
      },
      "source": [
        ""
      ],
      "id": "fd3e1adc",
      "execution_count": null,
      "outputs": []
    }
  ]
}