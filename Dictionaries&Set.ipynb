{
  "nbformat": 4,
  "nbformat_minor": 0,
  "metadata": {
    "colab": {
      "name": "Dictionaries&Set.ipynb",
      "provenance": [],
      "include_colab_link": true
    },
    "kernelspec": {
      "display_name": "Python 3",
      "language": "python",
      "name": "python3"
    },
    "language_info": {
      "codemirror_mode": {
        "name": "ipython",
        "version": 3
      },
      "file_extension": ".py",
      "mimetype": "text/x-python",
      "name": "python",
      "nbconvert_exporter": "python",
      "pygments_lexer": "ipython3",
      "version": "3.8.8"
    },
    "toc": {
      "base_numbering": 1,
      "nav_menu": {},
      "number_sections": true,
      "sideBar": true,
      "skip_h1_title": false,
      "title_cell": "Table of Contents",
      "title_sidebar": "Contents",
      "toc_cell": false,
      "toc_position": {},
      "toc_section_display": true,
      "toc_window_display": false
    },
    "varInspector": {
      "cols": {
        "lenName": 16,
        "lenType": 16,
        "lenVar": 40
      },
      "kernels_config": {
        "python": {
          "delete_cmd_postfix": "",
          "delete_cmd_prefix": "del ",
          "library": "var_list.py",
          "varRefreshCmd": "print(var_dic_list())"
        },
        "r": {
          "delete_cmd_postfix": ") ",
          "delete_cmd_prefix": "rm(",
          "library": "var_list.r",
          "varRefreshCmd": "cat(var_dic_list()) "
        }
      },
      "types_to_exclude": [
        "module",
        "function",
        "builtin_function_or_method",
        "instance",
        "_Feature"
      ],
      "window_display": false
    }
  },
  "cells": [
    {
      "cell_type": "markdown",
      "metadata": {
        "id": "view-in-github",
        "colab_type": "text"
      },
      "source": [
        "<a href=\"https://colab.research.google.com/github/HimanshuSahoo/Python-for-Data-Scientist/blob/main/Dictionaries%26Set.ipynb\" target=\"_parent\"><img src=\"https://colab.research.google.com/assets/colab-badge.svg\" alt=\"Open In Colab\"/></a>"
      ]
    },
    {
      "cell_type": "markdown",
      "metadata": {
        "id": "gBDNnp3DmGb6"
      },
      "source": [
        "## Create Dictionaries"
      ]
    },
    {
      "cell_type": "markdown",
      "metadata": {
        "id": "Zq0YzJUcmGb9"
      },
      "source": [
        "### a. Using Literals"
      ]
    },
    {
      "cell_type": "code",
      "metadata": {
        "id": "4oSxlNf_mGb-"
      },
      "source": [
        "dict_a = {'name' : 'Thomas', 'age': 23, 1:'one',(0,0): 'Origin'}"
      ],
      "execution_count": 1,
      "outputs": []
    },
    {
      "cell_type": "code",
      "metadata": {
        "id": "jzr2jo0dmGb_",
        "colab": {
          "base_uri": "https://localhost:8080/"
        },
        "outputId": "5ba030e7-4b50-4661-e27b-e7c688aa8874"
      },
      "source": [
        "dict_a"
      ],
      "execution_count": 2,
      "outputs": [
        {
          "output_type": "execute_result",
          "data": {
            "text/plain": [
              "{(0, 0): 'Origin', 1: 'one', 'age': 23, 'name': 'Thomas'}"
            ]
          },
          "metadata": {},
          "execution_count": 2
        }
      ]
    },
    {
      "cell_type": "markdown",
      "metadata": {
        "id": "fjdAH-YVmGcA"
      },
      "source": [
        "### b. Using Constructor"
      ]
    },
    {
      "cell_type": "code",
      "metadata": {
        "id": "wjROVo-zmGcB",
        "colab": {
          "base_uri": "https://localhost:8080/"
        },
        "outputId": "1c98aef8-de75-4843-a10e-9bac6519c584"
      },
      "source": [
        "dict_b = dict(a=100, b=200)\n",
        "dict_b"
      ],
      "execution_count": 3,
      "outputs": [
        {
          "output_type": "execute_result",
          "data": {
            "text/plain": [
              "{'a': 100, 'b': 200}"
            ]
          },
          "metadata": {},
          "execution_count": 3
        }
      ]
    },
    {
      "cell_type": "code",
      "metadata": {
        "id": "z1UuHudomGcD",
        "colab": {
          "base_uri": "https://localhost:8080/"
        },
        "outputId": "34a53a8d-f248-4df5-ba5c-f5f828254764"
      },
      "source": [
        "dict_c = dict( [  ('a',100),('b',200)    ]   )\n",
        "dict_c"
      ],
      "execution_count": 4,
      "outputs": [
        {
          "output_type": "execute_result",
          "data": {
            "text/plain": [
              "{'a': 100, 'b': 200}"
            ]
          },
          "metadata": {},
          "execution_count": 4
        }
      ]
    },
    {
      "cell_type": "markdown",
      "metadata": {
        "id": "60OOFhurmGcE"
      },
      "source": [
        "### c. Using Dict comprehensions"
      ]
    },
    {
      "cell_type": "code",
      "metadata": {
        "id": "PqcCQr1PmGcF"
      },
      "source": [
        "keys = ['a','b','c','d']\n",
        "values = [1,2,3,4]"
      ],
      "execution_count": 5,
      "outputs": []
    },
    {
      "cell_type": "code",
      "metadata": {
        "id": "59Q7KrcwmGcF",
        "colab": {
          "base_uri": "https://localhost:8080/"
        },
        "outputId": "b8942913-1314-40ea-c930-2dd6762a5211"
      },
      "source": [
        "for i in zip(keys,values):\n",
        "    print(i) "
      ],
      "execution_count": 6,
      "outputs": [
        {
          "output_type": "stream",
          "name": "stdout",
          "text": [
            "('a', 1)\n",
            "('b', 2)\n",
            "('c', 3)\n",
            "('d', 4)\n"
          ]
        }
      ]
    },
    {
      "cell_type": "code",
      "metadata": {
        "id": "dJGzHE0imGcG",
        "colab": {
          "base_uri": "https://localhost:8080/"
        },
        "outputId": "f3b6d358-0a57-4003-ba85-6e76169f09a8"
      },
      "source": [
        "dict_d = dict( zip(keys,values) )\n",
        "dict_d"
      ],
      "execution_count": 7,
      "outputs": [
        {
          "output_type": "execute_result",
          "data": {
            "text/plain": [
              "{'a': 1, 'b': 2, 'c': 3, 'd': 4}"
            ]
          },
          "metadata": {},
          "execution_count": 7
        }
      ]
    },
    {
      "cell_type": "code",
      "metadata": {
        "id": "9Hs5Nvk7mGcG"
      },
      "source": [
        "# Dict Comprehension\n",
        "dict_e = { k:v  for k,v in zip(keys,values) }"
      ],
      "execution_count": 8,
      "outputs": []
    },
    {
      "cell_type": "code",
      "metadata": {
        "id": "PcYzrPpfmGcH",
        "colab": {
          "base_uri": "https://localhost:8080/"
        },
        "outputId": "2885786c-7e53-4c4a-a03d-80cab305b664"
      },
      "source": [
        "dict_e"
      ],
      "execution_count": 9,
      "outputs": [
        {
          "output_type": "execute_result",
          "data": {
            "text/plain": [
              "{'a': 1, 'b': 2, 'c': 3, 'd': 4}"
            ]
          },
          "metadata": {},
          "execution_count": 9
        }
      ]
    },
    {
      "cell_type": "markdown",
      "metadata": {
        "id": "KhacMRlMmGcH"
      },
      "source": [
        "### d. Using fromkeys\n",
        "Use any sequence object"
      ]
    },
    {
      "cell_type": "code",
      "metadata": {
        "id": "L9lFNK2KmGcH",
        "colab": {
          "base_uri": "https://localhost:8080/"
        },
        "outputId": "8a0e4408-0e9e-45d5-f823-43d972568e84"
      },
      "source": [
        "dict_f = dict.fromkeys((1,2,3))\n",
        "dict_f"
      ],
      "execution_count": 10,
      "outputs": [
        {
          "output_type": "execute_result",
          "data": {
            "text/plain": [
              "{1: None, 2: None, 3: None}"
            ]
          },
          "metadata": {},
          "execution_count": 10
        }
      ]
    },
    {
      "cell_type": "code",
      "metadata": {
        "id": "XP8ybhGTmGcI",
        "colab": {
          "base_uri": "https://localhost:8080/"
        },
        "outputId": "b523f031-b625-4596-eabe-370f229327ae"
      },
      "source": [
        "dict_g = dict.fromkeys('abc',0)\n",
        "dict_g"
      ],
      "execution_count": 11,
      "outputs": [
        {
          "output_type": "execute_result",
          "data": {
            "text/plain": [
              "{'a': 0, 'b': 0, 'c': 0}"
            ]
          },
          "metadata": {},
          "execution_count": 11
        }
      ]
    },
    {
      "cell_type": "code",
      "metadata": {
        "id": "vYrBax_CmGcI",
        "colab": {
          "base_uri": "https://localhost:8080/"
        },
        "outputId": "418495c9-9bc7-4c01-a7b8-8d0e146f5aff"
      },
      "source": [
        "dict_h = dict.fromkeys([1,2,3])\n",
        "dict_h"
      ],
      "execution_count": 12,
      "outputs": [
        {
          "output_type": "execute_result",
          "data": {
            "text/plain": [
              "{1: None, 2: None, 3: None}"
            ]
          },
          "metadata": {},
          "execution_count": 12
        }
      ]
    },
    {
      "cell_type": "markdown",
      "metadata": {
        "id": "-b035y9umGcI"
      },
      "source": [
        "## Accesing Values"
      ]
    },
    {
      "cell_type": "code",
      "metadata": {
        "colab": {
          "base_uri": "https://localhost:8080/"
        },
        "id": "cT_P55xImGcJ",
        "outputId": "26d8c0df-eb93-450f-de3e-c0a738c860b2"
      },
      "source": [
        "dict_d['b']"
      ],
      "execution_count": 13,
      "outputs": [
        {
          "output_type": "execute_result",
          "data": {
            "text/plain": [
              "2"
            ]
          },
          "metadata": {},
          "execution_count": 13
        }
      ]
    },
    {
      "cell_type": "code",
      "metadata": {
        "id": "7KrXQiU5mGcJ"
      },
      "source": [
        "keys = ['Kerala','Telangana','AP','Karnataka','TN']\n",
        "values = ['Trivandrum','Hyderabad','Vizag','Bangalore','Chennai']"
      ],
      "execution_count": 14,
      "outputs": []
    },
    {
      "cell_type": "code",
      "metadata": {
        "colab": {
          "base_uri": "https://localhost:8080/"
        },
        "id": "fgsr1HdPmGcJ",
        "outputId": "2e57a4b3-0d84-4c65-c933-0245e0a9b445"
      },
      "source": [
        "dstates = {k:v for k,v in zip(keys,values) }\n",
        "dstates"
      ],
      "execution_count": 15,
      "outputs": [
        {
          "output_type": "execute_result",
          "data": {
            "text/plain": [
              "{'AP': 'Vizag',\n",
              " 'Karnataka': 'Bangalore',\n",
              " 'Kerala': 'Trivandrum',\n",
              " 'TN': 'Chennai',\n",
              " 'Telangana': 'Hyderabad'}"
            ]
          },
          "metadata": {},
          "execution_count": 15
        }
      ]
    },
    {
      "cell_type": "code",
      "metadata": {
        "colab": {
          "base_uri": "https://localhost:8080/",
          "height": 35
        },
        "id": "tnF44yVSmGcK",
        "outputId": "570c325d-d3ed-4912-9fe8-4843ad367f08"
      },
      "source": [
        "dstates['TN']"
      ],
      "execution_count": 16,
      "outputs": [
        {
          "output_type": "execute_result",
          "data": {
            "application/vnd.google.colaboratory.intrinsic+json": {
              "type": "string"
            },
            "text/plain": [
              "'Chennai'"
            ]
          },
          "metadata": {},
          "execution_count": 16
        }
      ]
    },
    {
      "cell_type": "code",
      "metadata": {
        "id": "5nzuMQG8mGcK",
        "colab": {
          "base_uri": "https://localhost:8080/",
          "height": 162
        },
        "outputId": "804acf9d-4787-4f0a-9369-41a6ebd1e243"
      },
      "source": [
        "dstates['Bihar']"
      ],
      "execution_count": 18,
      "outputs": [
        {
          "output_type": "error",
          "ename": "KeyError",
          "evalue": "ignored",
          "traceback": [
            "\u001b[0;31m---------------------------------------------------------------------------\u001b[0m",
            "\u001b[0;31mKeyError\u001b[0m                                  Traceback (most recent call last)",
            "\u001b[0;32m<ipython-input-18-1734d79f94bc>\u001b[0m in \u001b[0;36m<module>\u001b[0;34m()\u001b[0m\n\u001b[0;32m----> 1\u001b[0;31m \u001b[0mdstates\u001b[0m\u001b[0;34m[\u001b[0m\u001b[0;34m'Bihar'\u001b[0m\u001b[0;34m]\u001b[0m\u001b[0;34m\u001b[0m\u001b[0;34m\u001b[0m\u001b[0m\n\u001b[0m",
            "\u001b[0;31mKeyError\u001b[0m: 'Bihar'"
          ]
        }
      ]
    },
    {
      "cell_type": "code",
      "metadata": {
        "id": "GLcWbHEumGcK",
        "colab": {
          "base_uri": "https://localhost:8080/"
        },
        "outputId": "2f7eaa2c-de2d-4225-c5a6-50267f3ff874"
      },
      "source": [
        "if dstates.get('Bihar') == None:\n",
        "    print('No such state')"
      ],
      "execution_count": 19,
      "outputs": [
        {
          "output_type": "stream",
          "name": "stdout",
          "text": [
            "No such state\n"
          ]
        }
      ]
    },
    {
      "cell_type": "code",
      "metadata": {
        "id": "uxg9qgABmGcL",
        "colab": {
          "base_uri": "https://localhost:8080/"
        },
        "outputId": "0a3d6fc9-018b-435e-fbb4-6ca51ea9c8b1"
      },
      "source": [
        "dstates.get('Kerala','No such state'), dstates.get('Bihar','No such state')"
      ],
      "execution_count": 20,
      "outputs": [
        {
          "output_type": "execute_result",
          "data": {
            "text/plain": [
              "('Trivandrum', 'No such state')"
            ]
          },
          "metadata": {},
          "execution_count": 20
        }
      ]
    },
    {
      "cell_type": "markdown",
      "metadata": {
        "id": "7IpYCDDSmGcL"
      },
      "source": [
        "## Common Operations"
      ]
    },
    {
      "cell_type": "code",
      "metadata": {
        "id": "uSxnXEf-mGcL",
        "colab": {
          "base_uri": "https://localhost:8080/"
        },
        "outputId": "9f3d243e-d75a-485b-f2ee-fbff7de57899"
      },
      "source": [
        "# Length of the collection\n",
        "len(dstates)"
      ],
      "execution_count": 21,
      "outputs": [
        {
          "output_type": "execute_result",
          "data": {
            "text/plain": [
              "5"
            ]
          },
          "metadata": {},
          "execution_count": 21
        }
      ]
    },
    {
      "cell_type": "code",
      "metadata": {
        "id": "Du-pLvZwmGcM",
        "colab": {
          "base_uri": "https://localhost:8080/"
        },
        "outputId": "d0826e18-5355-4737-f921-11782070aa76"
      },
      "source": [
        "# Membership test\n",
        "'AP' in dstates, 'AP' not in dstates"
      ],
      "execution_count": 22,
      "outputs": [
        {
          "output_type": "execute_result",
          "data": {
            "text/plain": [
              "(True, False)"
            ]
          },
          "metadata": {},
          "execution_count": 22
        }
      ]
    },
    {
      "cell_type": "code",
      "metadata": {
        "id": "SOsR9ssHmGcM",
        "colab": {
          "base_uri": "https://localhost:8080/"
        },
        "outputId": "4ef3032c-f284-49dd-bddd-c5627e9ddcdd"
      },
      "source": [
        "if 'AP' in dstates:\n",
        "    print('Found!')"
      ],
      "execution_count": 23,
      "outputs": [
        {
          "output_type": "stream",
          "name": "stdout",
          "text": [
            "Found!\n"
          ]
        }
      ]
    },
    {
      "cell_type": "markdown",
      "metadata": {
        "id": "zR76xs0AmGcM"
      },
      "source": [
        "## Removing elements"
      ]
    },
    {
      "cell_type": "code",
      "metadata": {
        "id": "L_79pdWZmGcM",
        "colab": {
          "base_uri": "https://localhost:8080/"
        },
        "outputId": "2485c6ca-2d84-4d80-8aab-448a39301499"
      },
      "source": [
        "dstates['junk'] =  'abc'\n",
        "dstates"
      ],
      "execution_count": 24,
      "outputs": [
        {
          "output_type": "execute_result",
          "data": {
            "text/plain": [
              "{'AP': 'Vizag',\n",
              " 'Karnataka': 'Bangalore',\n",
              " 'Kerala': 'Trivandrum',\n",
              " 'TN': 'Chennai',\n",
              " 'Telangana': 'Hyderabad',\n",
              " 'junk': 'abc'}"
            ]
          },
          "metadata": {},
          "execution_count": 24
        }
      ]
    },
    {
      "cell_type": "code",
      "metadata": {
        "id": "ip86-uiemGcN"
      },
      "source": [
        "del dstates['junk']"
      ],
      "execution_count": 25,
      "outputs": []
    },
    {
      "cell_type": "code",
      "metadata": {
        "id": "7YQNeiUYmGcN",
        "scrolled": true,
        "colab": {
          "base_uri": "https://localhost:8080/"
        },
        "outputId": "3fb597b5-1225-4d31-a767-03eaae8cc703"
      },
      "source": [
        "dstates"
      ],
      "execution_count": 26,
      "outputs": [
        {
          "output_type": "execute_result",
          "data": {
            "text/plain": [
              "{'AP': 'Vizag',\n",
              " 'Karnataka': 'Bangalore',\n",
              " 'Kerala': 'Trivandrum',\n",
              " 'TN': 'Chennai',\n",
              " 'Telangana': 'Hyderabad'}"
            ]
          },
          "metadata": {},
          "execution_count": 26
        }
      ]
    },
    {
      "cell_type": "code",
      "metadata": {
        "id": "EuBoUYgCmGcN",
        "colab": {
          "base_uri": "https://localhost:8080/",
          "height": 162
        },
        "outputId": "24c06d0a-1378-43e6-ac5a-a3b8cb011b4e"
      },
      "source": [
        "del dstates['Bihar']"
      ],
      "execution_count": 27,
      "outputs": [
        {
          "output_type": "error",
          "ename": "KeyError",
          "evalue": "ignored",
          "traceback": [
            "\u001b[0;31m---------------------------------------------------------------------------\u001b[0m",
            "\u001b[0;31mKeyError\u001b[0m                                  Traceback (most recent call last)",
            "\u001b[0;32m<ipython-input-27-0e05c11e3b4c>\u001b[0m in \u001b[0;36m<module>\u001b[0;34m()\u001b[0m\n\u001b[0;32m----> 1\u001b[0;31m \u001b[0;32mdel\u001b[0m \u001b[0mdstates\u001b[0m\u001b[0;34m[\u001b[0m\u001b[0;34m'Bihar'\u001b[0m\u001b[0;34m]\u001b[0m\u001b[0;34m\u001b[0m\u001b[0;34m\u001b[0m\u001b[0m\n\u001b[0m",
            "\u001b[0;31mKeyError\u001b[0m: 'Bihar'"
          ]
        }
      ]
    },
    {
      "cell_type": "code",
      "metadata": {
        "id": "470MOiTWmGcO",
        "colab": {
          "base_uri": "https://localhost:8080/"
        },
        "outputId": "510ccd38-f4fc-4f0e-b762-f6f6dc09c836"
      },
      "source": [
        "dstates['junk'] =  'abc'\n",
        "dstates"
      ],
      "execution_count": 28,
      "outputs": [
        {
          "output_type": "execute_result",
          "data": {
            "text/plain": [
              "{'AP': 'Vizag',\n",
              " 'Karnataka': 'Bangalore',\n",
              " 'Kerala': 'Trivandrum',\n",
              " 'TN': 'Chennai',\n",
              " 'Telangana': 'Hyderabad',\n",
              " 'junk': 'abc'}"
            ]
          },
          "metadata": {},
          "execution_count": 28
        }
      ]
    },
    {
      "cell_type": "code",
      "metadata": {
        "id": "Pqve1NdCmGcO",
        "colab": {
          "base_uri": "https://localhost:8080/",
          "height": 35
        },
        "outputId": "1edd1272-e063-417d-9c99-9469f9845757"
      },
      "source": [
        "dstates.pop('junk')"
      ],
      "execution_count": 29,
      "outputs": [
        {
          "output_type": "execute_result",
          "data": {
            "application/vnd.google.colaboratory.intrinsic+json": {
              "type": "string"
            },
            "text/plain": [
              "'abc'"
            ]
          },
          "metadata": {},
          "execution_count": 29
        }
      ]
    },
    {
      "cell_type": "code",
      "metadata": {
        "id": "i-jWs0oMmGcO",
        "colab": {
          "base_uri": "https://localhost:8080/"
        },
        "outputId": "d16114ad-d5e9-4057-f6e8-4ac7d4e3941c"
      },
      "source": [
        "dstates"
      ],
      "execution_count": 30,
      "outputs": [
        {
          "output_type": "execute_result",
          "data": {
            "text/plain": [
              "{'AP': 'Vizag',\n",
              " 'Karnataka': 'Bangalore',\n",
              " 'Kerala': 'Trivandrum',\n",
              " 'TN': 'Chennai',\n",
              " 'Telangana': 'Hyderabad'}"
            ]
          },
          "metadata": {},
          "execution_count": 30
        }
      ]
    },
    {
      "cell_type": "code",
      "metadata": {
        "id": "2hwPQwRBmGcP",
        "colab": {
          "base_uri": "https://localhost:8080/",
          "height": 35
        },
        "outputId": "fb124d10-3b30-4e3b-c129-7aad3dcfc83e"
      },
      "source": [
        "dstates.pop('Bihar','No such element')"
      ],
      "execution_count": 31,
      "outputs": [
        {
          "output_type": "execute_result",
          "data": {
            "application/vnd.google.colaboratory.intrinsic+json": {
              "type": "string"
            },
            "text/plain": [
              "'No such element'"
            ]
          },
          "metadata": {},
          "execution_count": 31
        }
      ]
    },
    {
      "cell_type": "code",
      "metadata": {
        "id": "ArqtNVbhmGcP"
      },
      "source": [
        "dstates.clear()"
      ],
      "execution_count": 32,
      "outputs": []
    },
    {
      "cell_type": "code",
      "metadata": {
        "id": "OeXmeLXjmGcP",
        "colab": {
          "base_uri": "https://localhost:8080/"
        },
        "outputId": "7f963358-98e9-45dc-b8d8-762b6b19bb47"
      },
      "source": [
        "dstates"
      ],
      "execution_count": 33,
      "outputs": [
        {
          "output_type": "execute_result",
          "data": {
            "text/plain": [
              "{}"
            ]
          },
          "metadata": {},
          "execution_count": 33
        }
      ]
    },
    {
      "cell_type": "markdown",
      "metadata": {
        "id": "aNVJK1EnmGcQ"
      },
      "source": [
        "## set "
      ]
    },
    {
      "cell_type": "markdown",
      "metadata": {
        "id": "MAZrlFpXmGcQ"
      },
      "source": [
        "Properties of a set\n",
        "+ Unordered\n",
        "+ Only unique values\n",
        "+ Immutable elements\n",
        "+ Iterable\n",
        "+ Heterogenous\n",
        "+ Mutable"
      ]
    },
    {
      "cell_type": "code",
      "metadata": {
        "id": "BwHkGtfWmGcQ",
        "colab": {
          "base_uri": "https://localhost:8080/"
        },
        "outputId": "fe63e968-30c1-4754-f9e2-68b0a9ab5b5f"
      },
      "source": [
        "s1 = {}\n",
        "type(s1)"
      ],
      "execution_count": 34,
      "outputs": [
        {
          "output_type": "execute_result",
          "data": {
            "text/plain": [
              "dict"
            ]
          },
          "metadata": {},
          "execution_count": 34
        }
      ]
    },
    {
      "cell_type": "code",
      "metadata": {
        "id": "FUykPtT-mGcQ",
        "colab": {
          "base_uri": "https://localhost:8080/"
        },
        "outputId": "8c9d6a47-56e2-435b-ae21-ceca66cec3d7"
      },
      "source": [
        "s1 = set()\n",
        "type(s1)"
      ],
      "execution_count": 35,
      "outputs": [
        {
          "output_type": "execute_result",
          "data": {
            "text/plain": [
              "set"
            ]
          },
          "metadata": {},
          "execution_count": 35
        }
      ]
    },
    {
      "cell_type": "code",
      "metadata": {
        "id": "eaycRbk7mGcR",
        "colab": {
          "base_uri": "https://localhost:8080/"
        },
        "outputId": "499b9778-e924-43eb-b88e-d49fc4f3268f"
      },
      "source": [
        "s1"
      ],
      "execution_count": 36,
      "outputs": [
        {
          "output_type": "execute_result",
          "data": {
            "text/plain": [
              "set()"
            ]
          },
          "metadata": {},
          "execution_count": 36
        }
      ]
    },
    {
      "cell_type": "markdown",
      "metadata": {
        "id": "jfh1ffk_mGcR"
      },
      "source": [
        "## Creating a Set"
      ]
    },
    {
      "cell_type": "code",
      "metadata": {
        "id": "3LEnu9aSmGcU",
        "colab": {
          "base_uri": "https://localhost:8080/"
        },
        "outputId": "1703cb16-1e50-4dfb-b697-b3353b24323b"
      },
      "source": [
        "s1 = {11,12,3,40,15}\n",
        "type(s1)"
      ],
      "execution_count": 37,
      "outputs": [
        {
          "output_type": "execute_result",
          "data": {
            "text/plain": [
              "set"
            ]
          },
          "metadata": {},
          "execution_count": 37
        }
      ]
    },
    {
      "cell_type": "code",
      "metadata": {
        "id": "TZMbkfMSmGcV",
        "colab": {
          "base_uri": "https://localhost:8080/"
        },
        "outputId": "ff12bf21-6cb3-4e2d-887f-8f1bd1339358"
      },
      "source": [
        "s1"
      ],
      "execution_count": 38,
      "outputs": [
        {
          "output_type": "execute_result",
          "data": {
            "text/plain": [
              "{3, 11, 12, 15, 40}"
            ]
          },
          "metadata": {},
          "execution_count": 38
        }
      ]
    },
    {
      "cell_type": "code",
      "metadata": {
        "id": "Mew9fdPgmGcV",
        "colab": {
          "base_uri": "https://localhost:8080/"
        },
        "outputId": "9b7aad62-4c92-4fba-d65e-6f6d5424934e"
      },
      "source": [
        "s2 = {1,1,2,3}\n",
        "s2"
      ],
      "execution_count": 39,
      "outputs": [
        {
          "output_type": "execute_result",
          "data": {
            "text/plain": [
              "{1, 2, 3}"
            ]
          },
          "metadata": {},
          "execution_count": 39
        }
      ]
    },
    {
      "cell_type": "code",
      "metadata": {
        "id": "825hd4CqmGcW",
        "colab": {
          "base_uri": "https://localhost:8080/"
        },
        "outputId": "8c02e9e1-29f0-4586-810a-359d025002d3"
      },
      "source": [
        "for elem in s1:\n",
        "    print(elem)"
      ],
      "execution_count": 40,
      "outputs": [
        {
          "output_type": "stream",
          "name": "stdout",
          "text": [
            "3\n",
            "40\n",
            "11\n",
            "12\n",
            "15\n"
          ]
        }
      ]
    },
    {
      "cell_type": "markdown",
      "metadata": {
        "id": "9AeCkVJsmGcW"
      },
      "source": [
        "### a. Using literals"
      ]
    },
    {
      "cell_type": "code",
      "metadata": {
        "id": "HW2YeTD-mGcW"
      },
      "source": [
        "s1 = {'a',100,(10,20)}"
      ],
      "execution_count": 41,
      "outputs": []
    },
    {
      "cell_type": "code",
      "metadata": {
        "id": "-wpZLLCEmGcX",
        "colab": {
          "base_uri": "https://localhost:8080/"
        },
        "outputId": "6c1a60fe-2304-490e-8437-fb28226b15e8"
      },
      "source": [
        "s1"
      ],
      "execution_count": 42,
      "outputs": [
        {
          "output_type": "execute_result",
          "data": {
            "text/plain": [
              "{(10, 20), 100, 'a'}"
            ]
          },
          "metadata": {},
          "execution_count": 42
        }
      ]
    },
    {
      "cell_type": "code",
      "metadata": {
        "id": "nk2GkB_vmGcX",
        "colab": {
          "base_uri": "https://localhost:8080/",
          "height": 162
        },
        "outputId": "18eaa84f-39a6-4e31-d779-38f8b1c0b4bd"
      },
      "source": [
        "s2 = {'a',100,[10,20]}"
      ],
      "execution_count": 43,
      "outputs": [
        {
          "output_type": "error",
          "ename": "TypeError",
          "evalue": "ignored",
          "traceback": [
            "\u001b[0;31m---------------------------------------------------------------------------\u001b[0m",
            "\u001b[0;31mTypeError\u001b[0m                                 Traceback (most recent call last)",
            "\u001b[0;32m<ipython-input-43-cb7a34f535c1>\u001b[0m in \u001b[0;36m<module>\u001b[0;34m()\u001b[0m\n\u001b[0;32m----> 1\u001b[0;31m \u001b[0ms2\u001b[0m \u001b[0;34m=\u001b[0m \u001b[0;34m{\u001b[0m\u001b[0;34m'a'\u001b[0m\u001b[0;34m,\u001b[0m\u001b[0;36m100\u001b[0m\u001b[0;34m,\u001b[0m\u001b[0;34m[\u001b[0m\u001b[0;36m10\u001b[0m\u001b[0;34m,\u001b[0m\u001b[0;36m20\u001b[0m\u001b[0;34m]\u001b[0m\u001b[0;34m}\u001b[0m\u001b[0;34m\u001b[0m\u001b[0;34m\u001b[0m\u001b[0m\n\u001b[0m",
            "\u001b[0;31mTypeError\u001b[0m: unhashable type: 'list'"
          ]
        }
      ]
    },
    {
      "cell_type": "markdown",
      "metadata": {
        "id": "c1r7-WgqmGcX"
      },
      "source": [
        "### b. set constructor"
      ]
    },
    {
      "cell_type": "code",
      "metadata": {
        "id": "lIeZ5luDmGcX",
        "colab": {
          "base_uri": "https://localhost:8080/"
        },
        "outputId": "935f81fe-4f10-435d-98ae-9e976d168663"
      },
      "source": [
        "s3 = set([1,2,3,4])\n",
        "s3"
      ],
      "execution_count": 44,
      "outputs": [
        {
          "output_type": "execute_result",
          "data": {
            "text/plain": [
              "{1, 2, 3, 4}"
            ]
          },
          "metadata": {},
          "execution_count": 44
        }
      ]
    },
    {
      "cell_type": "code",
      "metadata": {
        "id": "_oVlP-LUmGcY",
        "colab": {
          "base_uri": "https://localhost:8080/"
        },
        "outputId": "4a66bc33-90c1-45fc-c1d5-b2f2c9d77413"
      },
      "source": [
        "s4 = set('python')\n",
        "s4"
      ],
      "execution_count": 45,
      "outputs": [
        {
          "output_type": "execute_result",
          "data": {
            "text/plain": [
              "{'h', 'n', 'o', 'p', 't', 'y'}"
            ]
          },
          "metadata": {},
          "execution_count": 45
        }
      ]
    },
    {
      "cell_type": "code",
      "metadata": {
        "id": "qbDhOwmqmGcY",
        "colab": {
          "base_uri": "https://localhost:8080/"
        },
        "outputId": "f3b8d45d-79f6-4879-e974-6533e7010ead"
      },
      "source": [
        "s4 = set('baaabaaa')\n",
        "s4"
      ],
      "execution_count": 46,
      "outputs": [
        {
          "output_type": "execute_result",
          "data": {
            "text/plain": [
              "{'a', 'b'}"
            ]
          },
          "metadata": {},
          "execution_count": 46
        }
      ]
    },
    {
      "cell_type": "code",
      "metadata": {
        "id": "166jwVzUmGcY",
        "colab": {
          "base_uri": "https://localhost:8080/"
        },
        "outputId": "b6d5717c-4f2f-476c-8753-30a271dd43e2"
      },
      "source": [
        "s5 = set(range(10))\n",
        "s5"
      ],
      "execution_count": 47,
      "outputs": [
        {
          "output_type": "execute_result",
          "data": {
            "text/plain": [
              "{0, 1, 2, 3, 4, 5, 6, 7, 8, 9}"
            ]
          },
          "metadata": {},
          "execution_count": 47
        }
      ]
    },
    {
      "cell_type": "markdown",
      "metadata": {
        "id": "CNJKxlVymGcZ"
      },
      "source": [
        "## Adding Elements "
      ]
    },
    {
      "cell_type": "code",
      "metadata": {
        "id": "AvLl82PjmGcZ",
        "colab": {
          "base_uri": "https://localhost:8080/"
        },
        "outputId": "fefdbc05-55ae-4b8b-f08c-dce1352a8cd3"
      },
      "source": [
        "s6 = {10,20,30}\n",
        "s6.add(40)\n",
        "s6"
      ],
      "execution_count": 51,
      "outputs": [
        {
          "output_type": "execute_result",
          "data": {
            "text/plain": [
              "{10, 20, 30, 40}"
            ]
          },
          "metadata": {},
          "execution_count": 51
        }
      ]
    },
    {
      "cell_type": "markdown",
      "metadata": {
        "id": "01PTJbLhmGcZ"
      },
      "source": [
        "## Remove elements"
      ]
    },
    {
      "cell_type": "code",
      "metadata": {
        "id": "B3rv2ZohmGca",
        "colab": {
          "base_uri": "https://localhost:8080/"
        },
        "outputId": "6b00df29-e27d-47e3-d9f0-c118a27f53db"
      },
      "source": [
        "s6.remove(30)\n",
        "s6"
      ],
      "execution_count": 49,
      "outputs": [
        {
          "output_type": "execute_result",
          "data": {
            "text/plain": [
              "{10, 20, 40}"
            ]
          },
          "metadata": {},
          "execution_count": 49
        }
      ]
    },
    {
      "cell_type": "code",
      "metadata": {
        "id": "TtD0xDOxmGca",
        "colab": {
          "base_uri": "https://localhost:8080/",
          "height": 162
        },
        "outputId": "a97dc495-b112-4efe-9b9a-b491741a9865"
      },
      "source": [
        "s6.remove(70)"
      ],
      "execution_count": 50,
      "outputs": [
        {
          "output_type": "error",
          "ename": "KeyError",
          "evalue": "ignored",
          "traceback": [
            "\u001b[0;31m---------------------------------------------------------------------------\u001b[0m",
            "\u001b[0;31mKeyError\u001b[0m                                  Traceback (most recent call last)",
            "\u001b[0;32m<ipython-input-50-9c0df1eda7b5>\u001b[0m in \u001b[0;36m<module>\u001b[0;34m()\u001b[0m\n\u001b[0;32m----> 1\u001b[0;31m \u001b[0ms6\u001b[0m\u001b[0;34m.\u001b[0m\u001b[0mremove\u001b[0m\u001b[0;34m(\u001b[0m\u001b[0;36m70\u001b[0m\u001b[0;34m)\u001b[0m\u001b[0;34m\u001b[0m\u001b[0;34m\u001b[0m\u001b[0m\n\u001b[0m",
            "\u001b[0;31mKeyError\u001b[0m: 70"
          ]
        }
      ]
    },
    {
      "cell_type": "code",
      "metadata": {
        "id": "c9YCFPnXmGca"
      },
      "source": [
        "s6.discard(70)"
      ],
      "execution_count": 52,
      "outputs": []
    },
    {
      "cell_type": "code",
      "metadata": {
        "id": "xjtfwX3tmGca",
        "colab": {
          "base_uri": "https://localhost:8080/"
        },
        "outputId": "46e66876-b75d-4f26-e2eb-e0cb25fa6dd6"
      },
      "source": [
        "s6.pop()\n",
        "s6"
      ],
      "execution_count": 53,
      "outputs": [
        {
          "output_type": "execute_result",
          "data": {
            "text/plain": [
              "{10, 20, 30}"
            ]
          },
          "metadata": {},
          "execution_count": 53
        }
      ]
    },
    {
      "cell_type": "code",
      "metadata": {
        "id": "xsHe-kmemGcb"
      },
      "source": [
        "s6.clear()"
      ],
      "execution_count": 54,
      "outputs": []
    },
    {
      "cell_type": "markdown",
      "metadata": {
        "id": "1anAZ-UwmGcb"
      },
      "source": [
        "## Common Operations"
      ]
    },
    {
      "cell_type": "code",
      "metadata": {
        "id": "AmHP10ramGcb"
      },
      "source": [
        "s7 = {1,2,3,4,5,6,7}"
      ],
      "execution_count": 55,
      "outputs": []
    },
    {
      "cell_type": "code",
      "metadata": {
        "id": "gS1v-4nDmGcb",
        "colab": {
          "base_uri": "https://localhost:8080/"
        },
        "outputId": "6ad7c596-693c-41a9-828e-68e2494d046f"
      },
      "source": [
        "len(s7)"
      ],
      "execution_count": 56,
      "outputs": [
        {
          "output_type": "execute_result",
          "data": {
            "text/plain": [
              "7"
            ]
          },
          "metadata": {},
          "execution_count": 56
        }
      ]
    },
    {
      "cell_type": "code",
      "metadata": {
        "id": "PsPyuUMDmGcc",
        "colab": {
          "base_uri": "https://localhost:8080/"
        },
        "outputId": "edbbccba-4d9d-40fa-c447-6f616e2fb813"
      },
      "source": [
        "7 in s7 , 9 in s7"
      ],
      "execution_count": 57,
      "outputs": [
        {
          "output_type": "execute_result",
          "data": {
            "text/plain": [
              "(True, False)"
            ]
          },
          "metadata": {},
          "execution_count": 57
        }
      ]
    },
    {
      "cell_type": "code",
      "metadata": {
        "id": "453D4THcmGcc",
        "colab": {
          "base_uri": "https://localhost:8080/"
        },
        "outputId": "9450aa19-66cc-401b-dcc0-6675d48fd121"
      },
      "source": [
        "7 not in s7 , 9 not in s7"
      ],
      "execution_count": 58,
      "outputs": [
        {
          "output_type": "execute_result",
          "data": {
            "text/plain": [
              "(False, True)"
            ]
          },
          "metadata": {},
          "execution_count": 58
        }
      ]
    }
  ]
}